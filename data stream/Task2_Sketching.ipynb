{
 "cells": [
  {
   "cell_type": "markdown",
   "metadata": {},
   "source": [
    "# Task 2. Sketching\n",
    "\n",
    "Build code for computing a COUNT-MIN sketch, play with different heights and widths for the Count-Min sketch matrix. Compare it to the RESERVOIR sampling strategy. Is it more space-efficient/accurate? What about run-time? Use the theory to explain any differences you observe."
   ]
  },
  {
   "cell_type": "markdown",
   "metadata": {},
   "source": [
    "Here we use scenario 2 (CTU-Malware-Capture-Botnet-43) for the task. \n",
    "\n",
    "Per the documentaion for the dataset, the number of differnt types of flow on this scenario is:\n",
    "\n",
    "| Total flows | Botnet flows | Normal flows | C&C flows | Background flows |\n",
    "|-------------|--------------|--------------|-----------|------------------|\n",
    "| 1,808,122   | 1.04%        |  0.5%        | 0.11%     | 98.33%           |\n",
    "\n",
    "The infected IP address is ***147.32.84.165***."
   ]
  },
  {
   "cell_type": "markdown",
   "metadata": {},
   "source": [
    "## Data Preparation"
   ]
  },
  {
   "cell_type": "code",
   "execution_count": 6,
   "metadata": {},
   "outputs": [],
   "source": [
    "import struct\n",
    "import hashlib\n",
    "import sys\n",
    "import random as rd\n",
    "import numpy as np\n",
    "import struct\n",
    "from math import log, inf\n",
    "from pylab import *\n",
    "import pandas as pd\n",
    "import matplotlib.pyplot as plt\n",
    "import time"
   ]
  },
  {
   "cell_type": "markdown",
   "metadata": {},
   "source": [
    "Reading the file with the stream"
   ]
  },
  {
   "cell_type": "code",
   "execution_count": 7,
   "metadata": {},
   "outputs": [],
   "source": [
    "# define filepath for scenario 1 dataset\n",
    "filepath = './data/capture20110811.pcap.netflow.labeled'\n",
    "\n",
    "# read data from the file\n",
    "f = open(filepath, 'r')\n",
    "lines = f.readlines()\n",
    "f.close()\n",
    "data = lines[1:] # drop the header"
   ]
  },
  {
   "cell_type": "markdown",
   "metadata": {},
   "source": [
    "Preparing the data"
   ]
  },
  {
   "cell_type": "code",
   "execution_count": 8,
   "metadata": {},
   "outputs": [],
   "source": [
    "def preprocessing(data):\n",
    "    '''data preprocessing\n",
    "    Input\n",
    "    -----\n",
    "    string of a data flow\n",
    "    \n",
    "    Return\n",
    "    ------\n",
    "    ip_address and label\n",
    "    '''\n",
    "    s = data.split('\\t')\n",
    "    s = [x for x in s if x] # remove empty elements\n",
    "    # modify data type\n",
    "    o = np.array([s[3].split(':')[0], #ScrAddr\n",
    "                  s[5].split(':')[0], #DstAddr\n",
    "                  s[11].rstrip('\\n').rstrip() #Label\n",
    "                 ])\n",
    "    return o"
   ]
  },
  {
   "cell_type": "markdown",
   "metadata": {},
   "source": [
    "Creating a data frame using the function above"
   ]
  },
  {
   "cell_type": "code",
   "execution_count": 9,
   "metadata": {},
   "outputs": [],
   "source": [
    "df = pd.DataFrame(list(map(preprocessing, data)), columns=['ScrAddr', 'DstAddr', 'Label'])"
   ]
  },
  {
   "cell_type": "markdown",
   "metadata": {},
   "source": [
    "## Creating the min-count sketch functions"
   ]
  },
  {
   "cell_type": "markdown",
   "metadata": {},
   "source": [
    "Creating funtion that generates a random hash"
   ]
  },
  {
   "cell_type": "code",
   "execution_count": 10,
   "metadata": {},
   "outputs": [],
   "source": [
    "#Getting how many bits your python is running om\n",
    "PythonBits=struct.calcsize(\"P\") * 8\n",
    "#Generating random hash function\n",
    "def hash_function():\n",
    "    \n",
    "    #Generating a random number\n",
    "    n=rd.randint(1,10**15)\n",
    "    \n",
    "    #Generating a random seed\n",
    "    rd.seed(n)\n",
    "    \n",
    "    #Generating a random bit\n",
    "    random_bit = rd.getrandbits(PythonBits)\n",
    " \n",
    "    #Definining a hash function using the random bit\n",
    "    def randomhash(x):\n",
    "        return hash(x) ^ random_bit\n",
    "    \n",
    "    return randomhash"
   ]
  },
  {
   "cell_type": "markdown",
   "metadata": {},
   "source": [
    "Creating a function that skecth a stream give an epsilon and a delta"
   ]
  },
  {
   "cell_type": "code",
   "execution_count": 11,
   "metadata": {},
   "outputs": [],
   "source": [
    "#Creating function that skecth\n",
    "\n",
    "def Sketch(stream,epsilon,delta):\n",
    "    \n",
    "    #Calculating skectch dimensions based on epsilon and delta\n",
    "    Vector_Size = int(2/epsilon)\n",
    "    NumberOfHashFunctions = int(log(1/delta))\n",
    "    \n",
    "    #Creating matrix with zeros\n",
    "    Matrix=np.zeros([NumberOfHashFunctions,Vector_Size])\n",
    "    \n",
    "    #Generating 'd' hash functions\n",
    "    hash_functions = [hash_function() for i in range(NumberOfHashFunctions)]\n",
    "    \n",
    "    #Generating matrix with zeros\n",
    "    sketch_matrix = np.zeros((NumberOfHashFunctions, Vector_Size), dtype = 'int32')\n",
    "    \n",
    "    #Going through the stream and adding ones for the hash\n",
    "    for element in stream:\n",
    "        for function_counter in range(len(hash_functions)):\n",
    "            row = function_counter\n",
    "            column = hash_functions[function_counter](element)%Vector_Size\n",
    "            sketch_matrix[row,column] += 1\n",
    "    \n",
    "    #Return the sketch matrix and function to be used in the query\n",
    "    return [sketch_matrix,hash_functions]"
   ]
  },
  {
   "cell_type": "markdown",
   "metadata": {},
   "source": [
    "Creating a function that query the sketch using the sketch matrix and the hash functions used to generate the sketch, both provided by the function \"Sketch\""
   ]
  },
  {
   "cell_type": "code",
   "execution_count": 12,
   "metadata": {},
   "outputs": [],
   "source": [
    "#Querying function\n",
    "def query_hash(sketch_matrix,hash_functions,element):\n",
    "    \n",
    "    #Defining counting\n",
    "    count = inf\n",
    "    \n",
    "    #Getting the vector_size\n",
    "    Vector_Size = sketch_matrix.shape[1]\n",
    "    \n",
    "    #Looping through the hash functions to get the min value\n",
    "    \n",
    "    for function_counter in range(len(hash_functions)):\n",
    "        row = function_counter\n",
    "        column = hash_functions[function_counter](element) % Vector_Size\n",
    "        if sketch_matrix[row,column]<count:\n",
    "            count = sketch_matrix[row,column]\n",
    "    return count"
   ]
  },
  {
   "cell_type": "markdown",
   "metadata": {},
   "source": [
    "Testing if the function is working using a testing stream"
   ]
  },
  {
   "cell_type": "code",
   "execution_count": 13,
   "metadata": {},
   "outputs": [
    {
     "name": "stdout",
     "output_type": "stream",
     "text": [
      "1 : 1\n",
      "2 : 2\n",
      "3 : 3\n",
      "4 : 4\n",
      "5 : 5\n",
      "6 : 6\n",
      "7 : 7\n",
      "8 : 8\n",
      "9 : 9\n"
     ]
    }
   ],
   "source": [
    "#Selecting Parameters\n",
    "epsilon = 0.005\n",
    "delta = 0.005\n",
    "\n",
    "#Testing for stream with 1 1s, 2 2s, 3 3s, 4 4s, 5 5s, 6 6s, 7 7s, 8 8s, and 9 9s.\n",
    "stream = [1,2,2,3,3,3,4,4,4,4,5,5,5,5,5,6,6,6,6,6,6,7,7,7,7,7,7,7,8,8,8,8,8,8,8,8,9,9,9,9,9,9,9,9,9]\n",
    "sketch_matrix , hash_functions = Sketch(stream,epsilon,delta)\n",
    "\n",
    "#Testing the query\n",
    "for element in set(stream):\n",
    "    \n",
    "    query = query_hash(sketch_matrix,hash_functions,element)\n",
    "    print(str(element) + \" : \" + str(query))"
   ]
  },
  {
   "cell_type": "markdown",
   "metadata": {},
   "source": [
    "## Running the functions to create sketchs on the stream data provided"
   ]
  },
  {
   "cell_type": "markdown",
   "metadata": {},
   "source": [
    "Creating sketching using the data frame using different heights and widths for the Count-Min sketch matrix"
   ]
  },
  {
   "cell_type": "code",
   "execution_count": 14,
   "metadata": {},
   "outputs": [],
   "source": [
    "#Creating a stream in a list format from the dataframe with all the streams\n",
    "ScrAddr_list = list(df.loc[:,\"ScrAddr\"])\n",
    "DstAddr_list = list(df.loc[:,\"DstAddr\"])\n",
    "Label_list = list(df.loc[:,\"Label\"])\n",
    "\n",
    "#Playing with different heights and widths for the count-min sketch\n",
    "epsilon_list = [0.0001,0.001,0.01,0.1]\n",
    "\n",
    "delta_list = [0.0001,0.001,0.01,0.1]\n",
    "\n",
    "#Creating dictionary to save the sketchs and hash functions\n",
    "DictTime = dict()\n",
    "\n",
    "#Looping\n",
    "for epsilon in epsilon_list:\n",
    "    \n",
    "    for delta in delta_list:\n",
    "        \n",
    "        #Skecthing column 'ScrAddr'\n",
    "        start_time = time.time()\n",
    "        sketch_ScrAddr,hashfunctions_ScrAddr = Sketch(ScrAddr_list,epsilon,delta)\n",
    "        DictTime[\"e:\"+str(epsilon)+\"|d:\"+str(delta)+\"|ScrAddr\"] = [sketch_ScrAddr,hashfunctions_ScrAddr,(time.time() - start_time)]\n",
    "        \n",
    "        #Skecthing column 'DstAddr'\n",
    "        start_time = time.time()\n",
    "        sketch_DstAddr,hashfunctions_DstAddr = Sketch(DstAddr_list,epsilon,delta)\n",
    "        DictTime[\"e:\"+str(epsilon)+\"|d:\"+str(delta)+\"|DstAddr\"] = [sketch_DstAddr,hashfunctions_DstAddr,(time.time() - start_time)]\n",
    "        \n",
    "DictSketch=DictTime\n",
    "#for key,value in DictTime.items():\n",
    "#    print(value[2])"
   ]
  },
  {
   "cell_type": "markdown",
   "metadata": {},
   "source": [
    "## Calculating the memory space used and time spent on the creation of sketchs"
   ]
  },
  {
   "cell_type": "markdown",
   "metadata": {},
   "source": [
    "Calculating the memory space used for the sketch and hash functions, and organizing the time and memory space in a data frame"
   ]
  },
  {
   "cell_type": "code",
   "execution_count": 15,
   "metadata": {},
   "outputs": [],
   "source": [
    "# Creatin a dataframe to time spent per column\n",
    "performance_df = pd.DataFrame(columns=['Variable','Epsilon','Delta','Time','Space'])\n",
    "index = 0\n",
    "# Creating variable list for the loop\n",
    "variables_list=['ScrAddr','DstAddr']\n",
    "\n",
    "#Looping through all the possible skethchs\n",
    "for epsilon in epsilon_list:\n",
    "    \n",
    "    for delta in delta_list:\n",
    "        \n",
    "        for variable in variables_list:\n",
    "            \n",
    "            #Getting the time spent in the algorithm\n",
    "            time = DictTime[\"e:\" + str(epsilon) + \"|d:\" + str(delta) + \"|\" + variable][2]\n",
    "            #Getting the memory space used in the sketch and hashfunctions\n",
    "            space_sketch = int(DictTime[\"e:\" + str(epsilon) + \"|d:\" + str(delta) + \"|\" + variable][0].nbytes)\n",
    "            space_hashfunctions = int(sys.getsizeof(DictTime[\"e:\" + str(epsilon) + \"|d:\" + str(delta) + \"|\" + variable][1]))\n",
    "            total_memory_space = int(space_sketch + space_hashfunctions)\n",
    "            #Append to the data frame\n",
    "            performance_df.loc[index]=[variable,epsilon,delta,time,total_memory_space]\n",
    "            index += 1\n",
    "\n",
    "#Converting space to numeric            \n",
    "performance_df.loc[:,\"Space\"] = pd.to_numeric(performance_df.loc[:,\"Space\"])"
   ]
  },
  {
   "cell_type": "markdown",
   "metadata": {},
   "source": [
    "Plotting the time performance and the space performance by combination of delta and epsilon\n",
    "obs: Uses O{(1/ε).ln(n/δ)} memory and  O{ln(n/δ)} update time\n"
   ]
  },
  {
   "cell_type": "markdown",
   "metadata": {},
   "source": [
    "Time Performance is clearly logarithm on delta, as expected."
   ]
  },
  {
   "cell_type": "code",
   "execution_count": 16,
   "metadata": {
    "scrolled": true
   },
   "outputs": [
    {
     "data": {
      "text/plain": [
       "Text(0, 0.5, 'Time (in seconds)')"
      ]
     },
     "execution_count": 16,
     "metadata": {},
     "output_type": "execute_result"
    },
    {
     "data": {
      "image/png": "[encoded data removed]",
      "text/plain": [
       "<Figure size 432x288 with 1 Axes>"
      ]
     },
     "metadata": {
      "needs_background": "light"
     },
     "output_type": "display_data"
    }
   ],
   "source": [
    "plt.plot(performance_df.groupby('Delta')['Time'].mean().sort_values(ascending=True))\n",
    "plt.title('Logarithm behavior on time spent to create a sketch by delta')\n",
    "plt.xlabel('Delta values')\n",
    "plt.ylabel('Time (in seconds)')"
   ]
  },
  {
   "cell_type": "markdown",
   "metadata": {},
   "source": [
    "Space Performance is clearly logarithm on delta, as expected."
   ]
  },
  {
   "cell_type": "code",
   "execution_count": 17,
   "metadata": {},
   "outputs": [
    {
     "data": {
      "text/plain": [
       "Text(0, 0.5, 'Bytes')"
      ]
     },
     "execution_count": 17,
     "metadata": {},
     "output_type": "execute_result"
    },
    {
     "data": {
      "image/png": "[encoded data removed]",
      "text/plain": [
       "<Figure size 432x288 with 1 Axes>"
      ]
     },
     "metadata": {
      "needs_background": "light"
     },
     "output_type": "display_data"
    }
   ],
   "source": [
    "plt.plot(performance_df.groupby('Delta')['Space'].mean().sort_values(ascending=True))\n",
    "plt.title('Logarithm behavior on memory space used to create a sketch by delta')\n",
    "plt.xlabel('Delta values')\n",
    "plt.ylabel('Bytes')"
   ]
  },
  {
   "cell_type": "markdown",
   "metadata": {},
   "source": [
    "Space Performance is clearly linear on 1/epsilon, as expected."
   ]
  },
  {
   "cell_type": "code",
   "execution_count": 18,
   "metadata": {},
   "outputs": [
    {
     "data": {
      "text/plain": [
       "Text(0, 0.5, 'Bytes')"
      ]
     },
     "execution_count": 18,
     "metadata": {},
     "output_type": "execute_result"
    },
    {
     "data": {
      "image/png": "[encoded data removed]",
      "text/plain": [
       "<Figure size 432x288 with 1 Axes>"
      ]
     },
     "metadata": {
      "needs_background": "light"
     },
     "output_type": "display_data"
    }
   ],
   "source": [
    "# Taking the ratio 1/Epsilon\n",
    "performance_df1 = performance_df.copy()\n",
    "performance_df1.loc[:,\"Epsilon\"] = 1/performance_df1.loc[:,\"Epsilon\"]\n",
    "\n",
    "# Ploting\n",
    "plt.plot(performance_df1.groupby('Epsilon')['Space'].mean().sort_values(ascending=True))\n",
    "plt.title('Linear behavior of 1/epsilon on the memory space used to create sketches')\n",
    "plt.xlabel('1/Epsilon')\n",
    "plt.ylabel('Bytes')"
   ]
  },
  {
   "cell_type": "markdown",
   "metadata": {},
   "source": [
    "## Comparing the performance of the sketch with the reservoir sampling"
   ]
  },
  {
   "cell_type": "markdown",
   "metadata": {},
   "source": [
    "Reservoir function (the same used for task 1 but that only creates the reservoir instead of calculating the top10)"
   ]
  },
  {
   "cell_type": "code",
   "execution_count": 19,
   "metadata": {},
   "outputs": [],
   "source": [
    "def reservoir_sampling(k=60000, full_df=False):\n",
    "    '''sampling through a reservoir of size k\n",
    "    Parameter\n",
    "    ---------\n",
    "    k : reservoir size\n",
    "    \n",
    "    Return\n",
    "    ------\n",
    "    top10 : the top 10 most frequent infected ip_address and freq count\n",
    "    pp : proportion of reservoir size to stream size\n",
    "    exe_time : execution time of reservoir sampling\n",
    "    '''\n",
    "    START = time.time()\n",
    "    \n",
    "    reservoir = list(map(preprocessing, data[:k]))\n",
    "    for i in range(k+1, len(data)):\n",
    "        # for pi, randomly replace j-th data in the reservoir with i-th data\n",
    "        if np.random.random() < k/i: # probability pi=k/i\n",
    "            j = int(np.random.randint(0, k, 1))\n",
    "            reservoir[j] = preprocessing(data[i])\n",
    "    reservoir_df = pd.DataFrame(reservoir, columns=['ScrAddr', 'DstAddr', 'Label'])\n",
    "    \n",
    "    # get the top10 most frequent ip and their frequencies\n",
    "    #ips = df.loc[df['Label'] == 'Botnet']\n",
    "    #infected_ips = ips.drop(columns=['Label']).values.reshape(-1) # flaten the array\n",
    "    #infected_ips = np.delete(infected_ips, np.where(infected_ips == INFECTED_HOST))\n",
    "    #count = np.unique(infected_ips, return_counts=True)\n",
    "    #count = pd.DataFrame({'ip' : count[0],\n",
    "    #                      'freq' : count[1]})\n",
    "    #if not full_df: # return top 10 most frequent\n",
    "    #    top10 = count.sort_values('freq', ascending=False).head(10)\n",
    "    #else: # return all df\n",
    "    #    top10 = count.sort_values('freq', ascending=False)\n",
    "    #pp = np.round(k/len(data), 3) # proportion of reservoir size to stream size\n",
    "    \n",
    "    #END = time.time()\n",
    "    \n",
    "    return reservoir_df"
   ]
  },
  {
   "cell_type": "markdown",
   "metadata": {},
   "source": [
    "### Time and Memory performance"
   ]
  },
  {
   "cell_type": "markdown",
   "metadata": {},
   "source": [
    "Creating reservoirs with different sizes and calculating the time and memory space spent"
   ]
  },
  {
   "cell_type": "code",
   "execution_count": 20,
   "metadata": {},
   "outputs": [],
   "source": [
    "import time\n",
    "#List reservoir sizes\n",
    "reservoir_sizes = [1000,10000,100000,1000000]\n",
    "# Creating variable list for the loop\n",
    "variables_list=['ScrAddr','DstAddr']\n",
    "#Dictionary to save the size and the time spent\n",
    "DictReservoir = dict()\n",
    "\n",
    "#Looping through the reservoir_size and calculating the time spent and the reservoir\n",
    "for reservoir_size in reservoir_sizes:\n",
    "    \n",
    "    start_time = time.time()\n",
    "    reservoir_sample = reservoir_sampling(reservoir_size)\n",
    "    reservoir_time_spent = (time.time() - start_time)\n",
    "    \n",
    "    for variable in variables_list:\n",
    "        \n",
    "        reservoir_sample_variable=reservoir_sample[variable]\n",
    "        DictReservoir[\"K:\"+str(reservoir_size)+\"|Variable: \"+variable] = [variable,reservoir_sample_variable,reservoir_time_spent]"
   ]
  },
  {
   "cell_type": "markdown",
   "metadata": {},
   "source": [
    "Formating the time and memory spent into dataframes"
   ]
  },
  {
   "cell_type": "code",
   "execution_count": 21,
   "metadata": {},
   "outputs": [],
   "source": [
    "# Creatin a dataframe to time spent per column\n",
    "reservoir_performance_df= pd.DataFrame(columns=['Variable','K','Time','Space'])\n",
    "index = 0\n",
    "# Creating variable list for the loop\n",
    "variables_list=['ScrAddr','DstAddr']\n",
    "\n",
    "#Looping through all the possible skethchs\n",
    "for K in reservoir_sizes:\n",
    "    for variable in variables_list:\n",
    "            \n",
    "        #Getting the time spent in the algorithm\n",
    "        time = DictReservoir[\"K:\"+str(K)+\"|Variable: \"+variable][2]\n",
    "        #Getting the memory space used in the sketch and hashfunctions\n",
    "        space= sys.getsizeof(DictReservoir[\"K:\"+str(K)+\"|Variable: \"+variable][1])\n",
    "        #Append to the data frame\n",
    "        reservoir_performance_df.loc[index]=[variable,K,time,space]\n",
    "        index += 1\n",
    "\n",
    "#Converting space to numeric            \n",
    "reservoir_performance_df.loc[:,\"Space\"] = pd.to_numeric(reservoir_performance_df.loc[:,\"Space\"])"
   ]
  },
  {
   "cell_type": "markdown",
   "metadata": {},
   "source": [
    "Time performance for reservoir"
   ]
  },
  {
   "cell_type": "code",
   "execution_count": 22,
   "metadata": {},
   "outputs": [
    {
     "data": {
      "text/plain": [
       "Text(0, 0.5, 'Time (in seconds)')"
      ]
     },
     "execution_count": 22,
     "metadata": {},
     "output_type": "execute_result"
    },
    {
     "data": {
      "image/png": "[encoded data removed]",
      "text/plain": [
       "<Figure size 432x288 with 1 Axes>"
      ]
     },
     "metadata": {
      "needs_background": "light"
     },
     "output_type": "display_data"
    }
   ],
   "source": [
    "plt.plot(reservoir_performance_df.groupby('K')['Time'].mean().sort_values(ascending=True))\n",
    "plt.title('Roughtly Linear behavior on time spent to create a reservoir by reservoir size')\n",
    "plt.xlabel('Reservoir Size (K)')\n",
    "plt.ylabel('Time (in seconds)')"
   ]
  },
  {
   "cell_type": "markdown",
   "metadata": {},
   "source": [
    "Memory performance for the reservoir"
   ]
  },
  {
   "cell_type": "code",
   "execution_count": 23,
   "metadata": {},
   "outputs": [
    {
     "data": {
      "text/plain": [
       "Text(0, 0.5, 'Bytes')"
      ]
     },
     "execution_count": 23,
     "metadata": {},
     "output_type": "execute_result"
    },
    {
     "data": {
      "image/png": "[encoded data removed]",
      "text/plain": [
       "<Figure size 432x288 with 1 Axes>"
      ]
     },
     "metadata": {
      "needs_background": "light"
     },
     "output_type": "display_data"
    }
   ],
   "source": [
    "plt.plot(reservoir_performance_df.groupby('K')['Space'].mean().sort_values(ascending=True))\n",
    "plt.title('Linear behavior on space memory spent to create a reservoir by reservoir size')\n",
    "plt.xlabel('Reservoir Size (K)')\n",
    "plt.ylabel('Bytes')"
   ]
  },
  {
   "cell_type": "markdown",
   "metadata": {},
   "source": [
    "### Trying to find non-frequent IPs in the reservoir and in the sketch"
   ]
  },
  {
   "cell_type": "markdown",
   "metadata": {},
   "source": [
    "Count in the real dataset the infect IPs that appear the most and the least"
   ]
  },
  {
   "cell_type": "code",
   "execution_count": 24,
   "metadata": {},
   "outputs": [],
   "source": [
    "INFECTED_HOST = '147.32.84.165'\n",
    "ips = df.loc[df['Label'] == 'Botnet']\n",
    "infected_ips = ips.drop(columns=['Label']).values.reshape(-1) # flaten the array\n",
    "infected_ips = np.delete(infected_ips, np.where(infected_ips == INFECTED_HOST))\n",
    "count = np.unique(infected_ips, return_counts=True)\n",
    "count = pd.DataFrame({'ip' : count[0],\n",
    "                      'freq' : count[1]})\n",
    "top10_most = count.sort_values('freq', ascending=False).head(10).reset_index()\n",
    "top10_least = count.sort_values('freq', ascending=True).head(10).reset_index()\n"
   ]
  },
  {
   "cell_type": "markdown",
   "metadata": {},
   "source": [
    "Using reservoir to verify the exitence of the infect IPs that appear the least, it can be seen that NOT EVEN ONE IP was found for ALL the reservoir created"
   ]
  },
  {
   "cell_type": "code",
   "execution_count": 25,
   "metadata": {},
   "outputs": [
    {
     "data": {
      "text/html": [
       "<div>\n",
       "<style scoped>\n",
       "    .dataframe tbody tr th:only-of-type {\n",
       "        vertical-align: middle;\n",
       "    }\n",
       "\n",
       "    .dataframe tbody tr th {\n",
       "        vertical-align: top;\n",
       "    }\n",
       "\n",
       "    .dataframe thead th {\n",
       "        text-align: right;\n",
       "    }\n",
       "</style>\n",
       "<table border=\"1\" class=\"dataframe\">\n",
       "  <thead>\n",
       "    <tr style=\"text-align: right;\">\n",
       "      <th></th>\n",
       "      <th>Variable</th>\n",
       "      <th>K</th>\n",
       "      <th>Time</th>\n",
       "      <th>Space</th>\n",
       "      <th>NumberOfInexistentIPs</th>\n",
       "    </tr>\n",
       "  </thead>\n",
       "  <tbody>\n",
       "    <tr>\n",
       "      <th>0</th>\n",
       "      <td>ScrAddr</td>\n",
       "      <td>1000</td>\n",
       "      <td>3.657171</td>\n",
       "      <td>101809</td>\n",
       "      <td>10</td>\n",
       "    </tr>\n",
       "    <tr>\n",
       "      <th>1</th>\n",
       "      <td>DstAddr</td>\n",
       "      <td>1000</td>\n",
       "      <td>3.657171</td>\n",
       "      <td>101873</td>\n",
       "      <td>10</td>\n",
       "    </tr>\n",
       "    <tr>\n",
       "      <th>2</th>\n",
       "      <td>ScrAddr</td>\n",
       "      <td>10000</td>\n",
       "      <td>4.789639</td>\n",
       "      <td>1017311</td>\n",
       "      <td>10</td>\n",
       "    </tr>\n",
       "    <tr>\n",
       "      <th>3</th>\n",
       "      <td>DstAddr</td>\n",
       "      <td>10000</td>\n",
       "      <td>4.789639</td>\n",
       "      <td>1017411</td>\n",
       "      <td>10</td>\n",
       "    </tr>\n",
       "    <tr>\n",
       "      <th>4</th>\n",
       "      <td>ScrAddr</td>\n",
       "      <td>100000</td>\n",
       "      <td>9.966798</td>\n",
       "      <td>10172369</td>\n",
       "      <td>10</td>\n",
       "    </tr>\n",
       "    <tr>\n",
       "      <th>5</th>\n",
       "      <td>DstAddr</td>\n",
       "      <td>100000</td>\n",
       "      <td>9.966798</td>\n",
       "      <td>10172899</td>\n",
       "      <td>10</td>\n",
       "    </tr>\n",
       "    <tr>\n",
       "      <th>6</th>\n",
       "      <td>ScrAddr</td>\n",
       "      <td>1000000</td>\n",
       "      <td>35.699639</td>\n",
       "      <td>101718159</td>\n",
       "      <td>10</td>\n",
       "    </tr>\n",
       "    <tr>\n",
       "      <th>7</th>\n",
       "      <td>DstAddr</td>\n",
       "      <td>1000000</td>\n",
       "      <td>35.699639</td>\n",
       "      <td>101731239</td>\n",
       "      <td>10</td>\n",
       "    </tr>\n",
       "  </tbody>\n",
       "</table>\n",
       "</div>"
      ],
      "text/plain": [
       "  Variable        K       Time      Space  NumberOfInexistentIPs\n",
       "0  ScrAddr     1000   3.657171     101809                     10\n",
       "1  DstAddr     1000   3.657171     101873                     10\n",
       "2  ScrAddr    10000   4.789639    1017311                     10\n",
       "3  DstAddr    10000   4.789639    1017411                     10\n",
       "4  ScrAddr   100000   9.966798   10172369                     10\n",
       "5  DstAddr   100000   9.966798   10172899                     10\n",
       "6  ScrAddr  1000000  35.699639  101718159                     10\n",
       "7  DstAddr  1000000  35.699639  101731239                     10"
      ]
     },
     "execution_count": 25,
     "metadata": {},
     "output_type": "execute_result"
    }
   ],
   "source": [
    "reservoir_performance_df[\"NumberOfInexistentIPs\"] = 0\n",
    "\n",
    "for row in range(len(reservoir_performance_df)):\n",
    "    \n",
    "    reservoir_ScrAddr = DictReservoir[\"K:\"+str(reservoir_performance_df.loc[row,\"K\"])+\"|Variable: \"+'ScrAddr'][1]\n",
    "    reservoir_DstAddr = DictReservoir[\"K:\"+str(reservoir_performance_df.loc[row,\"K\"])+\"|Variable: \"+'DstAddr'][1]\n",
    "    number_of_inexistent_ips = 0\n",
    "    \n",
    "    for i in range(len(top10_least)):\n",
    "        \n",
    "        if (not top10_least.loc[i,\"ip\"] in reservoir_ScrAddr ) and (not top10_least.loc[i,\"ip\"] in reservoir_DstAddr) :\n",
    "            \n",
    "            number_of_inexistent_ips += 1\n",
    "            \n",
    "\n",
    "    reservoir_performance_df.loc[row,\"NumberOfInexistentIPs\"]=number_of_inexistent_ips\n",
    "        \n",
    "reservoir_performance_df       "
   ]
  },
  {
   "cell_type": "markdown",
   "metadata": {},
   "source": [
    "Using sketch to verify the exitence of the infect IPs that appear the least, it can be seen ALL 10 IPs were found for ALL the sketch created - since the number of inexistent IPs is zero, it can be concluded that all were found =)"
   ]
  },
  {
   "cell_type": "code",
   "execution_count": 26,
   "metadata": {},
   "outputs": [
    {
     "data": {
      "text/html": [
       "<div>\n",
       "<style scoped>\n",
       "    .dataframe tbody tr th:only-of-type {\n",
       "        vertical-align: middle;\n",
       "    }\n",
       "\n",
       "    .dataframe tbody tr th {\n",
       "        vertical-align: top;\n",
       "    }\n",
       "\n",
       "    .dataframe thead th {\n",
       "        text-align: right;\n",
       "    }\n",
       "</style>\n",
       "<table border=\"1\" class=\"dataframe\">\n",
       "  <thead>\n",
       "    <tr style=\"text-align: right;\">\n",
       "      <th></th>\n",
       "      <th>Variable</th>\n",
       "      <th>Epsilon</th>\n",
       "      <th>Delta</th>\n",
       "      <th>Time</th>\n",
       "      <th>Space</th>\n",
       "      <th>NumberOfInexistentIPs</th>\n",
       "    </tr>\n",
       "  </thead>\n",
       "  <tbody>\n",
       "    <tr>\n",
       "      <th>0</th>\n",
       "      <td>ScrAddr</td>\n",
       "      <td>0.0001</td>\n",
       "      <td>0.0001</td>\n",
       "      <td>47.804544</td>\n",
       "      <td>720192</td>\n",
       "      <td>0</td>\n",
       "    </tr>\n",
       "    <tr>\n",
       "      <th>1</th>\n",
       "      <td>DstAddr</td>\n",
       "      <td>0.0001</td>\n",
       "      <td>0.0001</td>\n",
       "      <td>71.781020</td>\n",
       "      <td>720192</td>\n",
       "      <td>0</td>\n",
       "    </tr>\n",
       "    <tr>\n",
       "      <th>2</th>\n",
       "      <td>ScrAddr</td>\n",
       "      <td>0.0001</td>\n",
       "      <td>0.0010</td>\n",
       "      <td>66.281808</td>\n",
       "      <td>480128</td>\n",
       "      <td>0</td>\n",
       "    </tr>\n",
       "    <tr>\n",
       "      <th>3</th>\n",
       "      <td>DstAddr</td>\n",
       "      <td>0.0001</td>\n",
       "      <td>0.0010</td>\n",
       "      <td>63.172588</td>\n",
       "      <td>480128</td>\n",
       "      <td>0</td>\n",
       "    </tr>\n",
       "    <tr>\n",
       "      <th>4</th>\n",
       "      <td>ScrAddr</td>\n",
       "      <td>0.0001</td>\n",
       "      <td>0.0100</td>\n",
       "      <td>29.119346</td>\n",
       "      <td>320096</td>\n",
       "      <td>0</td>\n",
       "    </tr>\n",
       "    <tr>\n",
       "      <th>5</th>\n",
       "      <td>DstAddr</td>\n",
       "      <td>0.0001</td>\n",
       "      <td>0.0100</td>\n",
       "      <td>21.146827</td>\n",
       "      <td>320096</td>\n",
       "      <td>0</td>\n",
       "    </tr>\n",
       "    <tr>\n",
       "      <th>6</th>\n",
       "      <td>ScrAddr</td>\n",
       "      <td>0.0001</td>\n",
       "      <td>0.1000</td>\n",
       "      <td>11.686506</td>\n",
       "      <td>160096</td>\n",
       "      <td>0</td>\n",
       "    </tr>\n",
       "    <tr>\n",
       "      <th>7</th>\n",
       "      <td>DstAddr</td>\n",
       "      <td>0.0001</td>\n",
       "      <td>0.1000</td>\n",
       "      <td>12.104729</td>\n",
       "      <td>160096</td>\n",
       "      <td>0</td>\n",
       "    </tr>\n",
       "    <tr>\n",
       "      <th>8</th>\n",
       "      <td>ScrAddr</td>\n",
       "      <td>0.0010</td>\n",
       "      <td>0.0001</td>\n",
       "      <td>44.797035</td>\n",
       "      <td>72192</td>\n",
       "      <td>0</td>\n",
       "    </tr>\n",
       "    <tr>\n",
       "      <th>9</th>\n",
       "      <td>DstAddr</td>\n",
       "      <td>0.0010</td>\n",
       "      <td>0.0001</td>\n",
       "      <td>45.404739</td>\n",
       "      <td>72192</td>\n",
       "      <td>0</td>\n",
       "    </tr>\n",
       "    <tr>\n",
       "      <th>10</th>\n",
       "      <td>ScrAddr</td>\n",
       "      <td>0.0010</td>\n",
       "      <td>0.0010</td>\n",
       "      <td>31.502074</td>\n",
       "      <td>48128</td>\n",
       "      <td>0</td>\n",
       "    </tr>\n",
       "    <tr>\n",
       "      <th>11</th>\n",
       "      <td>DstAddr</td>\n",
       "      <td>0.0010</td>\n",
       "      <td>0.0010</td>\n",
       "      <td>59.656178</td>\n",
       "      <td>48128</td>\n",
       "      <td>0</td>\n",
       "    </tr>\n",
       "    <tr>\n",
       "      <th>12</th>\n",
       "      <td>ScrAddr</td>\n",
       "      <td>0.0010</td>\n",
       "      <td>0.0100</td>\n",
       "      <td>41.346569</td>\n",
       "      <td>32096</td>\n",
       "      <td>0</td>\n",
       "    </tr>\n",
       "    <tr>\n",
       "      <th>13</th>\n",
       "      <td>DstAddr</td>\n",
       "      <td>0.0010</td>\n",
       "      <td>0.0100</td>\n",
       "      <td>51.079435</td>\n",
       "      <td>32096</td>\n",
       "      <td>0</td>\n",
       "    </tr>\n",
       "    <tr>\n",
       "      <th>14</th>\n",
       "      <td>ScrAddr</td>\n",
       "      <td>0.0010</td>\n",
       "      <td>0.1000</td>\n",
       "      <td>29.344857</td>\n",
       "      <td>16096</td>\n",
       "      <td>0</td>\n",
       "    </tr>\n",
       "    <tr>\n",
       "      <th>15</th>\n",
       "      <td>DstAddr</td>\n",
       "      <td>0.0010</td>\n",
       "      <td>0.1000</td>\n",
       "      <td>19.164356</td>\n",
       "      <td>16096</td>\n",
       "      <td>0</td>\n",
       "    </tr>\n",
       "    <tr>\n",
       "      <th>16</th>\n",
       "      <td>ScrAddr</td>\n",
       "      <td>0.0100</td>\n",
       "      <td>0.0001</td>\n",
       "      <td>66.637848</td>\n",
       "      <td>7392</td>\n",
       "      <td>0</td>\n",
       "    </tr>\n",
       "    <tr>\n",
       "      <th>17</th>\n",
       "      <td>DstAddr</td>\n",
       "      <td>0.0100</td>\n",
       "      <td>0.0001</td>\n",
       "      <td>44.013941</td>\n",
       "      <td>7392</td>\n",
       "      <td>0</td>\n",
       "    </tr>\n",
       "    <tr>\n",
       "      <th>18</th>\n",
       "      <td>ScrAddr</td>\n",
       "      <td>0.0100</td>\n",
       "      <td>0.0010</td>\n",
       "      <td>29.327074</td>\n",
       "      <td>4928</td>\n",
       "      <td>0</td>\n",
       "    </tr>\n",
       "    <tr>\n",
       "      <th>19</th>\n",
       "      <td>DstAddr</td>\n",
       "      <td>0.0100</td>\n",
       "      <td>0.0010</td>\n",
       "      <td>28.998224</td>\n",
       "      <td>4928</td>\n",
       "      <td>0</td>\n",
       "    </tr>\n",
       "    <tr>\n",
       "      <th>20</th>\n",
       "      <td>ScrAddr</td>\n",
       "      <td>0.0100</td>\n",
       "      <td>0.0100</td>\n",
       "      <td>24.830588</td>\n",
       "      <td>3296</td>\n",
       "      <td>0</td>\n",
       "    </tr>\n",
       "    <tr>\n",
       "      <th>21</th>\n",
       "      <td>DstAddr</td>\n",
       "      <td>0.0100</td>\n",
       "      <td>0.0100</td>\n",
       "      <td>29.420770</td>\n",
       "      <td>3296</td>\n",
       "      <td>0</td>\n",
       "    </tr>\n",
       "    <tr>\n",
       "      <th>22</th>\n",
       "      <td>ScrAddr</td>\n",
       "      <td>0.0100</td>\n",
       "      <td>0.1000</td>\n",
       "      <td>18.691935</td>\n",
       "      <td>1696</td>\n",
       "      <td>0</td>\n",
       "    </tr>\n",
       "    <tr>\n",
       "      <th>23</th>\n",
       "      <td>DstAddr</td>\n",
       "      <td>0.0100</td>\n",
       "      <td>0.1000</td>\n",
       "      <td>19.642011</td>\n",
       "      <td>1696</td>\n",
       "      <td>0</td>\n",
       "    </tr>\n",
       "    <tr>\n",
       "      <th>24</th>\n",
       "      <td>ScrAddr</td>\n",
       "      <td>0.1000</td>\n",
       "      <td>0.0001</td>\n",
       "      <td>67.811478</td>\n",
       "      <td>912</td>\n",
       "      <td>0</td>\n",
       "    </tr>\n",
       "    <tr>\n",
       "      <th>25</th>\n",
       "      <td>DstAddr</td>\n",
       "      <td>0.1000</td>\n",
       "      <td>0.0001</td>\n",
       "      <td>68.069093</td>\n",
       "      <td>912</td>\n",
       "      <td>0</td>\n",
       "    </tr>\n",
       "    <tr>\n",
       "      <th>26</th>\n",
       "      <td>ScrAddr</td>\n",
       "      <td>0.1000</td>\n",
       "      <td>0.0010</td>\n",
       "      <td>49.079780</td>\n",
       "      <td>608</td>\n",
       "      <td>0</td>\n",
       "    </tr>\n",
       "    <tr>\n",
       "      <th>27</th>\n",
       "      <td>DstAddr</td>\n",
       "      <td>0.1000</td>\n",
       "      <td>0.0010</td>\n",
       "      <td>47.307312</td>\n",
       "      <td>608</td>\n",
       "      <td>0</td>\n",
       "    </tr>\n",
       "    <tr>\n",
       "      <th>28</th>\n",
       "      <td>ScrAddr</td>\n",
       "      <td>0.1000</td>\n",
       "      <td>0.0100</td>\n",
       "      <td>32.602033</td>\n",
       "      <td>416</td>\n",
       "      <td>0</td>\n",
       "    </tr>\n",
       "    <tr>\n",
       "      <th>29</th>\n",
       "      <td>DstAddr</td>\n",
       "      <td>0.1000</td>\n",
       "      <td>0.0100</td>\n",
       "      <td>29.920400</td>\n",
       "      <td>416</td>\n",
       "      <td>0</td>\n",
       "    </tr>\n",
       "    <tr>\n",
       "      <th>30</th>\n",
       "      <td>ScrAddr</td>\n",
       "      <td>0.1000</td>\n",
       "      <td>0.1000</td>\n",
       "      <td>17.256088</td>\n",
       "      <td>256</td>\n",
       "      <td>0</td>\n",
       "    </tr>\n",
       "    <tr>\n",
       "      <th>31</th>\n",
       "      <td>DstAddr</td>\n",
       "      <td>0.1000</td>\n",
       "      <td>0.1000</td>\n",
       "      <td>18.022256</td>\n",
       "      <td>256</td>\n",
       "      <td>0</td>\n",
       "    </tr>\n",
       "  </tbody>\n",
       "</table>\n",
       "</div>"
      ],
      "text/plain": [
       "   Variable  Epsilon   Delta       Time   Space  NumberOfInexistentIPs\n",
       "0   ScrAddr   0.0001  0.0001  47.804544  720192                      0\n",
       "1   DstAddr   0.0001  0.0001  71.781020  720192                      0\n",
       "2   ScrAddr   0.0001  0.0010  66.281808  480128                      0\n",
       "3   DstAddr   0.0001  0.0010  63.172588  480128                      0\n",
       "4   ScrAddr   0.0001  0.0100  29.119346  320096                      0\n",
       "5   DstAddr   0.0001  0.0100  21.146827  320096                      0\n",
       "6   ScrAddr   0.0001  0.1000  11.686506  160096                      0\n",
       "7   DstAddr   0.0001  0.1000  12.104729  160096                      0\n",
       "8   ScrAddr   0.0010  0.0001  44.797035   72192                      0\n",
       "9   DstAddr   0.0010  0.0001  45.404739   72192                      0\n",
       "10  ScrAddr   0.0010  0.0010  31.502074   48128                      0\n",
       "11  DstAddr   0.0010  0.0010  59.656178   48128                      0\n",
       "12  ScrAddr   0.0010  0.0100  41.346569   32096                      0\n",
       "13  DstAddr   0.0010  0.0100  51.079435   32096                      0\n",
       "14  ScrAddr   0.0010  0.1000  29.344857   16096                      0\n",
       "15  DstAddr   0.0010  0.1000  19.164356   16096                      0\n",
       "16  ScrAddr   0.0100  0.0001  66.637848    7392                      0\n",
       "17  DstAddr   0.0100  0.0001  44.013941    7392                      0\n",
       "18  ScrAddr   0.0100  0.0010  29.327074    4928                      0\n",
       "19  DstAddr   0.0100  0.0010  28.998224    4928                      0\n",
       "20  ScrAddr   0.0100  0.0100  24.830588    3296                      0\n",
       "21  DstAddr   0.0100  0.0100  29.420770    3296                      0\n",
       "22  ScrAddr   0.0100  0.1000  18.691935    1696                      0\n",
       "23  DstAddr   0.0100  0.1000  19.642011    1696                      0\n",
       "24  ScrAddr   0.1000  0.0001  67.811478     912                      0\n",
       "25  DstAddr   0.1000  0.0001  68.069093     912                      0\n",
       "26  ScrAddr   0.1000  0.0010  49.079780     608                      0\n",
       "27  DstAddr   0.1000  0.0010  47.307312     608                      0\n",
       "28  ScrAddr   0.1000  0.0100  32.602033     416                      0\n",
       "29  DstAddr   0.1000  0.0100  29.920400     416                      0\n",
       "30  ScrAddr   0.1000  0.1000  17.256088     256                      0\n",
       "31  DstAddr   0.1000  0.1000  18.022256     256                      0"
      ]
     },
     "execution_count": 26,
     "metadata": {},
     "output_type": "execute_result"
    }
   ],
   "source": [
    "sketch_performance_df=performance_df.copy()\n",
    "sketch_performance_df[\"NumberOfInexistentIPs\"] = 0\n",
    "\n",
    "for row in range(len(performance_df)):\n",
    "        \n",
    "        epsilon =  sketch_performance_df.loc[row,\"Epsilon\"]\n",
    "        delta = sketch_performance_df.loc[row,\"Delta\"]\n",
    "        \n",
    "        sketch_ScrAddr = DictSketch[\"e:\"+str(epsilon)+\"|d:\"+str(delta)+\"|ScrAddr\"][0]\n",
    "        hash_ScrAddr = DictSketch[\"e:\"+str(epsilon)+\"|d:\"+str(delta)+\"|ScrAddr\"][1]\n",
    "        sketch_DstAddr = DictSketch[\"e:\"+str(epsilon)+\"|d:\"+str(delta)+\"|DstAddr\"][0]\n",
    "        hash_DstAddr = DictSketch[\"e:\"+str(epsilon)+\"|d:\"+str(delta)+\"|DstAddr\"][1]\n",
    "        \n",
    "        number_of_inexistent_ips = 0\n",
    "    \n",
    "        for i in range(len(top10_least)):\n",
    "        \n",
    "            if (query_hash(sketch_ScrAddr,hash_ScrAddr,top10_least.loc[i,\"ip\"])==0) and (query_hash(sketch_DstAddr,hash_DstAddr,top10_least.loc[i,\"ip\"])==0):\n",
    "            \n",
    "                number_of_inexistent_ips += 1\n",
    "            \n",
    "\n",
    "        sketch_performance_df.loc[row,\"NumberOfInexistentIPs\"]=number_of_inexistent_ips\n",
    "        \n",
    "sketch_performance_df      "
   ]
  }
 ],
 "metadata": {
  "kernelspec": {
   "display_name": "Python 3",
   "language": "python",
   "name": "python3"
  },
  "language_info": {
   "codemirror_mode": {
    "name": "ipython",
    "version": 3
   },
   "file_extension": ".py",
   "mimetype": "text/x-python",
   "name": "python",
   "nbconvert_exporter": "python",
   "pygments_lexer": "ipython3",
   "version": "3.7.3"
  }
 },
 "nbformat": 4,
 "nbformat_minor": 2
}
