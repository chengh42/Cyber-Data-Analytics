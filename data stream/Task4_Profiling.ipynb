{
 "cells": [
  {
   "cell_type": "markdown",
   "metadata": {},
   "source": [
    "# Data streaming\n",
    "\n",
    "## Task 4. Botnet profiling task\n",
    "\n",
    "Group 97\n",
    "\n",
    "Choose a probabilistic sequential model (Markov chain, n-grams, state machines, HMMs, ...) Use a sliding window to obtain sequence data. Learn a probabilistic sequential model from the data of one infected host and match its profile with all other hosts from the same scenario. Evaluate how many new infections your method finds and false positives it raises. Can you determine what behaviour your profile detects?\n",
    "\n",
    "Per documentation, the distribution of labels in the NetFlows for scenario 10 in the dataset is:\n",
    "\n",
    "Total flows | Botnet flows    | Normal flows  | C&C flows  | Background flows\n",
    "------------|-----------------|---------------|------------|-------------------\n",
    "1,309,791   | 106,315 (8.11%) | 15,847 (1.2%) | 37 (.002%) | 1,187,592 (90.67%)\n",
    "\n",
    "Reference: \"An empirical comparison of botnet detection methods\" Sebastian Garcia, Martin Grill, Jan Stiborek and Alejandro Zunino. Computers and Security Journal, Elsevier. 2014. Vol 45, pp 100-123. http://dx.doi.org/10.1016/j.cose.2014.05.011"
   ]
  },
  {
   "cell_type": "code",
   "execution_count": 1,
   "metadata": {},
   "outputs": [],
   "source": [
    "import pandas as pd\n",
    "import numpy as np\n",
    "import random\n",
    "import matplotlib.pyplot as plt\n",
    "import seaborn as sns\n",
    "from sklearn.preprocessing import LabelEncoder, scale\n",
    "from sklearn.cluster import KMeans\n",
    "from sklearn.metrics import confusion_matrix\n",
    "from string import ascii_lowercase\n",
    "\n",
    "import warnings\n",
    "from sklearn.exceptions import DataConversionWarning\n",
    "warnings.filterwarnings(action='ignore', category=DataConversionWarning) # disable specific warning\n",
    "\n",
    "np.random.seed(42)\n",
    "random.seed(42)\n",
    "%matplotlib inline"
   ]
  },
  {
   "cell_type": "code",
   "execution_count": 2,
   "metadata": {},
   "outputs": [],
   "source": [
    "# define filepath for scenario 10 dataset\n",
    "filepath = './data/capture20110818.pcap.netflow.labeled'\n",
    "\n",
    "# read data from the file\n",
    "f = open(filepath, 'r')\n",
    "lines = f.readlines()\n",
    "f.close()\n",
    "data = lines[1:] # drop the header"
   ]
  },
  {
   "cell_type": "code",
   "execution_count": 3,
   "metadata": {},
   "outputs": [],
   "source": [
    "def preprocessing_remove_Background(data):\n",
    "    '''data preprocessing\n",
    "    Input\n",
    "    -----\n",
    "    data: string of a data flow\n",
    "    \n",
    "    Return\n",
    "    ------\n",
    "    o = None, if Background flow (to be removed)\n",
    "    o = cleaned, formated data, if not Background flow\n",
    "    '''\n",
    "    if not 'Background' in data:\n",
    "        s = data.split('\\t')\n",
    "        s = [x for x in s if x] # remove empty elements\n",
    "        if len(s) < 12: # special fix for an outlier string @2011-08-18 12:18:31.264\n",
    "            s = s[0].rsplit(' ', 11) \n",
    "        o = np.array([pd.to_datetime(s[0], format='%Y-%m-%d %H:%M:%S.%f'), # timestamp\n",
    "                      float(s[1]), # duration\n",
    "                      s[2], # protocol\n",
    "                      s[3].split(':')[0], # ScrAddr\n",
    "                      s[5].split(':')[0], # DstAddr\n",
    "                      s[6].lstrip('_').rstrip('_').rstrip(), # flags\n",
    "                      int(s[7]), # Tos\n",
    "                      int(s[8]), # packets\n",
    "                      int(s[9]), # bytes\n",
    "                      int(s[10]), # flows\n",
    "                      s[11].rstrip('\\n').rstrip() # label\n",
    "                     ])\n",
    "    else: # if Background flow\n",
    "        o = None\n",
    "    return o"
   ]
  },
  {
   "cell_type": "code",
   "execution_count": 4,
   "metadata": {},
   "outputs": [],
   "source": [
    "df = list(map(preprocessing_remove_Background, data)) # data preprocessing\n",
    "df = [x for x in df if isinstance(x, np.ndarray)] # remove background flows\n",
    "df = pd.DataFrame(df, columns=['Time', 'Duration', 'Protocol', 'ScrAddr', 'DstAddr', \n",
    "                               'Flags', 'Tos', 'Packets', 'Bytes', 'Flows', 'Label'])\n",
    "df.set_index('Time', drop=True, inplace=True)"
   ]
  },
  {
   "cell_type": "code",
   "execution_count": 5,
   "metadata": {},
   "outputs": [
    {
     "data": {
      "text/html": [
       "<div>\n",
       "<style scoped>\n",
       "    .dataframe tbody tr th:only-of-type {\n",
       "        vertical-align: middle;\n",
       "    }\n",
       "\n",
       "    .dataframe tbody tr th {\n",
       "        vertical-align: top;\n",
       "    }\n",
       "\n",
       "    .dataframe thead th {\n",
       "        text-align: right;\n",
       "    }\n",
       "</style>\n",
       "<table border=\"1\" class=\"dataframe\">\n",
       "  <thead>\n",
       "    <tr style=\"text-align: right;\">\n",
       "      <th></th>\n",
       "      <th>Duration</th>\n",
       "      <th>Protocol</th>\n",
       "      <th>ScrAddr</th>\n",
       "      <th>DstAddr</th>\n",
       "      <th>Flags</th>\n",
       "      <th>Tos</th>\n",
       "      <th>Packets</th>\n",
       "      <th>Bytes</th>\n",
       "      <th>Flows</th>\n",
       "      <th>Label</th>\n",
       "    </tr>\n",
       "    <tr>\n",
       "      <th>Time</th>\n",
       "      <th></th>\n",
       "      <th></th>\n",
       "      <th></th>\n",
       "      <th></th>\n",
       "      <th></th>\n",
       "      <th></th>\n",
       "      <th></th>\n",
       "      <th></th>\n",
       "      <th></th>\n",
       "      <th></th>\n",
       "    </tr>\n",
       "  </thead>\n",
       "  <tbody>\n",
       "    <tr>\n",
       "      <th>2011-08-18 10:19:13.347</th>\n",
       "      <td>4.985</td>\n",
       "      <td>TCP</td>\n",
       "      <td>147.32.80.13</td>\n",
       "      <td>147.32.85.88</td>\n",
       "      <td>PA</td>\n",
       "      <td>0</td>\n",
       "      <td>91</td>\n",
       "      <td>86277</td>\n",
       "      <td>1</td>\n",
       "      <td>LEGITIMATE</td>\n",
       "    </tr>\n",
       "    <tr>\n",
       "      <th>2011-08-18 10:19:13.392</th>\n",
       "      <td>0.000</td>\n",
       "      <td>TCP</td>\n",
       "      <td>147.32.86.110</td>\n",
       "      <td>74.125.232.214</td>\n",
       "      <td>A</td>\n",
       "      <td>0</td>\n",
       "      <td>1</td>\n",
       "      <td>66</td>\n",
       "      <td>1</td>\n",
       "      <td>LEGITIMATE</td>\n",
       "    </tr>\n",
       "    <tr>\n",
       "      <th>2011-08-18 10:19:13.411</th>\n",
       "      <td>4.921</td>\n",
       "      <td>TCP</td>\n",
       "      <td>147.32.85.88</td>\n",
       "      <td>147.32.80.13</td>\n",
       "      <td>A</td>\n",
       "      <td>0</td>\n",
       "      <td>49</td>\n",
       "      <td>3234</td>\n",
       "      <td>1</td>\n",
       "      <td>LEGITIMATE</td>\n",
       "    </tr>\n",
       "    <tr>\n",
       "      <th>2011-08-18 10:19:13.460</th>\n",
       "      <td>4.742</td>\n",
       "      <td>TCP</td>\n",
       "      <td>147.32.84.59</td>\n",
       "      <td>74.125.108.208</td>\n",
       "      <td>A</td>\n",
       "      <td>0</td>\n",
       "      <td>118</td>\n",
       "      <td>7080</td>\n",
       "      <td>1</td>\n",
       "      <td>LEGITIMATE</td>\n",
       "    </tr>\n",
       "    <tr>\n",
       "      <th>2011-08-18 10:19:13.486</th>\n",
       "      <td>0.000</td>\n",
       "      <td>TCP</td>\n",
       "      <td>147.32.84.59</td>\n",
       "      <td>74.125.232.215</td>\n",
       "      <td>A</td>\n",
       "      <td>0</td>\n",
       "      <td>1</td>\n",
       "      <td>60</td>\n",
       "      <td>1</td>\n",
       "      <td>LEGITIMATE</td>\n",
       "    </tr>\n",
       "  </tbody>\n",
       "</table>\n",
       "</div>"
      ],
      "text/plain": [
       "                         Duration Protocol        ScrAddr         DstAddr  \\\n",
       "Time                                                                        \n",
       "2011-08-18 10:19:13.347     4.985      TCP   147.32.80.13    147.32.85.88   \n",
       "2011-08-18 10:19:13.392     0.000      TCP  147.32.86.110  74.125.232.214   \n",
       "2011-08-18 10:19:13.411     4.921      TCP   147.32.85.88    147.32.80.13   \n",
       "2011-08-18 10:19:13.460     4.742      TCP   147.32.84.59  74.125.108.208   \n",
       "2011-08-18 10:19:13.486     0.000      TCP   147.32.84.59  74.125.232.215   \n",
       "\n",
       "                        Flags  Tos  Packets  Bytes  Flows       Label  \n",
       "Time                                                                   \n",
       "2011-08-18 10:19:13.347    PA    0       91  86277      1  LEGITIMATE  \n",
       "2011-08-18 10:19:13.392     A    0        1     66      1  LEGITIMATE  \n",
       "2011-08-18 10:19:13.411     A    0       49   3234      1  LEGITIMATE  \n",
       "2011-08-18 10:19:13.460     A    0      118   7080      1  LEGITIMATE  \n",
       "2011-08-18 10:19:13.486     A    0        1     60      1  LEGITIMATE  "
      ]
     },
     "execution_count": 5,
     "metadata": {},
     "output_type": "execute_result"
    }
   ],
   "source": [
    "df.head()"
   ]
  },
  {
   "cell_type": "markdown",
   "metadata": {},
   "source": [
    "In this assignment, **normal host 147.32.87.11 is removed** from the analysis because it contains only 4 data flows."
   ]
  },
  {
   "cell_type": "code",
   "execution_count": 6,
   "metadata": {},
   "outputs": [],
   "source": [
    "# list of infected hosts and normal hosts\n",
    "infected_hosts = ['147.32.84.165', '147.32.84.191', '147.32.84.192', \n",
    "                  '147.32.84.193', '147.32.84.204', '147.32.84.205', \n",
    "                  '147.32.84.206', '147.32.84.207', '147.32.84.208', '147.32.84.209']\n",
    "normal_hosts = ['147.32.84.170', '147.32.84.134', '147.32.84.164',\n",
    "                '147.32.87.36', '147.32.80.9'] # 147.32.87.11 is removed as it contains very limited data flows"
   ]
  },
  {
   "cell_type": "code",
   "execution_count": 7,
   "metadata": {},
   "outputs": [
    {
     "name": "stdout",
     "output_type": "stream",
     "text": [
      "For model training, the chosen infected host is 147.32.84.165.\n",
      "\n",
      "For model testing, IP addresses include: \n",
      "['147.32.84.209', '147.32.87.36', '147.32.84.208', '147.32.84.207', '147.32.80.9', '147.32.84.164', '147.32.84.206', '147.32.84.193', '147.32.84.170', '147.32.84.204', '147.32.84.205', '147.32.84.191', '147.32.84.192', '147.32.84.134']\n"
     ]
    }
   ],
   "source": [
    "from random import shuffle\n",
    "\n",
    "# assign one infected host for training\n",
    "INFECTED_HOST = infected_hosts[0]\n",
    "\n",
    "print('For model training, the chosen infected host is {}.\\n'.format(INFECTED_HOST))\n",
    "\n",
    "# the rest are for testing\n",
    "test_hosts = infected_hosts[1:] + normal_hosts\n",
    "shuffle(test_hosts)\n",
    "print('For model testing, IP addresses include: \\n{}'.format(test_hosts))"
   ]
  },
  {
   "cell_type": "markdown",
   "metadata": {},
   "source": [
    "## 1. Train model"
   ]
  },
  {
   "cell_type": "code",
   "execution_count": 8,
   "metadata": {},
   "outputs": [],
   "source": [
    "def get_ngrams_profile(host_ip, n_grams=5):\n",
    "    '''\n",
    "    Parameters \n",
    "    ----------\n",
    "    host_ip : ip address of the speficied host\n",
    "    n_grams : number of grams\n",
    "    \n",
    "    Return\n",
    "    ------\n",
    "    ngrams_profile : profile of the specified host\n",
    "    \n",
    "    '''\n",
    "    # subset data flows associated with the speficied host\n",
    "    df_host = df.loc[(df.ScrAddr == host_ip)|(df.DstAddr == host_ip), \n",
    "                     ['Protocol', 'Packets']] # subset selected features\n",
    "    df_host.Protocol = LabelEncoder().fit_transform(df_host['Protocol']) # label encoding\n",
    "    \n",
    "    # discretise the data flows by clustering\n",
    "    km = KMeans(n_clusters=5, n_jobs=-1, random_state=42)\n",
    "    scale_df = scale(df_host.values)\n",
    "    discretisation = km.fit_predict(scale_df) # using scaled data\n",
    "\n",
    "    # translate numeric discretisation to strings\n",
    "    num_to_string = {} # create a dict with key = numeric element, value = translated string\n",
    "    for i, element in enumerate(np.unique(discretisation)):\n",
    "        num_to_string[element] = ascii_lowercase[i]\n",
    "    translation = [num_to_string[element] for element in discretisation]\n",
    "\n",
    "    # create ngrams\n",
    "    dict_ngrams = {}\n",
    "    for i in range(0, len(translation)-n_grams-1): # loop through the trasnlated string\n",
    "        token = ''.join(translation[i:(i+n_grams)]) # get token through merging n-gram elements (i to(i+n_grams))\n",
    "        next_element = translation[i+n_grams+1] # get the next element (i+n_grams+1)\n",
    "\n",
    "        if token not in dict_ngrams.keys(): # if new n-grams, add key into dict\n",
    "            dict_ngrams[token] = [''.join(next_element)]\n",
    "        else: # if existing n-grams in key, append the next element\n",
    "            dict_ngrams[token].append(next_element)\n",
    "\n",
    "    # calculate likelihoods\n",
    "    ngrams_profile = {} # create a dict with key = ngrams token, \n",
    "                        # values = dict of next elements and their likelihoods\n",
    "    for key in dict_ngrams.keys():\n",
    "        # perform unique counts to the next elements\n",
    "        next_elements, counts = np.unique(dict_ngrams[key], return_counts=True)\n",
    "\n",
    "        likelihood = {}\n",
    "        for i, next_element in enumerate(next_elements): # per next element\n",
    "            likelihood[next_element] = counts[i] / counts.sum() # calculate its likelihood\n",
    "\n",
    "        ngrams_profile[key] = likelihood # append the likelihoods for the token\n",
    "        \n",
    "    return ngrams_profile"
   ]
  },
  {
   "cell_type": "code",
   "execution_count": 9,
   "metadata": {},
   "outputs": [
    {
     "name": "stdout",
     "output_type": "stream",
     "text": [
      "'eeeec': {'c': 0.6, 'e': 0.4} ... (showing only the first key, cropped the following)\n"
     ]
    }
   ],
   "source": [
    "# get profile for the specified infect host\n",
    "NGRAMS = 5\n",
    "profile_infected = get_ngrams_profile(INFECTED_HOST, NGRAMS)\n",
    "\n",
    "# print the results\n",
    "print('\\'{}\\': {} ... (showing only the first key, cropped the following)'.format(list(profile_infected.keys())[0],\n",
    "                                                                                  profile_infected[list(profile_infected.keys())[0]]))"
   ]
  },
  {
   "cell_type": "markdown",
   "metadata": {},
   "source": [
    "## 2. Test model\n",
    "\n",
    "Get the profile for each testing host. Calcualte the similiary / distance of the profile with regard to that of the infected host."
   ]
  },
  {
   "cell_type": "code",
   "execution_count": 10,
   "metadata": {},
   "outputs": [],
   "source": [
    "def compare_profile(profile_infected, profile_test):\n",
    "    '''compare the similarity of testing profile and reference (training, infected) profile\n",
    "    Parameter\n",
    "    ---------\n",
    "    profile_infected: dict of reference profile\n",
    "    profile_test: dict of testing profile\n",
    "    \n",
    "    Return\n",
    "    ------\n",
    "    overall_similarity: score of similiarity\n",
    "    \n",
    "    '''\n",
    "    overall_similarity = []\n",
    "    \n",
    "    # per ngram token, calculate the consine similarity across elements\n",
    "    for token in profile_infected.keys():\n",
    "        if not token in profile_test.keys(): # if token does not exist in reference profile\n",
    "            token_simliarity = 0\n",
    "        else: # token exists in both testing and training (infected) profile\n",
    "            elements = {**profile_infected[token], **profile_test[token]}.keys()\n",
    "            x = [profile_infected[token][key] if key in profile_infected[token].keys() else 0 \n",
    "                 for key in elements]\n",
    "            y = [profile_test[token][key] if key in profile_test[token].keys() else 0 \n",
    "                 for key in elements]\n",
    "            # calculate cosine similarity between both profiles\n",
    "            token_simliarity = np.dot(x, y) / (np.sqrt(np.dot(x, x)) * np.sqrt(np.dot(y, y)))\n",
    "        \n",
    "        overall_similarity.append(token_simliarity)\n",
    "    \n",
    "    #return overall_similarity\n",
    "    overall_similarity = sum(overall_similarity) / len(overall_similarity)        \n",
    "    return overall_similarity"
   ]
  },
  {
   "cell_type": "code",
   "execution_count": 11,
   "metadata": {},
   "outputs": [
    {
     "name": "stderr",
     "output_type": "stream",
     "text": [
      "C:\\Users\\Hsin\\.conda\\envs\\deeplearning\\lib\\site-packages\\sklearn\\cluster\\k_means_.py:971: ConvergenceWarning: Number of distinct clusters (2) found smaller than n_clusters (5). Possibly due to duplicate points in X.\n",
      "  return_n_iter=True)\n"
     ]
    }
   ],
   "source": [
    "# assign threshold for similarity\n",
    "THRESHOLD = 0.14\n",
    "\n",
    "# compare each host profile with the reference (infected) profile\n",
    "comparison = {}\n",
    "\n",
    "for host in test_hosts:\n",
    "    # compare the host's profile with infected profile\n",
    "    profile_test = get_ngrams_profile(host, NGRAMS)\n",
    "    similarity = compare_profile(profile_infected, profile_test)\n",
    "    \n",
    "    # assign predicted label\n",
    "    predicted_label = 0 if similarity < THRESHOLD else 1\n",
    "    \n",
    "    # assign real label\n",
    "    true_label = 1 if host in infected_hosts else 0\n",
    "    \n",
    "    # update dict\n",
    "    comparison.update({host: [similarity, predicted_label, true_label]})"
   ]
  },
  {
   "cell_type": "code",
   "execution_count": 12,
   "metadata": {},
   "outputs": [
    {
     "data": {
      "text/html": [
       "<div>\n",
       "<style scoped>\n",
       "    .dataframe tbody tr th:only-of-type {\n",
       "        vertical-align: middle;\n",
       "    }\n",
       "\n",
       "    .dataframe tbody tr th {\n",
       "        vertical-align: top;\n",
       "    }\n",
       "\n",
       "    .dataframe thead th {\n",
       "        text-align: right;\n",
       "    }\n",
       "</style>\n",
       "<table border=\"1\" class=\"dataframe\">\n",
       "  <thead>\n",
       "    <tr style=\"text-align: right;\">\n",
       "      <th></th>\n",
       "      <th>Host IP address</th>\n",
       "      <th>Similarity</th>\n",
       "      <th>Predicted Label</th>\n",
       "      <th>True Label</th>\n",
       "    </tr>\n",
       "  </thead>\n",
       "  <tbody>\n",
       "    <tr>\n",
       "      <th>7</th>\n",
       "      <td>147.32.84.193</td>\n",
       "      <td>0.774272</td>\n",
       "      <td>1</td>\n",
       "      <td>1</td>\n",
       "    </tr>\n",
       "    <tr>\n",
       "      <th>11</th>\n",
       "      <td>147.32.84.191</td>\n",
       "      <td>0.729274</td>\n",
       "      <td>1</td>\n",
       "      <td>1</td>\n",
       "    </tr>\n",
       "    <tr>\n",
       "      <th>3</th>\n",
       "      <td>147.32.84.207</td>\n",
       "      <td>0.715989</td>\n",
       "      <td>1</td>\n",
       "      <td>1</td>\n",
       "    </tr>\n",
       "    <tr>\n",
       "      <th>12</th>\n",
       "      <td>147.32.84.192</td>\n",
       "      <td>0.699946</td>\n",
       "      <td>1</td>\n",
       "      <td>1</td>\n",
       "    </tr>\n",
       "    <tr>\n",
       "      <th>2</th>\n",
       "      <td>147.32.84.208</td>\n",
       "      <td>0.644928</td>\n",
       "      <td>1</td>\n",
       "      <td>1</td>\n",
       "    </tr>\n",
       "    <tr>\n",
       "      <th>0</th>\n",
       "      <td>147.32.84.209</td>\n",
       "      <td>0.638402</td>\n",
       "      <td>1</td>\n",
       "      <td>1</td>\n",
       "    </tr>\n",
       "    <tr>\n",
       "      <th>6</th>\n",
       "      <td>147.32.84.206</td>\n",
       "      <td>0.421761</td>\n",
       "      <td>1</td>\n",
       "      <td>1</td>\n",
       "    </tr>\n",
       "    <tr>\n",
       "      <th>9</th>\n",
       "      <td>147.32.84.204</td>\n",
       "      <td>0.407949</td>\n",
       "      <td>1</td>\n",
       "      <td>1</td>\n",
       "    </tr>\n",
       "    <tr>\n",
       "      <th>10</th>\n",
       "      <td>147.32.84.205</td>\n",
       "      <td>0.147493</td>\n",
       "      <td>1</td>\n",
       "      <td>1</td>\n",
       "    </tr>\n",
       "    <tr>\n",
       "      <th>13</th>\n",
       "      <td>147.32.84.134</td>\n",
       "      <td>0.134193</td>\n",
       "      <td>0</td>\n",
       "      <td>0</td>\n",
       "    </tr>\n",
       "    <tr>\n",
       "      <th>5</th>\n",
       "      <td>147.32.84.164</td>\n",
       "      <td>0.122535</td>\n",
       "      <td>0</td>\n",
       "      <td>0</td>\n",
       "    </tr>\n",
       "    <tr>\n",
       "      <th>1</th>\n",
       "      <td>147.32.87.36</td>\n",
       "      <td>0.071118</td>\n",
       "      <td>0</td>\n",
       "      <td>0</td>\n",
       "    </tr>\n",
       "    <tr>\n",
       "      <th>8</th>\n",
       "      <td>147.32.84.170</td>\n",
       "      <td>0.026757</td>\n",
       "      <td>0</td>\n",
       "      <td>0</td>\n",
       "    </tr>\n",
       "    <tr>\n",
       "      <th>4</th>\n",
       "      <td>147.32.80.9</td>\n",
       "      <td>0.010241</td>\n",
       "      <td>0</td>\n",
       "      <td>0</td>\n",
       "    </tr>\n",
       "  </tbody>\n",
       "</table>\n",
       "</div>"
      ],
      "text/plain": [
       "   Host IP address  Similarity  Predicted Label  True Label\n",
       "7    147.32.84.193    0.774272                1           1\n",
       "11   147.32.84.191    0.729274                1           1\n",
       "3    147.32.84.207    0.715989                1           1\n",
       "12   147.32.84.192    0.699946                1           1\n",
       "2    147.32.84.208    0.644928                1           1\n",
       "0    147.32.84.209    0.638402                1           1\n",
       "6    147.32.84.206    0.421761                1           1\n",
       "9    147.32.84.204    0.407949                1           1\n",
       "10   147.32.84.205    0.147493                1           1\n",
       "13   147.32.84.134    0.134193                0           0\n",
       "5    147.32.84.164    0.122535                0           0\n",
       "1     147.32.87.36    0.071118                0           0\n",
       "8    147.32.84.170    0.026757                0           0\n",
       "4      147.32.80.9    0.010241                0           0"
      ]
     },
     "execution_count": 12,
     "metadata": {},
     "output_type": "execute_result"
    }
   ],
   "source": [
    "# create a dataframe for the results\n",
    "df_comparison = pd.DataFrame.from_dict(comparison, orient='index')\n",
    "df_comparison.reset_index(drop=False, inplace=True)\n",
    "df_comparison.columns = ['Host IP address', 'Similarity', 'Predicted Label', 'True Label']\n",
    "df_comparison.sort_values('Similarity', ascending=False, inplace=True)\n",
    "df_comparison"
   ]
  },
  {
   "cell_type": "code",
   "execution_count": 26,
   "metadata": {},
   "outputs": [
    {
     "data": {
      "image/png": "[encoded data removed]",
      "text/plain": [
       "<Figure size 720x216 with 1 Axes>"
      ]
     },
     "metadata": {
      "needs_background": "light"
     },
     "output_type": "display_data"
    }
   ],
   "source": [
    "fig, ax = plt.subplots(figsize=(10, 3))\n",
    "sns.barplot(data=df_comparison, x='Host IP address', y='Similarity', hue='True Label', ax=ax)\n",
    "ax.hlines(THRESHOLD, ax.get_xlim()[0], ax.get_xlim()[1], colors='r', linestyles='--')\n",
    "ax.set_title('Similarity score per testing hosts (True label: normal=0, infected=1) vs threshold')\n",
    "ax.set_xticklabels(ax.get_xticklabels(), fontdict={'fontsize': 9}, rotation=75)\n",
    "plt.show()"
   ]
  },
  {
   "cell_type": "code",
   "execution_count": 20,
   "metadata": {},
   "outputs": [
    {
     "data": {
      "text/plain": [
       "[Text(0, 0.5, 'normal'), Text(0, 1.5, 'anomaly')]"
      ]
     },
     "execution_count": 20,
     "metadata": {},
     "output_type": "execute_result"
    },
    {
     "data": {
      "image/png": "[encoded data removed]",
      "text/plain": [
       "<Figure size 432x288 with 2 Axes>"
      ]
     },
     "metadata": {
      "needs_background": "light"
     },
     "output_type": "display_data"
    }
   ],
   "source": [
    "# create confusion matrix plot\n",
    "df_cm = confusion_matrix(df_comparison['True Label'].values,\n",
    "                         df_comparison['Predicted Label'].values)\n",
    "\n",
    "ax = sns.heatmap(df_cm, annot=True, fmt='g')\n",
    "ax.set_xlabel('Predicted labels')\n",
    "ax.set_ylabel('True labels')\n",
    "ax.set_title('Confusion Matrix')\n",
    "ax.xaxis.set_ticklabels(['normal', 'anomaly'])\n",
    "ax.yaxis.set_ticklabels(['normal', 'anomaly'])"
   ]
  }
 ],
 "metadata": {
  "kernelspec": {
   "display_name": "Python 3",
   "language": "python",
   "name": "python3"
  },
  "language_info": {
   "codemirror_mode": {
    "name": "ipython",
    "version": 3
   },
   "file_extension": ".py",
   "mimetype": "text/x-python",
   "name": "python",
   "nbconvert_exporter": "python",
   "pygments_lexer": "ipython3",
   "version": "3.6.8"
  }
 },
 "nbformat": 4,
 "nbformat_minor": 2
}
