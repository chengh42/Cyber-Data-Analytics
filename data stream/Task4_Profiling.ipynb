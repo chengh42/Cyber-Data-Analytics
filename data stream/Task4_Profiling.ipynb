{
 "cells": [
  {
   "cell_type": "markdown",
   "metadata": {},
   "source": [
    "# Data streaming\n",
    "\n",
    "## Task 4. Botnet profiling task\n",
    "\n",
    "Group 97\n",
    "\n",
    "Choose a probabilistic sequential model (Markov chain, n-grams, state machines, HMMs, ...) Use a sliding window to obtain sequence data. Learn a probabilistic sequential model from the data of one infected host and match its profile with all other hosts from the same scenario. Evaluate how many new infections your method finds and false positives it raises. Can you determine what behaviour your profile detects?\n",
    "\n",
    "Per documentation, the distribution of labels in the NetFlows for scenario 10 in the dataset is:\n",
    "\n",
    "Total flows | Botnet flows    | Normal flows  | C&C flows  | Background flows\n",
    "------------|-----------------|---------------|------------|-------------------\n",
    "1,309,791   | 106,315 (8.11%) | 15,847 (1.2%) | 37 (.002%) | 1,187,592 (90.67%)\n",
    "\n",
    "Reference: \"An empirical comparison of botnet detection methods\" Sebastian Garcia, Martin Grill, Jan Stiborek and Alejandro Zunino. Computers and Security Journal, Elsevier. 2014. Vol 45, pp 100-123. http://dx.doi.org/10.1016/j.cose.2014.05.011"
   ]
  },
  {
   "cell_type": "code",
   "execution_count": 1,
   "metadata": {},
   "outputs": [],
   "source": [
    "import pandas as pd\n",
    "import numpy as np\n",
    "import random\n",
    "import matplotlib.pyplot as plt\n",
    "import seaborn as sns\n",
    "from sklearn.preprocessing import LabelEncoder, scale\n",
    "from sklearn.cluster import MiniBatchKMeans\n",
    "\n",
    "np.random.seed(42)\n",
    "random.seed(42)\n",
    "%matplotlib inline"
   ]
  },
  {
   "cell_type": "code",
   "execution_count": 2,
   "metadata": {},
   "outputs": [],
   "source": [
    "# define filepath for scenario 10 dataset\n",
    "filepath = './data/capture20110818.pcap.netflow.labeled'\n",
    "\n",
    "# read data from the file\n",
    "f = open(filepath, 'r')\n",
    "lines = f.readlines()\n",
    "f.close()\n",
    "data = lines[1:] # drop the header"
   ]
  },
  {
   "cell_type": "code",
   "execution_count": 3,
   "metadata": {},
   "outputs": [],
   "source": [
    "def preprocessing(data):\n",
    "    '''data preprocessing\n",
    "    Input\n",
    "    -----\n",
    "    data: string of a data flow\n",
    "    \n",
    "    Return\n",
    "    ------\n",
    "    o = cleaned, formated data\n",
    "    \n",
    "    '''\n",
    "    s = data.split('\\t')\n",
    "    s = [x for x in s if x] # remove empty elements\n",
    "    if len(s) < 12: # special fix for an outlier string @2011-08-18 12:18:31.264\n",
    "        s = s[0].rsplit(' ', 11) \n",
    "    o = np.array([pd.to_datetime(s[0], format='%Y-%m-%d %H:%M:%S.%f'), # timestamp\n",
    "                  float(s[1]), # duration\n",
    "                  s[2], # protocol\n",
    "                  s[3].split(':')[0], # ScrAddr\n",
    "                  s[5].split(':')[0], # DstAddr\n",
    "                  s[6].lstrip('_').rstrip('_').rstrip(), # flags\n",
    "                  int(s[7]), # Tos\n",
    "                  int(s[8]), # packets\n",
    "                  int(s[9]), # bytes\n",
    "                  int(s[10]), # flows\n",
    "                  s[11].rstrip('\\n').rstrip() # label\n",
    "                 ])\n",
    "    return o"
   ]
  },
  {
   "cell_type": "code",
   "execution_count": 4,
   "metadata": {},
   "outputs": [],
   "source": [
    "df = list(map(preprocessing, data)) # data preprocessing\n",
    "df = pd.DataFrame(df, columns=['Time', 'Duration', 'Protocol', 'ScrAddr', 'DstAddr', \n",
    "                               'Flags', 'Tos', 'Packets', 'Bytes', 'Flows', 'Label'])"
   ]
  },
  {
   "cell_type": "code",
   "execution_count": 6,
   "metadata": {},
   "outputs": [],
   "source": [
    "# save cleaned dataframe to csv\n",
    "df.to_csv('./data/scenario10_cleaned.csv')"
   ]
  },
  {
   "cell_type": "code",
   "execution_count": 8,
   "metadata": {},
   "outputs": [
    {
     "data": {
      "text/html": [
       "<div>\n",
       "<style scoped>\n",
       "    .dataframe tbody tr th:only-of-type {\n",
       "        vertical-align: middle;\n",
       "    }\n",
       "\n",
       "    .dataframe tbody tr th {\n",
       "        vertical-align: top;\n",
       "    }\n",
       "\n",
       "    .dataframe thead th {\n",
       "        text-align: right;\n",
       "    }\n",
       "</style>\n",
       "<table border=\"1\" class=\"dataframe\">\n",
       "  <thead>\n",
       "    <tr style=\"text-align: right;\">\n",
       "      <th></th>\n",
       "      <th>Duration</th>\n",
       "      <th>Protocol</th>\n",
       "      <th>ScrAddr</th>\n",
       "      <th>DstAddr</th>\n",
       "      <th>Flags</th>\n",
       "      <th>Tos</th>\n",
       "      <th>Packets</th>\n",
       "      <th>Bytes</th>\n",
       "      <th>Flows</th>\n",
       "      <th>Label</th>\n",
       "    </tr>\n",
       "    <tr>\n",
       "      <th>Time</th>\n",
       "      <th></th>\n",
       "      <th></th>\n",
       "      <th></th>\n",
       "      <th></th>\n",
       "      <th></th>\n",
       "      <th></th>\n",
       "      <th></th>\n",
       "      <th></th>\n",
       "      <th></th>\n",
       "      <th></th>\n",
       "    </tr>\n",
       "  </thead>\n",
       "  <tbody>\n",
       "    <tr>\n",
       "      <th>2011-08-18 10:19:13.328</th>\n",
       "      <td>0.002</td>\n",
       "      <td>TCP</td>\n",
       "      <td>147.32.86.166</td>\n",
       "      <td>212.24.150.110</td>\n",
       "      <td>FRPA</td>\n",
       "      <td>0</td>\n",
       "      <td>4</td>\n",
       "      <td>321</td>\n",
       "      <td>1</td>\n",
       "      <td>Background</td>\n",
       "    </tr>\n",
       "    <tr>\n",
       "      <th>2011-08-18 10:19:13.328</th>\n",
       "      <td>4.995</td>\n",
       "      <td>UDP</td>\n",
       "      <td>82.39.2.249</td>\n",
       "      <td>147.32.84.59</td>\n",
       "      <td>INT</td>\n",
       "      <td>0</td>\n",
       "      <td>617</td>\n",
       "      <td>40095</td>\n",
       "      <td>1</td>\n",
       "      <td>Background</td>\n",
       "    </tr>\n",
       "    <tr>\n",
       "      <th>2011-08-18 10:19:13.329</th>\n",
       "      <td>4.996</td>\n",
       "      <td>UDP</td>\n",
       "      <td>147.32.84.59</td>\n",
       "      <td>82.39.2.249</td>\n",
       "      <td>INT</td>\n",
       "      <td>0</td>\n",
       "      <td>1290</td>\n",
       "      <td>1909200</td>\n",
       "      <td>1</td>\n",
       "      <td>Background</td>\n",
       "    </tr>\n",
       "    <tr>\n",
       "      <th>2011-08-18 10:19:13.330</th>\n",
       "      <td>0.000</td>\n",
       "      <td>TCP</td>\n",
       "      <td>147.32.86.166</td>\n",
       "      <td>147.32.192.34</td>\n",
       "      <td>A</td>\n",
       "      <td>0</td>\n",
       "      <td>1</td>\n",
       "      <td>66</td>\n",
       "      <td>1</td>\n",
       "      <td>Background</td>\n",
       "    </tr>\n",
       "    <tr>\n",
       "      <th>2011-08-18 10:19:13.330</th>\n",
       "      <td>0.000</td>\n",
       "      <td>TCP</td>\n",
       "      <td>212.24.150.110</td>\n",
       "      <td>147.32.86.166</td>\n",
       "      <td>FPA</td>\n",
       "      <td>0</td>\n",
       "      <td>2</td>\n",
       "      <td>169</td>\n",
       "      <td>1</td>\n",
       "      <td>Background</td>\n",
       "    </tr>\n",
       "  </tbody>\n",
       "</table>\n",
       "</div>"
      ],
      "text/plain": [
       "                         Duration Protocol         ScrAddr         DstAddr  \\\n",
       "Time                                                                         \n",
       "2011-08-18 10:19:13.328     0.002      TCP   147.32.86.166  212.24.150.110   \n",
       "2011-08-18 10:19:13.328     4.995      UDP     82.39.2.249    147.32.84.59   \n",
       "2011-08-18 10:19:13.329     4.996      UDP    147.32.84.59     82.39.2.249   \n",
       "2011-08-18 10:19:13.330     0.000      TCP   147.32.86.166   147.32.192.34   \n",
       "2011-08-18 10:19:13.330     0.000      TCP  212.24.150.110   147.32.86.166   \n",
       "\n",
       "                        Flags  Tos  Packets    Bytes  Flows       Label  \n",
       "Time                                                                     \n",
       "2011-08-18 10:19:13.328  FRPA    0        4      321      1  Background  \n",
       "2011-08-18 10:19:13.328   INT    0      617    40095      1  Background  \n",
       "2011-08-18 10:19:13.329   INT    0     1290  1909200      1  Background  \n",
       "2011-08-18 10:19:13.330     A    0        1       66      1  Background  \n",
       "2011-08-18 10:19:13.330   FPA    0        2      169      1  Background  "
      ]
     },
     "execution_count": 8,
     "metadata": {},
     "output_type": "execute_result"
    }
   ],
   "source": [
    "# load data\n",
    "df = pd.read_csv('./data/scenario10_cleaned.csv')\n",
    "df.set_index('Time', drop=True, inplace=True)\n",
    "\n",
    "df.head()"
   ]
  },
  {
   "cell_type": "markdown",
   "metadata": {},
   "source": [
    "## 1. Train model with one infected host"
   ]
  },
  {
   "cell_type": "code",
   "execution_count": 9,
   "metadata": {},
   "outputs": [],
   "source": [
    "# assign selected infected host for training\n",
    "INFECTED_HOST = '147.32.84.207'"
   ]
  },
  {
   "cell_type": "markdown",
   "metadata": {},
   "source": [
    "## 2. Test model"
   ]
  },
  {
   "cell_type": "code",
   "execution_count": null,
   "metadata": {},
   "outputs": [],
   "source": []
  },
  {
   "cell_type": "code",
   "execution_count": null,
   "metadata": {},
   "outputs": [],
   "source": []
  },
  {
   "cell_type": "code",
   "execution_count": null,
   "metadata": {},
   "outputs": [],
   "source": []
  }
 ],
 "metadata": {
  "kernelspec": {
   "display_name": "Python 3",
   "language": "python",
   "name": "python3"
  },
  "language_info": {
   "codemirror_mode": {
    "name": "ipython",
    "version": 3
   },
   "file_extension": ".py",
   "mimetype": "text/x-python",
   "name": "python",
   "nbconvert_exporter": "python",
   "pygments_lexer": "ipython3",
   "version": "3.6.8"
  }
 },
 "nbformat": 4,
 "nbformat_minor": 2
}
