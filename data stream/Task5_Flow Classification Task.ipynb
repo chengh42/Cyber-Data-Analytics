{
 "cells": [
  {
   "cell_type": "markdown",
   "metadata": {},
   "source": [
    "# Data streaming\n",
    "\n",
    "## Flow classification task – 1 A4\n",
    "\n",
    "Group 97\n",
    "\n",
    "Study paper 3 and construct a classifier for detecting anomalous behavior in individual NetFlows (every flow is a row, ignoring sequences). Do not forget to study and deal with properties of your data such as class imbalance. Evaluate your method in two ways: on the packet level (as in paper 3), and on the host level (as in paper 4). Do you prefer using a sequential model or a classifier for detecting botnets? Explain why."
   ]
  },
  {
   "cell_type": "markdown",
   "metadata": {},
   "source": [
    "We are using here the scenario 10 - CTU-Malware-Capture-Botnet-51\n",
    "\n",
    "Per documentation, the distribution of labels in the NetFlows for scenario 10 (CTU-Malware-Capture-Botnet-51) in the dataset is:\n",
    "\n",
    "Total flows | Botnet flows    | Normal flows  | C&C flows  | Background flows\n",
    "------------|-----------------|---------------|------------|-------------------\n",
    "1,309,791   | 106,315 (8.11%) | 15,847 (1.2%) | 37 (.002%) | 1,187,592 (90.67%)\n",
    "\n",
    "- Infected hosts\n",
    "    - 147.32.84.165: Windows XP English version Name: SARUMAN. Label: Botnet. Amount of bidirectional flows: 9579\n",
    "    - 147.32.84.191: Windows XP English version Name: SARUMAN1. Label: Botnet. Amount of bidirectional flows: 10454\n",
    "    - 147.32.84.192: Windows XP English version Name: SARUMAN2. Label: Botnet. Amount of bidirectional flows: 10397\n",
    "    - 147.32.84.193: Windows XP English version Name: SARUMAN3. Label: Botnet. Amount of bidirectional flows: 10009\n",
    "    - 147.32.84.204: Windows XP English version Name: SARUMAN4. Label: Botnet. Amount of bidirectional flows: 11159\n",
    "    - 147.32.84.205: Windows XP English version Name: SARUMAN5. Label: Botnet. Amount of bidirectional flows: 11874\n",
    "    - 147.32.84.206: Windows XP English version Name: SARUMAN6. Label: Botnet. Amount of bidirectional flows: 11287\n",
    "    - 147.32.84.207: Windows XP English version Name: SARUMAN7. Label: Botnet. Amount of bidirectional flows: 10581\n",
    "    - 147.32.84.208: Windows XP English version Name: SARUMAN8. Label: Botnet. Amount of bidirectional flows: 11118\n",
    "    - 147.32.84.209: Windows XP English version Name: SARUMAN9. Label: Botnet. Amount of bidirectional flows: 9894\n",
    "- Normal hosts:\n",
    "    - 147.32.84.170 (amount of bidirectional flows: 10216, Label: Normal-V42-Stribrek)\n",
    "    - 147.32.84.134 (amount of bidirectional flows: 1091, Label: Normal-V42-Jist)\n",
    "    - 147.32.84.164 (amount of bidirectional flows: 3728, Label: Normal-V42-Grill)\n",
    "    - 147.32.87.36 (amount of bidirectional flows: 99, Label: CVUT-WebServer. This normal host is not so reliable since is a webserver)\n",
    "    - 147.32.80.9 (amount of bidirectional flows: 651, Label: CVUT-DNS-Server. This normal host is not so reliable since is a dns server)\n",
    "    - 147.32.87.11 (amount of bidirectional flows: 4, Label: MatLab-Server. This normal host is not so reliable since is a matlab server)"
   ]
  },
  {
   "cell_type": "markdown",
   "metadata": {},
   "source": [
    "## Data Preparation"
   ]
  },
  {
   "cell_type": "code",
   "execution_count": 1,
   "metadata": {},
   "outputs": [],
   "source": [
    "import pandas as pd\n",
    "import numpy as np\n",
    "import random\n",
    "import matplotlib.pyplot as plt\n",
    "import seaborn as sns\n",
    "from datetime import datetime\n",
    "from pandas.api.types import is_numeric_dtype\n",
    "from sklearn import preprocessing\n",
    "from sklearn.model_selection import train_test_split \n",
    "from sklearn import metrics\n",
    "from sklearn.model_selection import StratifiedKFold\n",
    "from sklearn.neighbors import KNeighborsClassifier\n",
    "from imblearn.over_sampling import SMOTE\n",
    "from sklearn import metrics\n",
    "from sklearn.metrics import roc_curve\n",
    "from collections import Counter\n",
    "from sklearn.ensemble import RandomForestClassifier\n",
    "from sklearn.metrics import confusion_matrix\n",
    "import seaborn as sns\n",
    "\n",
    "\n",
    "np.random.seed(42)\n",
    "random.seed(42)\n",
    "%matplotlib inline"
   ]
  },
  {
   "cell_type": "markdown",
   "metadata": {},
   "source": [
    "Reading the data file"
   ]
  },
  {
   "cell_type": "code",
   "execution_count": 2,
   "metadata": {},
   "outputs": [],
   "source": [
    "# define filepath for scenario 10 dataset\n",
    "filepath = './data/capture20110818.pcap.netflow.labeled'\n",
    "\n",
    "# read data from the file\n",
    "f = open(filepath, 'r')\n",
    "lines = f.readlines()\n",
    "f.close()\n",
    "data = lines[1:] # drop the header"
   ]
  },
  {
   "cell_type": "code",
   "execution_count": 3,
   "metadata": {},
   "outputs": [],
   "source": [
    "def preprocessing_remove_Background(data):\n",
    "    '''data preprocessing\n",
    "    Input\n",
    "    -----\n",
    "    data: string of a data flow\n",
    "    \n",
    "    Return\n",
    "    ------\n",
    "    o = None, if Background flow (to be removed)\n",
    "    o = cleaned, formated data, if not Background flow\n",
    "    '''\n",
    "    if not 'Background' in data:\n",
    "        s = data.split('\\t')\n",
    "        s = [x for x in s if x] # remove empty elements\n",
    "        if len(s) < 12: # special fix for an outlier string @2011-08-18 12:18:31.264\n",
    "            s = s[0].rsplit(' ', 11) \n",
    "        o = np.array([pd.to_datetime(s[0], format='%Y-%m-%d %H:%M:%S.%f'), # timestamp\n",
    "                      float(s[1]), # duration\n",
    "                      s[2], # protocol\n",
    "                      s[3].split(':')[0], # ScrAddr\n",
    "                      s[5].split(':')[0], # DstAddr\n",
    "                      s[6].lstrip('_').rstrip('_').rstrip(), # flags\n",
    "                      int(s[7]), # Tos\n",
    "                      int(s[8]), # packets\n",
    "                      int(s[9]), # bytes\n",
    "                      int(s[10]), # flows\n",
    "                      s[11].rstrip('\\n').rstrip() # label\n",
    "                     ])\n",
    "    else: # if Background flow\n",
    "        o = None\n",
    "    return o"
   ]
  },
  {
   "cell_type": "code",
   "execution_count": 9,
   "metadata": {},
   "outputs": [],
   "source": [
    "df = list(map(preprocessing_remove_Background, data)) # data preprocessing\n",
    "df = [x for x in df if isinstance(x, np.ndarray)] # remove background flows\n",
    "df = pd.DataFrame(df, columns=['Time', 'Duration', 'Protocol', 'ScrAddr', 'DstAddr', \n",
    "                               'Flags', 'Tos', 'Packets', 'Bytes', 'Flows', 'Label'])"
   ]
  },
  {
   "cell_type": "markdown",
   "metadata": {},
   "source": [
    "Looking at the DataFrame"
   ]
  },
  {
   "cell_type": "code",
   "execution_count": 10,
   "metadata": {},
   "outputs": [
    {
     "data": {
      "text/html": [
       "<div>\n",
       "<style scoped>\n",
       "    .dataframe tbody tr th:only-of-type {\n",
       "        vertical-align: middle;\n",
       "    }\n",
       "\n",
       "    .dataframe tbody tr th {\n",
       "        vertical-align: top;\n",
       "    }\n",
       "\n",
       "    .dataframe thead th {\n",
       "        text-align: right;\n",
       "    }\n",
       "</style>\n",
       "<table border=\"1\" class=\"dataframe\">\n",
       "  <thead>\n",
       "    <tr style=\"text-align: right;\">\n",
       "      <th></th>\n",
       "      <th>Time</th>\n",
       "      <th>Duration</th>\n",
       "      <th>Protocol</th>\n",
       "      <th>ScrAddr</th>\n",
       "      <th>DstAddr</th>\n",
       "      <th>Flags</th>\n",
       "      <th>Tos</th>\n",
       "      <th>Packets</th>\n",
       "      <th>Bytes</th>\n",
       "      <th>Flows</th>\n",
       "      <th>Label</th>\n",
       "    </tr>\n",
       "  </thead>\n",
       "  <tbody>\n",
       "    <tr>\n",
       "      <th>0</th>\n",
       "      <td>2011-08-18 10:19:13.347</td>\n",
       "      <td>4.985</td>\n",
       "      <td>TCP</td>\n",
       "      <td>147.32.80.13</td>\n",
       "      <td>147.32.85.88</td>\n",
       "      <td>PA</td>\n",
       "      <td>0</td>\n",
       "      <td>91</td>\n",
       "      <td>86277</td>\n",
       "      <td>1</td>\n",
       "      <td>LEGITIMATE</td>\n",
       "    </tr>\n",
       "    <tr>\n",
       "      <th>1</th>\n",
       "      <td>2011-08-18 10:19:13.392</td>\n",
       "      <td>0.000</td>\n",
       "      <td>TCP</td>\n",
       "      <td>147.32.86.110</td>\n",
       "      <td>74.125.232.214</td>\n",
       "      <td>A</td>\n",
       "      <td>0</td>\n",
       "      <td>1</td>\n",
       "      <td>66</td>\n",
       "      <td>1</td>\n",
       "      <td>LEGITIMATE</td>\n",
       "    </tr>\n",
       "    <tr>\n",
       "      <th>2</th>\n",
       "      <td>2011-08-18 10:19:13.411</td>\n",
       "      <td>4.921</td>\n",
       "      <td>TCP</td>\n",
       "      <td>147.32.85.88</td>\n",
       "      <td>147.32.80.13</td>\n",
       "      <td>A</td>\n",
       "      <td>0</td>\n",
       "      <td>49</td>\n",
       "      <td>3234</td>\n",
       "      <td>1</td>\n",
       "      <td>LEGITIMATE</td>\n",
       "    </tr>\n",
       "    <tr>\n",
       "      <th>3</th>\n",
       "      <td>2011-08-18 10:19:13.460</td>\n",
       "      <td>4.742</td>\n",
       "      <td>TCP</td>\n",
       "      <td>147.32.84.59</td>\n",
       "      <td>74.125.108.208</td>\n",
       "      <td>A</td>\n",
       "      <td>0</td>\n",
       "      <td>118</td>\n",
       "      <td>7080</td>\n",
       "      <td>1</td>\n",
       "      <td>LEGITIMATE</td>\n",
       "    </tr>\n",
       "    <tr>\n",
       "      <th>4</th>\n",
       "      <td>2011-08-18 10:19:13.486</td>\n",
       "      <td>0.000</td>\n",
       "      <td>TCP</td>\n",
       "      <td>147.32.84.59</td>\n",
       "      <td>74.125.232.215</td>\n",
       "      <td>A</td>\n",
       "      <td>0</td>\n",
       "      <td>1</td>\n",
       "      <td>60</td>\n",
       "      <td>1</td>\n",
       "      <td>LEGITIMATE</td>\n",
       "    </tr>\n",
       "  </tbody>\n",
       "</table>\n",
       "</div>"
      ],
      "text/plain": [
       "                     Time  Duration Protocol        ScrAddr         DstAddr  \\\n",
       "0 2011-08-18 10:19:13.347     4.985      TCP   147.32.80.13    147.32.85.88   \n",
       "1 2011-08-18 10:19:13.392     0.000      TCP  147.32.86.110  74.125.232.214   \n",
       "2 2011-08-18 10:19:13.411     4.921      TCP   147.32.85.88    147.32.80.13   \n",
       "3 2011-08-18 10:19:13.460     4.742      TCP   147.32.84.59  74.125.108.208   \n",
       "4 2011-08-18 10:19:13.486     0.000      TCP   147.32.84.59  74.125.232.215   \n",
       "\n",
       "  Flags  Tos  Packets  Bytes  Flows       Label  \n",
       "0    PA    0       91  86277      1  LEGITIMATE  \n",
       "1     A    0        1     66      1  LEGITIMATE  \n",
       "2     A    0       49   3234      1  LEGITIMATE  \n",
       "3     A    0      118   7080      1  LEGITIMATE  \n",
       "4     A    0        1     60      1  LEGITIMATE  "
      ]
     },
     "execution_count": 10,
     "metadata": {},
     "output_type": "execute_result"
    }
   ],
   "source": [
    "df.head()"
   ]
  },
  {
   "cell_type": "markdown",
   "metadata": {},
   "source": [
    "## Fitting a ML Algorithm"
   ]
  },
  {
   "cell_type": "markdown",
   "metadata": {},
   "source": [
    "#### Data Exploration - Verifying if the data is inbalanced"
   ]
  },
  {
   "cell_type": "code",
   "execution_count": 54,
   "metadata": {},
   "outputs": [
    {
     "data": {
      "image/png": "[encoded data removed]",
      "text/plain": [
       "<Figure size 432x288 with 1 Axes>"
      ]
     },
     "metadata": {
      "needs_background": "light"
     },
     "output_type": "display_data"
    },
    {
     "name": "stdout",
     "output_type": "stream",
     "text": [
      "Percentage of Botnets/Total: 50.0%\n"
     ]
    }
   ],
   "source": [
    "len_labels = [len(df[df['Label']==\"Botnet\"]),len(df[df['Label']!=\"Botnet\"])]\n",
    "\n",
    "plt.bar([\"Botnet\",\"Legitimate\"],len_labels, align='center', alpha=0.5)\n",
    "plt.ylabel('Number of packets')\n",
    "plt.title('Botnet Vs Legitimate')\n",
    "plt.show()\n",
    "\n",
    "print(\"Percentage of Botnets/Total: \"+str(round(len(df[df['Label']==\"Botnet\"])/(len(df)),2)*100)+'%')"
   ]
  },
  {
   "cell_type": "markdown",
   "metadata": {},
   "source": [
    "#### Data Preparation"
   ]
  },
  {
   "cell_type": "code",
   "execution_count": 12,
   "metadata": {},
   "outputs": [],
   "source": [
    "pl_df = df.copy()"
   ]
  },
  {
   "cell_type": "markdown",
   "metadata": {},
   "source": [
    "Dropping the columns that should not be used and separating the DF into features and labels"
   ]
  },
  {
   "cell_type": "code",
   "execution_count": 13,
   "metadata": {},
   "outputs": [],
   "source": [
    "y = pl_df['Label']\n",
    "X = pl_df.drop(columns=['Label','ScrAddr','DstAddr','Flows','Time'])\n",
    "y=y.apply(lambda x: 0 if x==\"LEGITIMATE\" else 1)"
   ]
  },
  {
   "cell_type": "markdown",
   "metadata": {},
   "source": [
    "#### Encoding"
   ]
  },
  {
   "cell_type": "markdown",
   "metadata": {},
   "source": [
    "Checking variables to encode"
   ]
  },
  {
   "cell_type": "code",
   "execution_count": 14,
   "metadata": {},
   "outputs": [
    {
     "data": {
      "text/plain": [
       "Duration    float64\n",
       "Protocol     object\n",
       "Flags        object\n",
       "Tos           int64\n",
       "Packets       int64\n",
       "Bytes         int64\n",
       "dtype: object"
      ]
     },
     "execution_count": 14,
     "metadata": {},
     "output_type": "execute_result"
    }
   ],
   "source": [
    "X.dtypes\n",
    "#X.value_counts()"
   ]
  },
  {
   "cell_type": "markdown",
   "metadata": {},
   "source": [
    "Checking how many columns will be created"
   ]
  },
  {
   "cell_type": "code",
   "execution_count": 15,
   "metadata": {},
   "outputs": [
    {
     "name": "stdout",
     "output_type": "stream",
     "text": [
      "Protocol | 3\n",
      "Flags | 73\n"
     ]
    }
   ],
   "source": [
    "for column in X.columns:\n",
    "    if is_numeric_dtype(X[column])==False:\n",
    "        print(column+\" | \"+str(len(set(pl_df[column]))))"
   ]
  },
  {
   "cell_type": "markdown",
   "metadata": {},
   "source": [
    "Encoding"
   ]
  },
  {
   "cell_type": "code",
   "execution_count": 16,
   "metadata": {},
   "outputs": [
    {
     "data": {
      "text/html": [
       "<div>\n",
       "<style scoped>\n",
       "    .dataframe tbody tr th:only-of-type {\n",
       "        vertical-align: middle;\n",
       "    }\n",
       "\n",
       "    .dataframe tbody tr th {\n",
       "        vertical-align: top;\n",
       "    }\n",
       "\n",
       "    .dataframe thead th {\n",
       "        text-align: right;\n",
       "    }\n",
       "</style>\n",
       "<table border=\"1\" class=\"dataframe\">\n",
       "  <thead>\n",
       "    <tr style=\"text-align: right;\">\n",
       "      <th></th>\n",
       "      <th>Duration</th>\n",
       "      <th>Tos</th>\n",
       "      <th>Packets</th>\n",
       "      <th>Bytes</th>\n",
       "      <th>Protocol_ICMP</th>\n",
       "      <th>Protocol_TCP</th>\n",
       "      <th>Protocol_UDP</th>\n",
       "      <th>Flags_</th>\n",
       "      <th>Flags_A</th>\n",
       "      <th>Flags_AHA</th>\n",
       "      <th>...</th>\n",
       "      <th>Flags_URHTOS</th>\n",
       "      <th>Flags_URHU</th>\n",
       "      <th>Flags_URISO</th>\n",
       "      <th>Flags_URN</th>\n",
       "      <th>Flags_URNPRO</th>\n",
       "      <th>Flags_URNU</th>\n",
       "      <th>Flags_URP</th>\n",
       "      <th>Flags_URPRE</th>\n",
       "      <th>Flags_URS</th>\n",
       "      <th>Flags_WAY</th>\n",
       "    </tr>\n",
       "  </thead>\n",
       "  <tbody>\n",
       "    <tr>\n",
       "      <th>0</th>\n",
       "      <td>4.985</td>\n",
       "      <td>0</td>\n",
       "      <td>91</td>\n",
       "      <td>86277</td>\n",
       "      <td>0</td>\n",
       "      <td>1</td>\n",
       "      <td>0</td>\n",
       "      <td>0</td>\n",
       "      <td>0</td>\n",
       "      <td>0</td>\n",
       "      <td>...</td>\n",
       "      <td>0</td>\n",
       "      <td>0</td>\n",
       "      <td>0</td>\n",
       "      <td>0</td>\n",
       "      <td>0</td>\n",
       "      <td>0</td>\n",
       "      <td>0</td>\n",
       "      <td>0</td>\n",
       "      <td>0</td>\n",
       "      <td>0</td>\n",
       "    </tr>\n",
       "    <tr>\n",
       "      <th>1</th>\n",
       "      <td>0.000</td>\n",
       "      <td>0</td>\n",
       "      <td>1</td>\n",
       "      <td>66</td>\n",
       "      <td>0</td>\n",
       "      <td>1</td>\n",
       "      <td>0</td>\n",
       "      <td>0</td>\n",
       "      <td>1</td>\n",
       "      <td>0</td>\n",
       "      <td>...</td>\n",
       "      <td>0</td>\n",
       "      <td>0</td>\n",
       "      <td>0</td>\n",
       "      <td>0</td>\n",
       "      <td>0</td>\n",
       "      <td>0</td>\n",
       "      <td>0</td>\n",
       "      <td>0</td>\n",
       "      <td>0</td>\n",
       "      <td>0</td>\n",
       "    </tr>\n",
       "    <tr>\n",
       "      <th>2</th>\n",
       "      <td>4.921</td>\n",
       "      <td>0</td>\n",
       "      <td>49</td>\n",
       "      <td>3234</td>\n",
       "      <td>0</td>\n",
       "      <td>1</td>\n",
       "      <td>0</td>\n",
       "      <td>0</td>\n",
       "      <td>1</td>\n",
       "      <td>0</td>\n",
       "      <td>...</td>\n",
       "      <td>0</td>\n",
       "      <td>0</td>\n",
       "      <td>0</td>\n",
       "      <td>0</td>\n",
       "      <td>0</td>\n",
       "      <td>0</td>\n",
       "      <td>0</td>\n",
       "      <td>0</td>\n",
       "      <td>0</td>\n",
       "      <td>0</td>\n",
       "    </tr>\n",
       "    <tr>\n",
       "      <th>3</th>\n",
       "      <td>4.742</td>\n",
       "      <td>0</td>\n",
       "      <td>118</td>\n",
       "      <td>7080</td>\n",
       "      <td>0</td>\n",
       "      <td>1</td>\n",
       "      <td>0</td>\n",
       "      <td>0</td>\n",
       "      <td>1</td>\n",
       "      <td>0</td>\n",
       "      <td>...</td>\n",
       "      <td>0</td>\n",
       "      <td>0</td>\n",
       "      <td>0</td>\n",
       "      <td>0</td>\n",
       "      <td>0</td>\n",
       "      <td>0</td>\n",
       "      <td>0</td>\n",
       "      <td>0</td>\n",
       "      <td>0</td>\n",
       "      <td>0</td>\n",
       "    </tr>\n",
       "    <tr>\n",
       "      <th>4</th>\n",
       "      <td>0.000</td>\n",
       "      <td>0</td>\n",
       "      <td>1</td>\n",
       "      <td>60</td>\n",
       "      <td>0</td>\n",
       "      <td>1</td>\n",
       "      <td>0</td>\n",
       "      <td>0</td>\n",
       "      <td>1</td>\n",
       "      <td>0</td>\n",
       "      <td>...</td>\n",
       "      <td>0</td>\n",
       "      <td>0</td>\n",
       "      <td>0</td>\n",
       "      <td>0</td>\n",
       "      <td>0</td>\n",
       "      <td>0</td>\n",
       "      <td>0</td>\n",
       "      <td>0</td>\n",
       "      <td>0</td>\n",
       "      <td>0</td>\n",
       "    </tr>\n",
       "  </tbody>\n",
       "</table>\n",
       "<p>5 rows × 80 columns</p>\n",
       "</div>"
      ],
      "text/plain": [
       "   Duration  Tos  Packets  Bytes  Protocol_ICMP  Protocol_TCP  Protocol_UDP  \\\n",
       "0     4.985    0       91  86277              0             1             0   \n",
       "1     0.000    0        1     66              0             1             0   \n",
       "2     4.921    0       49   3234              0             1             0   \n",
       "3     4.742    0      118   7080              0             1             0   \n",
       "4     0.000    0        1     60              0             1             0   \n",
       "\n",
       "   Flags_  Flags_A  Flags_AHA  ...  Flags_URHTOS  Flags_URHU  Flags_URISO  \\\n",
       "0       0        0          0  ...             0           0            0   \n",
       "1       0        1          0  ...             0           0            0   \n",
       "2       0        1          0  ...             0           0            0   \n",
       "3       0        1          0  ...             0           0            0   \n",
       "4       0        1          0  ...             0           0            0   \n",
       "\n",
       "   Flags_URN  Flags_URNPRO  Flags_URNU  Flags_URP  Flags_URPRE  Flags_URS  \\\n",
       "0          0             0           0          0            0          0   \n",
       "1          0             0           0          0            0          0   \n",
       "2          0             0           0          0            0          0   \n",
       "3          0             0           0          0            0          0   \n",
       "4          0             0           0          0            0          0   \n",
       "\n",
       "   Flags_WAY  \n",
       "0          0  \n",
       "1          0  \n",
       "2          0  \n",
       "3          0  \n",
       "4          0  \n",
       "\n",
       "[5 rows x 80 columns]"
      ]
     },
     "execution_count": 16,
     "metadata": {},
     "output_type": "execute_result"
    }
   ],
   "source": [
    "X=pd.get_dummies(X, columns=[\"Protocol\", \"Flags\"], prefix=[\"Protocol\", \"Flags\"])\n",
    "X.head()"
   ]
  },
  {
   "cell_type": "markdown",
   "metadata": {},
   "source": [
    "#### Scaling"
   ]
  },
  {
   "cell_type": "markdown",
   "metadata": {},
   "source": [
    "Scaling the data"
   ]
  },
  {
   "cell_type": "code",
   "execution_count": 17,
   "metadata": {},
   "outputs": [
    {
     "name": "stderr",
     "output_type": "stream",
     "text": [
      "C:\\ProgramData\\Anaconda3\\lib\\site-packages\\ipykernel_launcher.py:1: DataConversionWarning: Data with input dtype int64, float64 were all converted to float64 by the scale function.\n",
      "  \"\"\"Entry point for launching an IPython kernel.\n"
     ]
    },
    {
     "data": {
      "text/html": [
       "<div>\n",
       "<style scoped>\n",
       "    .dataframe tbody tr th:only-of-type {\n",
       "        vertical-align: middle;\n",
       "    }\n",
       "\n",
       "    .dataframe tbody tr th {\n",
       "        vertical-align: top;\n",
       "    }\n",
       "\n",
       "    .dataframe thead th {\n",
       "        text-align: right;\n",
       "    }\n",
       "</style>\n",
       "<table border=\"1\" class=\"dataframe\">\n",
       "  <thead>\n",
       "    <tr style=\"text-align: right;\">\n",
       "      <th></th>\n",
       "      <th>Duration</th>\n",
       "      <th>Tos</th>\n",
       "      <th>Packets</th>\n",
       "      <th>Bytes</th>\n",
       "      <th>Protocol_ICMP</th>\n",
       "      <th>Protocol_TCP</th>\n",
       "      <th>Protocol_UDP</th>\n",
       "      <th>Flags_</th>\n",
       "      <th>Flags_A</th>\n",
       "      <th>Flags_AHA</th>\n",
       "      <th>...</th>\n",
       "      <th>Flags_URHTOS</th>\n",
       "      <th>Flags_URHU</th>\n",
       "      <th>Flags_URISO</th>\n",
       "      <th>Flags_URN</th>\n",
       "      <th>Flags_URNPRO</th>\n",
       "      <th>Flags_URNU</th>\n",
       "      <th>Flags_URP</th>\n",
       "      <th>Flags_URPRE</th>\n",
       "      <th>Flags_URS</th>\n",
       "      <th>Flags_WAY</th>\n",
       "    </tr>\n",
       "  </thead>\n",
       "  <tbody>\n",
       "    <tr>\n",
       "      <th>0</th>\n",
       "      <td>3.113642</td>\n",
       "      <td>0</td>\n",
       "      <td>0.597021</td>\n",
       "      <td>0.544271</td>\n",
       "      <td>0</td>\n",
       "      <td>1</td>\n",
       "      <td>0</td>\n",
       "      <td>0</td>\n",
       "      <td>0</td>\n",
       "      <td>0</td>\n",
       "      <td>...</td>\n",
       "      <td>0</td>\n",
       "      <td>0</td>\n",
       "      <td>0</td>\n",
       "      <td>0</td>\n",
       "      <td>0</td>\n",
       "      <td>0</td>\n",
       "      <td>0</td>\n",
       "      <td>0</td>\n",
       "      <td>0</td>\n",
       "      <td>0</td>\n",
       "    </tr>\n",
       "    <tr>\n",
       "      <th>1</th>\n",
       "      <td>-0.449035</td>\n",
       "      <td>0</td>\n",
       "      <td>-0.134044</td>\n",
       "      <td>-0.100225</td>\n",
       "      <td>0</td>\n",
       "      <td>1</td>\n",
       "      <td>0</td>\n",
       "      <td>0</td>\n",
       "      <td>1</td>\n",
       "      <td>0</td>\n",
       "      <td>...</td>\n",
       "      <td>0</td>\n",
       "      <td>0</td>\n",
       "      <td>0</td>\n",
       "      <td>0</td>\n",
       "      <td>0</td>\n",
       "      <td>0</td>\n",
       "      <td>0</td>\n",
       "      <td>0</td>\n",
       "      <td>0</td>\n",
       "      <td>0</td>\n",
       "    </tr>\n",
       "    <tr>\n",
       "      <th>2</th>\n",
       "      <td>3.067902</td>\n",
       "      <td>0</td>\n",
       "      <td>0.255857</td>\n",
       "      <td>-0.076542</td>\n",
       "      <td>0</td>\n",
       "      <td>1</td>\n",
       "      <td>0</td>\n",
       "      <td>0</td>\n",
       "      <td>1</td>\n",
       "      <td>0</td>\n",
       "      <td>...</td>\n",
       "      <td>0</td>\n",
       "      <td>0</td>\n",
       "      <td>0</td>\n",
       "      <td>0</td>\n",
       "      <td>0</td>\n",
       "      <td>0</td>\n",
       "      <td>0</td>\n",
       "      <td>0</td>\n",
       "      <td>0</td>\n",
       "      <td>0</td>\n",
       "    </tr>\n",
       "    <tr>\n",
       "      <th>3</th>\n",
       "      <td>2.939975</td>\n",
       "      <td>0</td>\n",
       "      <td>0.816340</td>\n",
       "      <td>-0.047790</td>\n",
       "      <td>0</td>\n",
       "      <td>1</td>\n",
       "      <td>0</td>\n",
       "      <td>0</td>\n",
       "      <td>1</td>\n",
       "      <td>0</td>\n",
       "      <td>...</td>\n",
       "      <td>0</td>\n",
       "      <td>0</td>\n",
       "      <td>0</td>\n",
       "      <td>0</td>\n",
       "      <td>0</td>\n",
       "      <td>0</td>\n",
       "      <td>0</td>\n",
       "      <td>0</td>\n",
       "      <td>0</td>\n",
       "      <td>0</td>\n",
       "    </tr>\n",
       "    <tr>\n",
       "      <th>4</th>\n",
       "      <td>-0.449035</td>\n",
       "      <td>0</td>\n",
       "      <td>-0.134044</td>\n",
       "      <td>-0.100270</td>\n",
       "      <td>0</td>\n",
       "      <td>1</td>\n",
       "      <td>0</td>\n",
       "      <td>0</td>\n",
       "      <td>1</td>\n",
       "      <td>0</td>\n",
       "      <td>...</td>\n",
       "      <td>0</td>\n",
       "      <td>0</td>\n",
       "      <td>0</td>\n",
       "      <td>0</td>\n",
       "      <td>0</td>\n",
       "      <td>0</td>\n",
       "      <td>0</td>\n",
       "      <td>0</td>\n",
       "      <td>0</td>\n",
       "      <td>0</td>\n",
       "    </tr>\n",
       "  </tbody>\n",
       "</table>\n",
       "<p>5 rows × 80 columns</p>\n",
       "</div>"
      ],
      "text/plain": [
       "   Duration  Tos   Packets     Bytes  Protocol_ICMP  Protocol_TCP  \\\n",
       "0  3.113642    0  0.597021  0.544271              0             1   \n",
       "1 -0.449035    0 -0.134044 -0.100225              0             1   \n",
       "2  3.067902    0  0.255857 -0.076542              0             1   \n",
       "3  2.939975    0  0.816340 -0.047790              0             1   \n",
       "4 -0.449035    0 -0.134044 -0.100270              0             1   \n",
       "\n",
       "   Protocol_UDP  Flags_  Flags_A  Flags_AHA  ...  Flags_URHTOS  Flags_URHU  \\\n",
       "0             0       0        0          0  ...             0           0   \n",
       "1             0       0        1          0  ...             0           0   \n",
       "2             0       0        1          0  ...             0           0   \n",
       "3             0       0        1          0  ...             0           0   \n",
       "4             0       0        1          0  ...             0           0   \n",
       "\n",
       "   Flags_URISO  Flags_URN  Flags_URNPRO  Flags_URNU  Flags_URP  Flags_URPRE  \\\n",
       "0            0          0             0           0          0            0   \n",
       "1            0          0             0           0          0            0   \n",
       "2            0          0             0           0          0            0   \n",
       "3            0          0             0           0          0            0   \n",
       "4            0          0             0           0          0            0   \n",
       "\n",
       "   Flags_URS  Flags_WAY  \n",
       "0          0          0  \n",
       "1          0          0  \n",
       "2          0          0  \n",
       "3          0          0  \n",
       "4          0          0  \n",
       "\n",
       "[5 rows x 80 columns]"
      ]
     },
     "execution_count": 17,
     "metadata": {},
     "output_type": "execute_result"
    }
   ],
   "source": [
    "X.loc[:,[\"Duration\",\"Packets\",\"Bytes\"]]=preprocessing.scale(X.loc[:,[\"Duration\",\"Packets\",\"Bytes\"]])\n",
    "X.head()"
   ]
  },
  {
   "cell_type": "markdown",
   "metadata": {},
   "source": [
    "#### Separeting the datasets"
   ]
  },
  {
   "cell_type": "markdown",
   "metadata": {},
   "source": [
    "Spliting the data into train and test set"
   ]
  },
  {
   "cell_type": "code",
   "execution_count": 18,
   "metadata": {},
   "outputs": [],
   "source": [
    "X_train_val, X_test, y_train_val, y_test = train_test_split(X, y, test_size=0.3, stratify=y)"
   ]
  },
  {
   "cell_type": "markdown",
   "metadata": {},
   "source": [
    "Split the train set into train and validation to use for parameter selection"
   ]
  },
  {
   "cell_type": "code",
   "execution_count": 19,
   "metadata": {},
   "outputs": [],
   "source": [
    "X_train, X_val, y_train, y_val = train_test_split(X_train_val, y_train_val, test_size=0.2, stratify=y_train_val)"
   ]
  },
  {
   "cell_type": "markdown",
   "metadata": {},
   "source": [
    "#### Fitting the model"
   ]
  },
  {
   "cell_type": "markdown",
   "metadata": {},
   "source": [
    "Running the loop to pick the best parameters in the train set (it takes some times, maybe a couple of hours)"
   ]
  },
  {
   "cell_type": "code",
   "execution_count": 20,
   "metadata": {},
   "outputs": [],
   "source": [
    "f1_score = pd.DataFrame(columns=['Algorithm','N_neighbor/N_trees','F1'])\n",
    "index=0\n",
    "seed=42\n",
    "n_neighbors = [1,3,5]\n",
    "n_trees=[10,50,100,200]\n",
    "\n",
    "for n_neighbor in n_neighbors:\n",
    "        \n",
    "    #Selecting the model and parameters\n",
    "    model=KNeighborsClassifier(n_neighbors=n_neighbor, n_jobs=-1)\n",
    "        \n",
    "    #Learning the model and calculating the F1-score and saving in the DF\n",
    "    model.fit(X_train, y_train)\n",
    "    y_pred = model.predict(X_val)\n",
    "    f1_score.loc[index]=[\"KNN\",n_neighbor,metrics.f1_score(y_val, y_pred)]\n",
    "    index += 1\n",
    "        \n",
    "        \n",
    "for tree in n_trees:\n",
    "        \n",
    "    #Selecting the model and parameters\n",
    "    model=RandomForestClassifier(n_estimators=tree, n_jobs=-1)\n",
    "        \n",
    "    #Learning the model and calculating the F1-score and saving in the DF\n",
    "    model.fit(X_train, y_train)\n",
    "    y_pred = model.predict(X_val)\n",
    "    f1_score.loc[index]=[\"Random Forest\",tree,metrics.f1_score(y_val, y_pred)]\n",
    "    index += 1"
   ]
  },
  {
   "cell_type": "markdown",
   "metadata": {},
   "source": [
    "Checking the best algorithm F1"
   ]
  },
  {
   "cell_type": "code",
   "execution_count": 21,
   "metadata": {},
   "outputs": [
    {
     "data": {
      "text/html": [
       "<div>\n",
       "<style scoped>\n",
       "    .dataframe tbody tr th:only-of-type {\n",
       "        vertical-align: middle;\n",
       "    }\n",
       "\n",
       "    .dataframe tbody tr th {\n",
       "        vertical-align: top;\n",
       "    }\n",
       "\n",
       "    .dataframe thead th {\n",
       "        text-align: right;\n",
       "    }\n",
       "</style>\n",
       "<table border=\"1\" class=\"dataframe\">\n",
       "  <thead>\n",
       "    <tr style=\"text-align: right;\">\n",
       "      <th></th>\n",
       "      <th>Algorithm</th>\n",
       "      <th>N_neighbor/N_trees</th>\n",
       "      <th>F1</th>\n",
       "    </tr>\n",
       "  </thead>\n",
       "  <tbody>\n",
       "    <tr>\n",
       "      <th>4</th>\n",
       "      <td>Random Forest</td>\n",
       "      <td>50</td>\n",
       "      <td>0.994955</td>\n",
       "    </tr>\n",
       "  </tbody>\n",
       "</table>\n",
       "</div>"
      ],
      "text/plain": [
       "       Algorithm N_neighbor/N_trees        F1\n",
       "4  Random Forest                 50  0.994955"
      ]
     },
     "execution_count": 21,
     "metadata": {},
     "output_type": "execute_result"
    }
   ],
   "source": [
    "f1_score.sort_values('F1', ascending=False).head(1)"
   ]
  },
  {
   "cell_type": "markdown",
   "metadata": {},
   "source": [
    "### Performance in the flow (packet) level"
   ]
  },
  {
   "cell_type": "markdown",
   "metadata": {},
   "source": [
    "Making predictions in the test set the parameters and algorithm that perform the better in the train dataset"
   ]
  },
  {
   "cell_type": "code",
   "execution_count": 22,
   "metadata": {},
   "outputs": [
    {
     "name": "stdout",
     "output_type": "stream",
     "text": [
      "Using Random Forest with: 50 trees\n"
     ]
    }
   ],
   "source": [
    "#Selecting the model and parameters\n",
    "if f1_score.loc[f1_score[\"F1\"].idxmax(),\"Algorithm\"] == \"Random Forest\":\n",
    "    tree = f1_score.loc[f1_score[\"F1\"].idxmax(),\"N_neighbor/N_trees\"]\n",
    "    model = RandomForestClassifier(n_estimators=tree, n_jobs=-1)\n",
    "    print(\"Using Random Forest with: \" + str(tree) + \" trees\")\n",
    "else:\n",
    "    f1_score.loc[f1_score[\"F1\"].idxmax(),\"Algorithm\"][\"N_neighbor/N_trees\"]\n",
    "    n_neighbors = f1_score.loc[f1_score[\"F1\"].idxmax(),\"N_neighbor/N_trees\"]\n",
    "    model = KNeighborsClassifier(n_neighbors==n_neighbor, n_jobs=-1)\n",
    "    print(\"Using KNN\" + str(n_neighbors) + \" neighbors\")\n",
    "    \n",
    "#Learning the model and calculating the F1-score and saving in the DF\n",
    "model.fit(X_train, y_train)\n",
    "\n",
    "#Predicting\n",
    "y_pred = model.predict(X_test)"
   ]
  },
  {
   "cell_type": "markdown",
   "metadata": {},
   "source": [
    "Ploting a Confusion Matrix"
   ]
  },
  {
   "cell_type": "code",
   "execution_count": 23,
   "metadata": {},
   "outputs": [
    {
     "name": "stdout",
     "output_type": "stream",
     "text": [
      "Recall: 0.9905393010625251\n",
      "Precision: 0.9989918097534611\n",
      "Accuracy: 0.9947574480393372\n",
      "F1-Score: 0.9947476001966417\n"
     ]
    },
    {
     "data": {
      "image/png": "[encoded data removed]",
      "text/plain": [
       "<Figure size 432x288 with 2 Axes>"
      ]
     },
     "metadata": {
      "needs_background": "light"
     },
     "output_type": "display_data"
    }
   ],
   "source": [
    "# Calculating the Confusion Matrix\n",
    "cm=confusion_matrix(y_test, y_pred)\n",
    "\n",
    "#Creating a function to plot in a nice format the CM and some performance indicators\n",
    "def ploting_cm(cm):\n",
    "    \n",
    "    #Plot\n",
    "    ax= plt.subplot()\n",
    "    sns.heatmap(cm, annot=True,fmt='g', ax = ax); #annot=True to annotate cells\n",
    "\n",
    "    # labels, title and ticks\n",
    "    ax.set_xlabel('Predicted labels');ax.set_ylabel('True labels'); \n",
    "    ax.set_title('Confusion Matrix'); \n",
    "    ax.xaxis.set_ticklabels(['normal', 'anomaly']); ax.yaxis.set_ticklabels(['normal', 'anomaly'])\n",
    "    \n",
    "    # Performance\n",
    "    tn, fp, fn, tp = cm.ravel()\n",
    "    recall=tp/(tp+fn)\n",
    "    precision=tp/(tp+fp)\n",
    "    accuracy=(tp+tn)/(tp+tn+fn+fp)\n",
    "    f1=2*(precision*recall)/(precision+recall)\n",
    "    print(\"Recall: \" + str(recall))\n",
    "    print(\"Precision: \" + str(precision))\n",
    "    print(\"Accuracy: \" + str(accuracy))\n",
    "    print(\"F1-Score: \" + str(f1))\n",
    "    \n",
    "# Applying the function\n",
    "ploting_cm(cm)"
   ]
  },
  {
   "cell_type": "markdown",
   "metadata": {},
   "source": [
    "### Performance in the Host Level"
   ]
  },
  {
   "cell_type": "markdown",
   "metadata": {},
   "source": [
    "The idea is to classify each host as botnet if it appears in at least one malicious flow as a source."
   ]
  },
  {
   "cell_type": "markdown",
   "metadata": {},
   "source": [
    "First we add a column with the prediction in the test set"
   ]
  },
  {
   "cell_type": "code",
   "execution_count": 24,
   "metadata": {},
   "outputs": [
    {
     "name": "stderr",
     "output_type": "stream",
     "text": [
      "C:\\ProgramData\\Anaconda3\\lib\\site-packages\\ipykernel_launcher.py:2: SettingWithCopyWarning: \n",
      "A value is trying to be set on a copy of a slice from a DataFrame.\n",
      "Try using .loc[row_indexer,col_indexer] = value instead\n",
      "\n",
      "See the caveats in the documentation: http://pandas.pydata.org/pandas-docs/stable/indexing.html#indexing-view-versus-copy\n",
      "  \n"
     ]
    }
   ],
   "source": [
    "# Adding the column with the predictions in the test set\n",
    "X_test[\"Prediction\"]=y_pred"
   ]
  },
  {
   "cell_type": "markdown",
   "metadata": {},
   "source": [
    "Next we add the prediction in the original data frame"
   ]
  },
  {
   "cell_type": "code",
   "execution_count": 25,
   "metadata": {},
   "outputs": [],
   "source": [
    "#Addding the prediction to a copy of the original DF\n",
    "df_host=df.copy()\n",
    "df_host[\"Prediction\"]=0\n",
    "for index, row in X_test.iterrows():\n",
    "    df_host.loc[index,\"Prediction\"]=X_test.loc[index,\"Prediction\"]"
   ]
  },
  {
   "cell_type": "markdown",
   "metadata": {},
   "source": [
    "#### Labling the predicted values: \n",
    "Now we add a new column named \"Prediction_per_host\" that will label all hosts that were a source of a malicous flow (as classified by the ML algorithm) as a botnet"
   ]
  },
  {
   "cell_type": "code",
   "execution_count": 29,
   "metadata": {},
   "outputs": [],
   "source": [
    "df_grouped=pd.DataFrame(df_host.groupby(\"ScrAddr\")[\"Prediction\"].sum())\n",
    "df_grouped.columns=[\"Prediction_per_host\"]\n",
    "df_grouped[\"Prediction_per_host\"]=df_grouped[\"Prediction_per_host\"].apply(lambda x: 0 if x==0 else 1)"
   ]
  },
  {
   "cell_type": "markdown",
   "metadata": {},
   "source": [
    "#### Labeling the true labels for the hosts"
   ]
  },
  {
   "cell_type": "code",
   "execution_count": 30,
   "metadata": {},
   "outputs": [],
   "source": [
    "df_grouped[\"ScrAddr\"]=df_grouped.index\n",
    "INFECTED_HOSTS = ['147.32.84.165', '147.32.84.191', '147.32.84.192', '147.32.84.193',\n",
    "                  '147.32.84.204', '147.32.84.205', '147.32.84.206', '147.32.84.207', \n",
    "                  '147.32.84.208', '147.32.84.209']\n",
    "df_grouped[\"Label\"]=df_grouped[\"ScrAddr\"].apply(lambda x: 1 if x in INFECTED_HOSTS  else 0)\n",
    "df_grouped=df_grouped.drop(columns=\"ScrAddr\")"
   ]
  },
  {
   "cell_type": "markdown",
   "metadata": {},
   "source": [
    "Dropping the non-relevant hosts"
   ]
  },
  {
   "cell_type": "code",
   "execution_count": 58,
   "metadata": {},
   "outputs": [
    {
     "data": {
      "text/plain": [
       "Index(['10.10.20.233', '10.168.115.232', '10.168.48.160', '10.23.106.55',\n",
       "       '10.23.12.43', '10.23.130.74', '10.23.139.192', '10.23.20.92',\n",
       "       '10.23.24.236', '10.23.60.88',\n",
       "       ...\n",
       "       '93.152.160.101', '93.205.154.247', '94.112.88.183', '94.113.108.246',\n",
       "       '94.199.40.135', '94.199.41.1', '95.103.17.209', '95.108.158.245',\n",
       "       '95.211.77.153', '95.27.206.21'],\n",
       "      dtype='object', name='ScrAddr', length=522)"
      ]
     },
     "execution_count": 58,
     "metadata": {},
     "output_type": "execute_result"
    }
   ],
   "source": [
    "df_grouped.index"
   ]
  },
  {
   "cell_type": "markdown",
   "metadata": {},
   "source": [
    "Calculating performance metrics considering all the hosts"
   ]
  },
  {
   "cell_type": "code",
   "execution_count": 69,
   "metadata": {
    "scrolled": true
   },
   "outputs": [
    {
     "name": "stdout",
     "output_type": "stream",
     "text": [
      "Recall: 1.0\n",
      "Precision: 0.136986301369863\n",
      "Accuracy: 0.8793103448275862\n",
      "F1-Score: 0.24096385542168672\n"
     ]
    },
    {
     "data": {
      "image/png": "[encoded data removed]",
      "text/plain": [
       "<Figure size 432x288 with 2 Axes>"
      ]
     },
     "metadata": {
      "needs_background": "light"
     },
     "output_type": "display_data"
    }
   ],
   "source": [
    "# Calculating the Confusion Matrix\n",
    "cm=confusion_matrix(list(df_grouped[\"Label\"]), list(df_grouped[\"Prediction_per_host\"]))\n",
    "\n",
    "#Creating a function to plot in a nice format the CM and some performance indicators\n",
    "def ploting_cm(cm):\n",
    "    \n",
    "    #Plot\n",
    "    ax= plt.subplot()\n",
    "    sns.heatmap(cm, annot=True,fmt='g', ax = ax); #annot=True to annotate cells\n",
    "\n",
    "    # labels, title and ticks\n",
    "    ax.set_xlabel('Predicted labels');ax.set_ylabel('True labels'); \n",
    "    ax.set_title('Confusion Matrix'); \n",
    "    ax.xaxis.set_ticklabels(['normal', 'anomaly']); ax.yaxis.set_ticklabels(['normal', 'anomaly'])\n",
    "    \n",
    "    # Performance\n",
    "    tn, fp, fn, tp = cm.ravel()\n",
    "    recall=tp/(tp+fn)\n",
    "    precision=tp/(tp+fp)\n",
    "    accuracy=(tp+tn)/(tp+tn+fn+fp)\n",
    "    f1=2*(precision*recall)/(precision+recall)\n",
    "    print(\"Recall: \" + str(recall))\n",
    "    print(\"Precision: \" + str(precision))\n",
    "    print(\"Accuracy: \" + str(accuracy))\n",
    "    print(\"F1-Score: \" + str(f1))\n",
    "    \n",
    "# Applying the function\n",
    "ploting_cm(cm)"
   ]
  },
  {
   "cell_type": "markdown",
   "metadata": {},
   "source": [
    "Calculating performance metrics considering only the hosts in the documentation (check https://www.stratosphereips.org/datasets-ctu13 for more information)"
   ]
  },
  {
   "cell_type": "code",
   "execution_count": 67,
   "metadata": {},
   "outputs": [
    {
     "name": "stdout",
     "output_type": "stream",
     "text": [
      "Recall: 1.0\n",
      "Precision: 0.7142857142857143\n",
      "Accuracy: 0.7333333333333333\n",
      "F1-Score: 0.8333333333333333\n"
     ]
    },
    {
     "data": {
      "image/png": "[encoded data removed]",
      "text/plain": [
       "<Figure size 432x288 with 2 Axes>"
      ]
     },
     "metadata": {
      "needs_background": "light"
     },
     "output_type": "display_data"
    }
   ],
   "source": [
    "# Filtering the hsots\n",
    "normal_hosts = ['147.32.84.170', '147.32.84.134', '147.32.84.164',\n",
    "                '147.32.87.36', '147.32.80.9'] # 147.32.87.11 is removed as it contains very limited data flows\n",
    "df_host_in_doc = df_grouped[df_grouped.index.isin(normal_hosts+INFECTED_HOSTS)]\n",
    "\n",
    "# Calculating the Confusion Matrix\n",
    "cm=confusion_matrix(list(df_host_in_doc[\"Label\"]), list(df_host_in_doc[\"Prediction_per_host\"]))\n",
    "# Ploting the CM\n",
    "ploting_cm(cm)"
   ]
  }
 ],
 "metadata": {
  "kernelspec": {
   "display_name": "Python 3",
   "language": "python",
   "name": "python3"
  },
  "language_info": {
   "codemirror_mode": {
    "name": "ipython",
    "version": 3
   },
   "file_extension": ".py",
   "mimetype": "text/x-python",
   "name": "python",
   "nbconvert_exporter": "python",
   "pygments_lexer": "ipython3",
   "version": "3.7.3"
  }
 },
 "nbformat": 4,
 "nbformat_minor": 2
}
