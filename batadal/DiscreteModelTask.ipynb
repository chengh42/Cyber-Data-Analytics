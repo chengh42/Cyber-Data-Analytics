{
 "cells": [
  {
   "cell_type": "markdown",
   "metadata": {},
   "source": [
    "# Discrete Models Task"
   ]
  },
  {
   "cell_type": "markdown",
   "metadata": {},
   "source": [
    "### 1) Data Preparation"
   ]
  },
  {
   "cell_type": "markdown",
   "metadata": {},
   "source": [
    "Installing 'tsflearn' - only run if not installed previously (if necessary, for more information see documentation of the package at https://tslearn.readthedocs.io/en/latest/index.html?highlight=install"
   ]
  },
  {
   "cell_type": "code",
   "execution_count": 1,
   "metadata": {
    "scrolled": true
   },
   "outputs": [],
   "source": [
    "##!pip install tslearn"
   ]
  },
  {
   "cell_type": "markdown",
   "metadata": {},
   "source": [
    "Importing packages"
   ]
  },
  {
   "cell_type": "code",
   "execution_count": 154,
   "metadata": {},
   "outputs": [],
   "source": [
    "import datetime\n",
    "import pandas as pd\n",
    "from pandas import Series\n",
    "from pandas import DataFrame\n",
    "from pandas import concat\n",
    "import numpy as np\n",
    "import time, datetime\n",
    "import matplotlib.pyplot as plt\n",
    "import sys\n",
    "from tslearn.generators import random_walks\n",
    "from tslearn.preprocessing import TimeSeriesScalerMeanVariance\n",
    "from tslearn.piecewise import PiecewiseAggregateApproximation\n",
    "from tslearn.piecewise import SymbolicAggregateApproximation, OneD_SymbolicAggregateApproximation\n",
    "import string\n",
    "from collections import Counter\n",
    "from nltk import ngrams\n",
    "import itertools\n",
    "import random\n",
    "from matplotlib.collections import LineCollection\n",
    "from matplotlib.colors import ListedColormap, BoundaryNorm\n",
    "from sklearn.metrics import confusion_matrix\n",
    "import seaborn as sns\n",
    "from sklearn.datasets import make_classification  \n",
    "from sklearn.neighbors import KNeighborsClassifier  \n",
    "from sklearn.ensemble import RandomForestClassifier  \n",
    "from sklearn.model_selection import train_test_split  \n",
    "from sklearn.metrics import roc_curve\n",
    "from sklearn.metrics import roc_auc_score\n",
    "from sklearn.metrics import precision_recall_curve\n",
    "from sklearn.metrics import f1_score\n",
    "from sklearn.preprocessing import MinMaxScaler"
   ]
  },
  {
   "cell_type": "markdown",
   "metadata": {},
   "source": [
    "Reading the data, converting the time to timestamp and indexing the date to use it as a time series"
   ]
  },
  {
   "cell_type": "code",
   "execution_count": 3,
   "metadata": {},
   "outputs": [],
   "source": [
    "#Data Paths\n",
    "DATA_PATH = sys.path[0]+\"\\\\data\\\\\"\n",
    "filename_train1=\"BATADAL_dataset03.csv\"\n",
    "filename_train2=\"BATADAL_dataset04.csv\"\n",
    "filename_test=\"BATADAL_test_dataset.csv\"\n",
    "\n",
    "#Reading the data\n",
    "dftrain1  = pd.read_csv(DATA_PATH + filename_train1)\n",
    "dftrain2  = pd.read_csv(DATA_PATH + filename_train2)\n",
    "dftest  = pd.read_csv(DATA_PATH + filename_test)\n",
    "\n",
    "# Modify string date to timestamp\n",
    "dftrain1.DATETIME = dftrain1.DATETIME.apply(lambda s: pd.to_datetime(s,format='%d/%m/%y %H'))\n",
    "dftrain2.DATETIME = dftrain2.DATETIME.apply(lambda s: pd.to_datetime(s,format='%d/%m/%y %H'))\n",
    "dftest.DATETIME = dftest.DATETIME.apply(lambda s: pd.to_datetime(s,format='%d/%m/%y %H'))\n",
    "\n",
    "# Choosing 0 if not an anomaly and 1 if anomaly\n",
    "#dftrain2[' ATT_FLAG']=dftrain2[' ATT_FLAG'].apply(lambda x: 0 if x==-999 else x)\n",
    "\n",
    "# Indexing\n",
    "dftrain1=dftrain1.set_index('DATETIME')\n",
    "dftrain2=dftrain2.set_index('DATETIME')\n",
    "dftest=dftest.set_index('DATETIME')\n",
    "\n",
    "#dftrain1.shift(1)"
   ]
  },
  {
   "cell_type": "markdown",
   "metadata": {},
   "source": [
    "#### Labling the attacks on dftrain2 according to the information below\n",
    "\n",
    "###### For L_T7\n",
    "13/09/2016 23 - 16/09/2016 00 |\n",
    "26/09/2016 11 - 27/09/2016 10\n",
    "###### For F_PU10 and F_PU11\n",
    "26/09/2016 11 - 27/09/2016 10\n",
    "###### For L_T1\n",
    "09/10/2016 9 - 11/10/2016 20 |\n",
    "29/10/2016 19 - 02/11/2016 16 |\n",
    "14/12/2016 15 - 19/12/2016 04\n",
    "###### For F_PU1 and F_PU2\n",
    "29/10/2016 19 - 02/11/2016 16 |\n",
    "14/12/2016 15 - 19/12/2016 04\n",
    "###### For L_T4\n",
    "26/11/2016 17 - 29/11/2016 04"
   ]
  },
  {
   "cell_type": "code",
   "execution_count": 153,
   "metadata": {},
   "outputs": [],
   "source": [
    "#L_T7\n",
    "dftrain2_L_T7=dftrain2.loc[:,[' L_T7',' ATT_FLAG']]\n",
    "dftrain2_L_T7.loc[:,' ATT_FLAG']=0\n",
    "dftrain2_L_T7.loc['2016-09-13 23':'2016-09-16 00',' ATT_FLAG']=1\n",
    "dftrain2_L_T7.loc['2016-09-26 11':'2016-09-27 10',' ATT_FLAG']=1\n",
    "#F_PU10 and F_PU11\n",
    "dftrain2_F_PU10=dftrain2.loc[:,[' F_PU10',' ATT_FLAG']]\n",
    "dftrain2_F_PU10.loc[:,' ATT_FLAG']=0\n",
    "dftrain2_F_PU10.loc['2016-09-26 11':'2016-09-27 10',' ATT_FLAG']=1\n",
    "\n",
    "dftrain2_F_PU11=dftrain2.loc[:,[' F_PU11',' ATT_FLAG']]\n",
    "dftrain2_F_PU11.loc[:,' ATT_FLAG']=0\n",
    "dftrain2_F_PU11.loc['2016-09-26 11':'2016-09-27 10',' ATT_FLAG']=1\n",
    "#L_T1\n",
    "dftrain2_L_T1=dftrain2.loc[:,[' L_T1',' ATT_FLAG']]\n",
    "dftrain2_L_T1.loc[:,' ATT_FLAG']=0\n",
    "dftrain2_L_T1.loc['2016-10-09 09':'2016-10-11 20',' ATT_FLAG']=1\n",
    "dftrain2_L_T1.loc['2016-10-29 19':'2016-11-02 16',' ATT_FLAG']=1\n",
    "dftrain2_L_T1.loc['2016-12-14 15':'2016-12-19 04',' ATT_FLAG']=1\n",
    "#F_PU1 and F_PU2\n",
    "dftrain2_F_PU1=dftrain2.loc[:,[' F_PU1',' ATT_FLAG']]\n",
    "dftrain2_F_PU1.loc[:,' ATT_FLAG']=0\n",
    "dftrain2_F_PU1.loc['2016-10-29 19':'2016-11-02 16',' ATT_FLAG']=1\n",
    "dftrain2_F_PU1.loc['2016-12-14 15':'2016-12-19 04',' ATT_FLAG']=1\n",
    "\n",
    "dftrain2_F_PU2=dftrain2.loc[:,[' F_PU2',' ATT_FLAG']]\n",
    "dftrain2_F_PU2.loc[:,' ATT_FLAG']=0\n",
    "dftrain2_F_PU2.loc['2016-10-29 19':'2016-11-02 16',' ATT_FLAG']=1\n",
    "dftrain2_F_PU2.loc['2016-12-14 15':'2016-12-19 04',' ATT_FLAG']=1\n",
    "#L_T4\n",
    "dftrain2_L_T4=dftrain2.loc[:,[' L_T4',' ATT_FLAG']]\n",
    "dftrain2_L_T4.loc[:,' ATT_FLAG']=0\n",
    "dftrain2_L_T4.loc['2016-11-26 17':'2016-11-29 04',' ATT_FLAG']=1\n",
    "\n",
    "#dftrain2[' ATT_FLAG']=dftrain2[' ATT_FLAG'].apply(lambda x: 0 if x==-999 else x)"
   ]
  },
  {
   "cell_type": "markdown",
   "metadata": {},
   "source": [
    "#### Labling the attacks on dftest according to the batadal dataset"
   ]
  },
  {
   "cell_type": "code",
   "execution_count": 175,
   "metadata": {},
   "outputs": [],
   "source": [
    "dftest[\" ATT_FLAG\"]=0\n",
    "dftest.loc['2017-01-16 09':'2017-01-19 06',' ATT_FLAG']=1\n",
    "dftest.loc['2017-01-30 08':'2017-02-02 00',' ATT_FLAG']=1\n",
    "dftest.loc['2017-02-09 03':'2017-02-10 09',' ATT_FLAG']=1\n",
    "dftest.loc['2017-02-12 01':'2017-02-13 07',' ATT_FLAG']=1\n",
    "dftest.loc['2017-02-24 05':'2017-02-28 08',' ATT_FLAG']=1\n",
    "dftest.loc['2017-03-10 14':'2017-03-13 21',' ATT_FLAG']=1\n",
    "dftest.loc['2017-03-25 20':'2017-03-27 01',' ATT_FLAG']=1"
   ]
  },
  {
   "cell_type": "markdown",
   "metadata": {},
   "source": [
    "Scaling the data to normal distribution with mean zero and standard deviation one and plotting one column to validate the execution"
   ]
  },
  {
   "cell_type": "code",
   "execution_count": 5,
   "metadata": {},
   "outputs": [],
   "source": [
    "# Getting one column to test the code\n",
    "dataset=dftrain1['L_T7']"
   ]
  },
  {
   "cell_type": "code",
   "execution_count": 6,
   "metadata": {
    "scrolled": true
   },
   "outputs": [
    {
     "name": "stderr",
     "output_type": "stream",
     "text": [
      "C:\\Users\\pvbia\\Anaconda3\\lib\\site-packages\\pandas\\plotting\\_converter.py:129: FutureWarning: Using an implicitly registered datetime converter for a matplotlib plotting method. The converter was registered by pandas on import. Future versions of pandas will require you to explicitly register matplotlib converters.\n",
      "\n",
      "To register the converters:\n",
      "\t>>> from pandas.plotting import register_matplotlib_converters\n",
      "\t>>> register_matplotlib_converters()\n",
      "  warnings.warn(msg, FutureWarning)\n"
     ]
    },
    {
     "data": {
      "text/plain": [
       "([], <a list of 0 Text xticklabel objects>)"
      ]
     },
     "execution_count": 6,
     "metadata": {},
     "output_type": "execute_result"
    },
    {
     "data": {
      "image/png": "[encoded data removed]",
      "text/plain": [
       "<Figure size 432x288 with 2 Axes>"
      ]
     },
     "metadata": {
      "needs_background": "light"
     },
     "output_type": "display_data"
    }
   ],
   "source": [
    "## Creating a function that scale and standardize a dataset\n",
    "def scaling(mu,std,data):\n",
    "    scaler = TimeSeriesScalerMeanVariance(mu=mu, std=std)\n",
    "    return scaler.fit_transform(data)\n",
    "\n",
    "## Running the function\n",
    "dataset_scale=scaling(0,1,dataset)\n",
    "\n",
    "## Plotting the first 100 observations to check if it worked\n",
    "\n",
    "# Plotting the original time series\n",
    "plt.figure()\n",
    "plt.subplot(2, 1, 1)  # First, raw time series\n",
    "plt.plot(dataset[0:100], \"b-\")\n",
    "plt.title(\"Original Time Series\")\n",
    "plt.xticks([])\n",
    "\n",
    "# Plotting the scaled time series\n",
    "plt.subplot(2, 1, 2)  # Second, PAA\n",
    "plt.plot(dataset_scale.ravel()[0:100], \"b-\")\n",
    "plt.title(\"Scaled time series\")\n",
    "plt.xticks([])"
   ]
  },
  {
   "cell_type": "markdown",
   "metadata": {},
   "source": [
    "## 2) Discretization "
   ]
  },
  {
   "cell_type": "markdown",
   "metadata": {},
   "source": [
    "Creating a Piecewise Aggregate Approximation (PAA) representation (not necessary for the sake of the code, we just used it to plot and compare with the SAX representation to validate the transformation)"
   ]
  },
  {
   "cell_type": "code",
   "execution_count": 7,
   "metadata": {
    "scrolled": true
   },
   "outputs": [],
   "source": [
    "### Firstly, creting a function that creates the PPA\n",
    "def ppa(n_paa_segments,dataset_scale):\n",
    "    # Number of PAA segments to compute - one segment for every 4 hours\n",
    "    n_paa_segments=int(round([len(x) for x in dataset_scale][0]/4,0))\n",
    "    # Creating a piecewise aggregation approximation using n_paa_segments\n",
    "    paa = PiecewiseAggregateApproximation(n_segments=n_paa_segments)\n",
    "    # Compute paa time series corresponding (by paa.inverse_trasnform) to the fitted PAA representation (done by fit_transform)\n",
    "    return  paa.inverse_transform(paa.fit_transform(dataset_scale))\n",
    "\n",
    "### Running the function to test it for a given column of the dataset\n",
    "n_paa_segments=int(round(len(dftrain1)/4,0))\n",
    "paa_dataset_inv=ppa(n_paa_segments,dataset_scale)"
   ]
  },
  {
   "cell_type": "markdown",
   "metadata": {},
   "source": [
    "Creating the Symbolic Aggregate Approximation (SAX)"
   ]
  },
  {
   "cell_type": "code",
   "execution_count": 8,
   "metadata": {},
   "outputs": [],
   "source": [
    "### Firstly, creting a function that creates the sax\n",
    "def tosax(n_paa_segments,n_sax_symbols,dataset_scale):\n",
    "    #Creating the SAX using 'n_paa_segments' as number of segments and 'n_sax_symbols' as number of symbols\n",
    "    sax = SymbolicAggregateApproximation(n_segments=n_paa_segments, alphabet_size_avg=n_sax_symbols)\n",
    "    # Compute sax time series corresponding (by sax.inverse_transform) to the fitted PAA representation (done by sax.fit_transform)\n",
    "    return sax.inverse_transform(sax.fit_transform(dataset_scale))\n",
    "\n",
    "### Running the function to test it for a given column of the dataset\n",
    "n_sax_symbols = 5\n",
    "sax_dataset_inv=tosax(n_paa_segments,n_sax_symbols,dataset_scale)"
   ]
  },
  {
   "cell_type": "markdown",
   "metadata": {},
   "source": [
    "Plotting the scaled time series, PAA and SAX representations for the sake of validation of the code"
   ]
  },
  {
   "cell_type": "code",
   "execution_count": 9,
   "metadata": {
    "scrolled": false
   },
   "outputs": [
    {
     "data": {
      "image/png": "[encoded data removed]",
      "text/plain": [
       "<Figure size 432x288 with 3 Axes>"
      ]
     },
     "metadata": {
      "needs_background": "light"
     },
     "output_type": "display_data"
    }
   ],
   "source": [
    "#Plotting - only 100 first values to test the code isworking as expected\n",
    "\n",
    "# Plotting the scaled data set\n",
    "plt.subplot(2, 2, 2)  # First, raw time series\n",
    "plt.plot(dataset_scale.ravel()[0:300], \"b-\")\n",
    "plt.title(\"Original Time Series\")\n",
    "\n",
    "#Plotting the PAA (ONLY FOR COMPARISON PURPOSES)\n",
    "plt.subplot(2, 2, 3)  \n",
    "plt.plot(paa_dataset_inv[0].ravel()[0:300], \"b-\")\n",
    "plt.title(\"PAA\")\n",
    "\n",
    "#Plotting the SAX\n",
    "plt.subplot(2, 2, 1)  # Then SAX\n",
    "plt.plot(sax_dataset_inv[0].ravel()[0:300], \"b-\")\n",
    "plt.title(\"SAX, %d symbols\" % n_sax_symbols)\n",
    "\n",
    "plt.tight_layout()\n",
    "plt.show()"
   ]
  },
  {
   "cell_type": "markdown",
   "metadata": {},
   "source": [
    "## 3) N-Grams Representations"
   ]
  },
  {
   "cell_type": "markdown",
   "metadata": {},
   "source": [
    "Creating a function that returns its n-gram representation."
   ]
  },
  {
   "cell_type": "code",
   "execution_count": 10,
   "metadata": {},
   "outputs": [],
   "source": [
    "#'a' will be used just to test the functions below.\n",
    "a=sax_dataset_inv[0].ravel()"
   ]
  },
  {
   "cell_type": "markdown",
   "metadata": {},
   "source": [
    "We need function(s) to convert numeric values generated from the sax to a string to perform N-grams as a it was a NLP problem. For this purpose two functions were created: the first just put all the values of a list in a string and the second convert numerical values of the sax to letters"
   ]
  },
  {
   "cell_type": "code",
   "execution_count": 11,
   "metadata": {},
   "outputs": [],
   "source": [
    "# First function convert a list of numeric values to a string\n",
    "def convert(list): \n",
    "    # Converting integer list to string list \n",
    "    s = [str(i) for i in list] \n",
    "    # Join list items using join() \n",
    "    res = (\"\".join(s)) \n",
    "    return(res) "
   ]
  },
  {
   "cell_type": "code",
   "execution_count": 12,
   "metadata": {},
   "outputs": [],
   "source": [
    "# Second function to convert a sax numeric representation into strings\n",
    "def saxtostring(sax):\n",
    "    #Creating a list with all unique elements\n",
    "    setsax=set(sax)\n",
    "    L=[]\n",
    "    for i in setsax:\n",
    "        L.append(i)\n",
    "    L=sorted(L)\n",
    "    #Creating a dictinary with the elements that need to be converted\n",
    "    D={}\n",
    "    for i in range(0,len(L)):\n",
    "        D[L[i]]=string.ascii_lowercase[i]\n",
    "    #Converting the numerical values to strings\n",
    "    output=[]\n",
    "    for i in range(0,len(sax)):\n",
    "        output.append(D[sax[i]])\n",
    "    return output  \n",
    "#To test\n",
    "b=saxtostring(a)"
   ]
  },
  {
   "cell_type": "markdown",
   "metadata": {},
   "source": [
    "Now to generate Ngrams we need a function that gather from the data the possible grams and their possible next values."
   ]
  },
  {
   "cell_type": "code",
   "execution_count": 23,
   "metadata": {},
   "outputs": [],
   "source": [
    "#Function that creates the Ngrams representation by creating a dictionary that has as keys the representations and as values\n",
    "#the number elements generated after the n-gram\n",
    "def tongrams(tokens,n):\n",
    "    #Creates a dictionary with the Ngrams representation and the next element (that is to be predicted by the ngrams)\n",
    "    D = {}\n",
    "    #Loop needs to go up to len(tokens)-n-1 to not get out of bounds\n",
    "    for i in range(0,len(tokens)-n-1):\n",
    "        #If new key, we add this key to the dictionary\n",
    "        if convert(tokens[i:(i+n)]) not in D.keys():\n",
    "            D[convert(tokens[i:(i+n)])] = [convert(tokens[i+n+1])]\n",
    "        #If existing key, append new value\n",
    "        else:\n",
    "            D[convert(tokens[i:(i+n)])].append(tokens[i+n+1])\n",
    "    return D\n",
    "#To test\n",
    "g=tongrams(b,3)"
   ]
  },
  {
   "cell_type": "markdown",
   "metadata": {},
   "source": [
    "Now we create a Markov Chain that calculates the prior and the posterior given the dictionary generated by the previous function."
   ]
  },
  {
   "cell_type": "code",
   "execution_count": 14,
   "metadata": {},
   "outputs": [],
   "source": [
    "#Function that calcualte the likelihood given a ngram\n",
    "def tomarkovchain(ngram):\n",
    "    #Create dictionary to be filled with the probability of conditional events (likelihood)\n",
    "    l_probs=dict()\n",
    "    #Create the dictionaries to be filled with the counting for each gram\n",
    "    c1=dict()\n",
    "    #Loop through keys to calculate the likelihood for each key\n",
    "    for key in ngram.keys():\n",
    "        #Create the variable to be filled with tally of the number of times that a value repeat for each key\n",
    "        counts = dict()\n",
    "        for i in ngram[key]:\n",
    "            counts[i] = counts.get(i, 0) + 1\n",
    "        #Create the dictionary to be filled with the probability of the conditional events (likelihood)\n",
    "        l=dict()\n",
    "\n",
    "        #Calculate the probability by dividing the count to the sum of values\n",
    "        for j in counts.keys():\n",
    "            l[j]=counts[j]/sum(counts.values())\n",
    "    \n",
    "        #Assign to each key the dictionary with the probabilities\n",
    "        l_probs[key]=l\n",
    "        #Assign to each key the dictionary with the counting\n",
    "        c1[key]=counts\n",
    "    \n",
    "\n",
    "    # Return the likelihood,the prior and the counting\n",
    "    return [l_probs,c1]\n",
    "\n",
    "#To test\n",
    "m=tomarkovchain(g)"
   ]
  },
  {
   "cell_type": "code",
   "execution_count": 15,
   "metadata": {},
   "outputs": [
    {
     "data": {
      "text/plain": [
       "0.0625"
      ]
     },
     "execution_count": 15,
     "metadata": {},
     "output_type": "execute_result"
    }
   ],
   "source": [
    "#Smoothing the prior\n",
    "#This function return the smoothed probability\n",
    "def smooth_ngram_prob(markovchain_model,n_sax_symbols,input_gram,output_gram):\n",
    "    \n",
    "    #Calculating denominators\n",
    "    ngrams_number=len(random.choice(list(markovchain_model[0].keys())))\n",
    "    \n",
    "    #Smoothing\n",
    "    if input_gram in markovchain_model[1].keys():\n",
    "        total_values_for_the_key=sum(markovchain_model[1][input_gram].values())\n",
    "        #The Probability is calculated by adding 1 observation for all possible grams (total of n_sax_symbols**ngrams_number )\n",
    "        smoothed=(markovchain_model[1][input_gram].get(output_gram,0)+1)/(total_values_for_the_key+n_sax_symbols)\n",
    "    else:\n",
    "        #There is no observation of this gram\n",
    "        smoothed=0\n",
    "        \n",
    "    return smoothed\n",
    "\n",
    "#To test\n",
    "smooth_ngram_prob(m,5,\"aae\",\"a\")\n"
   ]
  },
  {
   "cell_type": "markdown",
   "metadata": {},
   "source": [
    "Lastly, we create a function that loop through the dataframe and return the index that are below a certain threshold"
   ]
  },
  {
   "cell_type": "code",
   "execution_count": 16,
   "metadata": {},
   "outputs": [],
   "source": [
    "def prediction(markovchain_model,n_sax_symbols,string_sax, threshold):\n",
    "    #Calculating number of ngrams used\n",
    "    n=len(random.choice(list(markovchain_model[0].keys())))\n",
    "    #Calculationg the number of times a observation should be reproduced so the data set has the same size as the original\n",
    "\n",
    "    #Creating the list to store the values\n",
    "    L=[]\n",
    "    #And a list to store the probabilities\n",
    "    P=[]\n",
    "    #looping\n",
    "    for i in range(0,len(string_sax)):\n",
    "        if (i<=(n+1)):\n",
    "            L.append(0)\n",
    "            P.append(0)\n",
    "        else:\n",
    "            P.append(smooth_ngram_prob(markovchain_model,n_sax_symbols,convert(string_sax[i:(i+n)]),string_sax[i]))\n",
    "            if smooth_ngram_prob(markovchain_model,n_sax_symbols,convert(string_sax[i:(i+n)]),string_sax[i])<threshold:\n",
    "                L.append(1)\n",
    "            else:\n",
    "                L.append(0)\n",
    "    return [L,P]\n",
    "\n",
    "pred_test=prediction(m,5,b, 0.05)[0]"
   ]
  },
  {
   "cell_type": "markdown",
   "metadata": {},
   "source": [
    "And a function that merge the predictions into the original dataframe considering the possible rounding differences that may lead to difference in length when creating SAX"
   ]
  },
  {
   "cell_type": "code",
   "execution_count": 17,
   "metadata": {},
   "outputs": [],
   "source": [
    "def smartmerge(df,predictions):\n",
    "    df=pd.Series.to_frame(df)\n",
    "    \n",
    "    if len(predictions)==len(df):\n",
    "        df.insert(1, \"predictions\", predictions)\n",
    "        df.reset_index(inplace=True)\n",
    "    \n",
    "    if len(predictions)>len(df):\n",
    "        predictions=predictions[:-(len(predictions)-len(df))]\n",
    "        df.insert(1, \"predictions\", predictions)\n",
    "        df.reset_index(inplace=True)\n",
    "    \n",
    "    if len(predictions)<len(df):\n",
    "        for i in range(0,(len(df)-len(predictions))):\n",
    "            predictions.append(0)\n",
    "            df.insert(1, \"predictions\", predictions)\n",
    "            \n",
    "    #To help to plot latter\n",
    "    #df['color'] = df['predictions'].apply(lambda x: \"blue\" if x==0 else \"red\")\n",
    "        \n",
    "    return df        "
   ]
  },
  {
   "cell_type": "markdown",
   "metadata": {},
   "source": [
    "## 4) Predictions Attacks Using N-grams"
   ]
  },
  {
   "cell_type": "markdown",
   "metadata": {},
   "source": [
    "_In this subchapter we are going to try to predict the attacks on the training dataset 2_"
   ]
  },
  {
   "cell_type": "markdown",
   "metadata": {},
   "source": [
    "### Creating functions that aid the prediction"
   ]
  },
  {
   "cell_type": "markdown",
   "metadata": {},
   "source": [
    "Creating a function that make predicitons and calculate performance indicators."
   ]
  },
  {
   "cell_type": "code",
   "execution_count": null,
   "metadata": {},
   "outputs": [],
   "source": [
    "def model_to_predict(trainset,testset,results,n_sax_symbols,n_paa_segments,n_grams,threshold):\n",
    "   \n",
    "    ###Generating the model for the train set###\n",
    "    #Scaling\n",
    "    s_train=scaling(0,1,trainset)\n",
    "    #Sax\n",
    "    sax_train=tosax(n_paa_segments,n_sax_symbols,s_train).ravel()\n",
    "    #Sax to string\n",
    "    sax_string_train=saxtostring(sax_train)\n",
    "    #Ngrams\n",
    "    ngrams=tongrams(sax_string_train,n_grams)\n",
    "    #Markov Chain\n",
    "    m=tomarkovchain(ngrams)\n",
    "    \n",
    "    ###Preparing the test set###\n",
    "    #Scaling\n",
    "    s_test=scaling(0,1,testset)\n",
    "    #Sax\n",
    "    sax_test=tosax(n_paa_segments,n_sax_symbols,s_test).ravel()\n",
    "    #Sax to string\n",
    "    sax_string_test=saxtostring(sax_test)\n",
    "\n",
    "    ###Making predictions\n",
    "    pred=prediction(m,n_sax_symbols,sax_string_test, threshold)[0]\n",
    "    predictions_df=smartmerge(testset,pred)\n",
    "    \n",
    "    ###Calculating the performance\n",
    "    cm=confusion_matrix(list(results), list(predictions_df['predictions']))\n",
    "    if cm.shape==(3,3):\n",
    "        cm=cm[(0,2),1:]\n",
    "    #True positive, false positive, false negative and true positive\n",
    "    tn, fp, fn, tp = cm.ravel()\n",
    "    #Getting the ratios\n",
    "    recall=tp/(tp+fn)\n",
    "    precision=tp/(tp+fp)\n",
    "    accuracy=(tp+tn)/(tp+tn+fn+fp)\n",
    "    f1=f1_score(list(results), list(predictions_df['predictions']),average='micro')\n",
    "    performance={\"recall\":recall,\"precision\":precision,\"Accuracy\":accuracy,\"F1\":f1}\n",
    "    #Probability vector\n",
    "    probab=prediction(m,n_sax_symbols,sax_string_test, threshold)[1]\n",
    "    #area_precision_recall_curve = roc_auc_score(results, probab)\n",
    "    #F1 score\n",
    "   \n",
    "    \n",
    "    return [cm,performance,probab]"
   ]
  },
  {
   "cell_type": "code",
   "execution_count": 126,
   "metadata": {},
   "outputs": [],
   "source": [
    "#Testing\n",
    "sax=5\n",
    "paa=336\n",
    "n=10\n",
    "t=0.05\n",
    "MODEL=model_to_predict(dftrain1[\"L_T7\"],dftrain2[\" L_T7\"],dftrain2[' ATT_FLAG'],sax,paa,n,t)"
   ]
  },
  {
   "cell_type": "markdown",
   "metadata": {},
   "source": [
    "Creating a function that plot the confusion matrix"
   ]
  },
  {
   "cell_type": "code",
   "execution_count": 72,
   "metadata": {},
   "outputs": [],
   "source": [
    "def ploting_cm(cm):\n",
    "    \n",
    "    #Plot\n",
    "    ax= plt.subplot()\n",
    "    sns.heatmap(cm, annot=True,fmt='g', ax = ax); #annot=True to annotate cells\n",
    "\n",
    "    # labels, title and ticks\n",
    "    ax.set_xlabel('Predicted labels');ax.set_ylabel('True labels'); \n",
    "    ax.set_title('Confusion Matrix'); \n",
    "    ax.xaxis.set_ticklabels(['normal', 'anomaly']); ax.yaxis.set_ticklabels(['normal', 'anomaly'])"
   ]
  },
  {
   "cell_type": "markdown",
   "metadata": {},
   "source": [
    "Creating a function that loop over the parameters and select based on that the best set of parameters"
   ]
  },
  {
   "cell_type": "code",
   "execution_count": 176,
   "metadata": {},
   "outputs": [],
   "source": [
    "#Using accuracy\n",
    "def parameterselection(trainset,testset,results):\n",
    "    #Creating model with 0 performance\n",
    "    best_MODEL=[0,{\"recall\":0,\"precision\":0,\"Accuracy\":0,\"F1\":0}]\n",
    "    #Iterating\n",
    "    for sax in range(4,11,2):\n",
    "        for paa in range(2,41,4):\n",
    "            for n in range(2,31,4):\n",
    "                for t in [0.005,0.01,0.05]:\n",
    "                   #MODEL=model_to_predict(trainset,testset,results,sax,int(len(dftrain1)/paa),n,t/2000)\n",
    "                    MODEL=model_to_predict(trainset,testset,results,sax,int(len(dftrain1)/paa),n,t)\n",
    "                    # Selection using the F1 index\n",
    "                    if MODEL[1][\"Accuracy\"]>0.7 and MODEL[1][\"recall\"]>best_MODEL[1][\"recall\"] and MODEL[1][\"Accuracy\"]>best_MODEL[1][\"Accuracy\"]:\n",
    "                        best_MODEL=MODEL\n",
    "                       #parameters={\"sax\":sax,\"paa\":int(len(dftrain1)/paa),\"ngram\":n,\"threshold\":t/2000}\n",
    "                        parameters={\"sax\":sax,\"paa\":paa,\"ngram\":n,\"threshold\":t}\n",
    "                        \n",
    "    return [best_MODEL,parameters]"
   ]
  },
  {
   "cell_type": "markdown",
   "metadata": {},
   "source": [
    "### Predicting Attacks for some sensors in the train data set 2"
   ]
  },
  {
   "cell_type": "markdown",
   "metadata": {},
   "source": [
    "The Loop below will select the best parameters for the model.\n",
    "\n",
    "**It takes time(roughly 4 hours in my computer) to run , please be advised**\n",
    "\n",
    "_The code will just select the best parameters based on the train set 2 - nothing else_"
   ]
  },
  {
   "cell_type": "code",
   "execution_count": 157,
   "metadata": {},
   "outputs": [],
   "source": [
    "#L_T7\n",
    "L_T7=parameterselection(dftrain1[\"L_T7\"],dftrain2_L_T7[\" L_T7\"],dftrain2_L_T7[' ATT_FLAG'])\n",
    "#F_PU10\n",
    "F_PU10=parameterselection(dftrain1[\"F_PU10\"],dftrain2_F_PU10[\" F_PU10\"],dftrain2_F_PU10[' ATT_FLAG'])\n",
    "\n",
    "#F_PU11\n",
    "F_PU11=parameterselection(dftrain1[\"F_PU11\"],dftrain2_F_PU11[\" F_PU11\"],dftrain2_F_PU11[' ATT_FLAG'])\n",
    "\n",
    "#L_T1\n",
    "L_T1=parameterselection(dftrain1[\"L_T1\"],dftrain2_L_T1[\" L_T1\"],dftrain2_L_T1[' ATT_FLAG'])\n",
    "\n",
    "#F_PU1\n",
    "F_PU1=parameterselection(dftrain1[\"F_PU1\"],dftrain2_F_PU1[\" F_PU1\"],dftrain2_F_PU1[' ATT_FLAG'])\n",
    "\n",
    "#F_PU2\n",
    "F_PU2=parameterselection(dftrain1[\"F_PU2\"],dftrain2_F_PU2[\" F_PU2\"],dftrain2_F_PU2[' ATT_FLAG'])\n",
    "\n",
    "#L_T4\n",
    "L_T4=parameterselection(dftrain1[\"L_T4\"],dftrain2_L_T4[\" L_T4\"],dftrain2_L_T4[' ATT_FLAG'])"
   ]
  },
  {
   "cell_type": "markdown",
   "metadata": {},
   "source": [
    "### Predicting Attacks for some sensors in the test data"
   ]
  },
  {
   "cell_type": "markdown",
   "metadata": {},
   "source": [
    "Columns atacked are 'L_T3', 'F_PU4', 'F_PU5', 'L_T2, 'V2', 'P_J14', 'P_J422, 'L_T7', 'F_PU10', 'F_PU11', 'L_T6'.\n",
    "\n",
    "The parameters for prediction will be those optimized by on the traindataset 2. When not available the parameters will be for one close variable"
   ]
  },
  {
   "cell_type": "code",
   "execution_count": null,
   "metadata": {},
   "outputs": [],
   "source": [
    "results=dftest[\" ATT_FLAG\"]\n",
    "#'L_T3'\n",
    "trainset=dftrain1['L_T3']\n",
    "testset=dftest['L_T3']\n",
    "sax=L_T4[1][\"sax\"]\n",
    "paa=L_T4[1][\"paa\"]\n",
    "n=L_T4[1][\"ngram\"]\n",
    "t=L_T4[1][\"threshold\"]\n",
    "MODEL_LT3=model_to_predict(trainset,testset,results,sax,int(len(dftrain1)/paa),n,t)\n",
    "#'F_PU4'\n",
    "trainset=dftrain1['F_PU4']\n",
    "testset=dftest['F_PU4']\n",
    "sax=F_PU2[1][\"sax\"]\n",
    "paa=F_PU2[1][\"paa\"]\n",
    "n=F_PU2[1][\"ngram\"]\n",
    "t=F_PU2[1][\"threshold\"]\n",
    "MODEL_F_PU4=model_to_predict(trainset,testset,results,sax,int(len(dftrain1)/paa),n,t)\n",
    "#'F_PU5'\n",
    "trainset=dftrain1['F_PU5']\n",
    "testset=dftest['F_PU5']\n",
    "sax=F_PU11[1][\"sax\"]\n",
    "paa=F_PU11[1][\"paa\"]\n",
    "n=F_PU11[1][\"ngram\"]\n",
    "t=F_PU11[1][\"threshold\"]\n",
    "MODEL_F_PU5=model_to_predict(trainset,testset,results,sax,int(len(dftrain1)/paa),n,t)\n",
    "#'L_T2\n",
    "trainset=dftrain1['L_T2']\n",
    "testset=dftest['L_T2']\n",
    "sax=L_T1[1][\"sax\"]\n",
    "paa=L_T1[1][\"paa\"]\n",
    "n=L_T1[1][\"ngram\"]\n",
    "t=L_T1[1][\"threshold\"]\n",
    "MODEL_L_T2=model_to_predict(trainset,testset,results,sax,int(len(dftrain1)/paa),n,t)\n",
    "#'P_J14'\n",
    "trainset=dftrain1['P_J14']\n",
    "testset=dftest['P_J14']\n",
    "sax=L_T7[1][\"sax\"]\n",
    "paa=L_T7[1][\"paa\"]\n",
    "n=L_T7[1][\"ngram\"]\n",
    "t=L_T7[1][\"threshold\"]\n",
    "MODEL_P_J14=model_to_predict(trainset,testset,results,sax,int(len(dftrain1)/paa),n,t)\n",
    "#'P_J422\n",
    "trainset=dftrain1['P_J422']\n",
    "testset=dftest['P_J422']\n",
    "sax=L_T7[1][\"sax\"]\n",
    "paa=L_T7[1][\"paa\"]\n",
    "n=L_T7[1][\"ngram\"]\n",
    "t=L_T7[1][\"threshold\"]\n",
    "MODEL_P_J422=model_to_predict(trainset,testset,results,sax,int(len(dftrain1)/paa),n,t)\n",
    "#'L_T7'\n",
    "trainset=dftrain1['L_T7']\n",
    "testset=dftest['L_T7']\n",
    "sax=L_T7[1][\"sax\"]\n",
    "paa=L_T7[1][\"paa\"]\n",
    "n=L_T7[1][\"ngram\"]\n",
    "t=L_T7[1][\"threshold\"]\n",
    "MODEL_L_T7=model_to_predict(trainset,testset,results,sax,int(len(dftrain1)/paa),n,t)\n",
    "#'F_PU10'\n",
    "trainset=dftrain1['F_PU10']\n",
    "testset=dftest['F_PU10']\n",
    "sax=F_PU10[1][\"sax\"]\n",
    "paa=F_PU10[1][\"paa\"]\n",
    "n=F_PU10[1][\"ngram\"]\n",
    "t=F_PU10[1][\"threshold\"]\n",
    "MODEL_F_PU10=model_to_predict(trainset,testset,results,sax,int(len(dftrain1)/paa),n,t)\n",
    "#'F_PU11'\n",
    "trainset=dftrain1['F_PU11']\n",
    "testset=dftest['F_PU11']\n",
    "sax=F_PU11[1][\"sax\"]\n",
    "paa=F_PU11[1][\"paa\"]\n",
    "n=F_PU11[1][\"ngram\"]\n",
    "t=F_PU11[1][\"threshold\"]\n",
    "MODEL_F_PU11=model_to_predict(trainset,testset,results,sax,int(len(dftrain1)/paa),n,t)\n",
    "#'L_T6'\n",
    "trainset=dftrain1['L_T6']\n",
    "testset=dftest['L_T6']\n",
    "sax=L_T4[1][\"sax\"]\n",
    "paa=L_T4[1][\"paa\"]\n",
    "n=L_T4[1][\"ngram\"]\n",
    "t=L_T4[1][\"threshold\"]\n",
    "MODEL_L_T6=model_to_predict(trainset,testset,results,sax,int(len(dftrain1)/paa),n,t)"
   ]
  }
 ],
 "metadata": {
  "kernelspec": {
   "display_name": "Python 3",
   "language": "python",
   "name": "python3"
  },
  "language_info": {
   "codemirror_mode": {
    "name": "ipython",
    "version": 3
   },
   "file_extension": ".py",
   "mimetype": "text/x-python",
   "name": "python",
   "nbconvert_exporter": "python",
   "pygments_lexer": "ipython3",
   "version": "3.7.1"
  }
 },
 "nbformat": 4,
 "nbformat_minor": 2
}
