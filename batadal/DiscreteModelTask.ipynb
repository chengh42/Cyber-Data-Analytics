{
 "cells": [
  {
   "cell_type": "markdown",
   "metadata": {},
   "source": [
    "# Discrete Models Task"
   ]
  },
  {
   "cell_type": "markdown",
   "metadata": {},
   "source": [
    "### 1) Data Preparation"
   ]
  },
  {
   "cell_type": "markdown",
   "metadata": {},
   "source": [
    "Installing 'tsflearn' - only run if not installed previously (if necessary, for more information see documentation of the package at https://tslearn.readthedocs.io/en/latest/index.html?highlight=install"
   ]
  },
  {
   "cell_type": "code",
<<<<<<< HEAD
   "execution_count": 1,
=======
   "execution_count": 3,
>>>>>>> 0dde59c6f9670cb89802f8978ccb13833abd2978
   "metadata": {
    "scrolled": true
   },
   "outputs": [
    {
     "name": "stdout",
     "output_type": "stream",
     "text": [
      "Requirement already satisfied: tflearn in c:\\users\\pvbia\\anaconda3\\lib\\site-packages (0.3.2)\n",
      "Requirement already satisfied: six in c:\\users\\pvbia\\anaconda3\\lib\\site-packages (from tflearn) (1.12.0)\n",
      "Requirement already satisfied: Pillow in c:\\users\\pvbia\\anaconda3\\lib\\site-packages (from tflearn) (5.3.0)\n",
      "Requirement already satisfied: numpy in c:\\users\\pvbia\\anaconda3\\lib\\site-packages (from tflearn) (1.15.4)\n"
     ]
    }
   ],
   "source": [
    "#!pip install tslearn"
   ]
  },
  {
   "cell_type": "markdown",
   "metadata": {},
   "source": [
    "Importing packages"
   ]
  },
  {
   "cell_type": "code",
<<<<<<< HEAD
   "execution_count": 154,
=======
   "execution_count": 220,
>>>>>>> 0dde59c6f9670cb89802f8978ccb13833abd2978
   "metadata": {},
   "outputs": [],
   "source": [
    "import pandas as pd\n",
    "from pandas import Series\n",
    "from pandas import DataFrame\n",
    "from pandas import concat\n",
    "import numpy as np\n",
    "import time, datetime\n",
    "import matplotlib.pyplot as plt\n",
    "import sys\n",
    "from tslearn.generators import random_walks\n",
    "from tslearn.preprocessing import TimeSeriesScalerMeanVariance\n",
    "from tslearn.piecewise import PiecewiseAggregateApproximation\n",
    "from tslearn.piecewise import SymbolicAggregateApproximation, OneD_SymbolicAggregateApproximation\n",
    "import string\n",
    "from collections import Counter\n",
    "from nltk import ngrams\n",
<<<<<<< HEAD
    "import itertools\n",
    "import random\n",
    "from matplotlib.collections import LineCollection\n",
    "from matplotlib.colors import ListedColormap, BoundaryNorm\n",
    "from sklearn.metrics import confusion_matrix\n",
    "import seaborn as sns\n",
    "from sklearn.datasets import make_classification  \n",
    "from sklearn.neighbors import KNeighborsClassifier  \n",
    "from sklearn.ensemble import RandomForestClassifier  \n",
    "from sklearn.model_selection import train_test_split  \n",
    "from sklearn.metrics import roc_curve\n",
    "from sklearn.metrics import roc_auc_score\n",
    "from sklearn.metrics import precision_recall_curve\n",
    "from sklearn.metrics import f1_score\n",
    "from sklearn.preprocessing import MinMaxScaler"
=======
    "import itertools"
>>>>>>> 0dde59c6f9670cb89802f8978ccb13833abd2978
   ]
  },
  {
   "cell_type": "markdown",
   "metadata": {},
   "source": [
    "Reading the data, converting the time to timestamp and indexing the date to use it as a time series"
   ]
  },
  {
   "cell_type": "code",
   "execution_count": 3,
   "metadata": {},
   "outputs": [],
   "source": [
    "#Data Paths\n",
    "DATA_PATH = sys.path[0]+\"\\\\data\\\\\"\n",
    "filename_train1=\"BATADAL_dataset03.csv\"\n",
    "filename_train2=\"BATADAL_dataset04.csv\"\n",
    "filename_test=\"BATADAL_test_dataset.csv\"\n",
    "\n",
    "#Reading the data\n",
    "dftrain1  = pd.read_csv(DATA_PATH + filename_train1)\n",
    "dftrain2  = pd.read_csv(DATA_PATH + filename_train2)\n",
    "dftest  = pd.read_csv(DATA_PATH + filename_test)\n",
    "\n",
    "# Modify string date to timestamp\n",
    "dftrain1.DATETIME = dftrain1.DATETIME.apply(lambda s: pd.to_datetime(s,format='%d/%m/%y %H'))\n",
    "dftrain2.DATETIME = dftrain2.DATETIME.apply(lambda s: pd.to_datetime(s,format='%d/%m/%y %H'))\n",
    "dftest.DATETIME = dftest.DATETIME.apply(lambda s: pd.to_datetime(s,format='%d/%m/%y %H'))\n",
    "\n",
<<<<<<< HEAD
    "# Choosing 0 if not an anomaly and 1 if anomaly\n",
    "#dftrain2[' ATT_FLAG']=dftrain2[' ATT_FLAG'].apply(lambda x: 0 if x==-999 else x)\n",
    "\n",
=======
>>>>>>> 0dde59c6f9670cb89802f8978ccb13833abd2978
    "# Indexing\n",
    "dftrain1=dftrain1.set_index('DATETIME')\n",
    "dftrain2=dftrain2.set_index('DATETIME')\n",
    "dftest=dftest.set_index('DATETIME')\n",
    "\n",
    "#dftrain1.shift(1)"
   ]
  },
  {
   "cell_type": "markdown",
   "metadata": {},
   "source": [
    "#### Labling the attacks on dftrain2 according to the information below\n",
    "\n",
    "###### For L_T7\n",
    "13/09/2016 23 - 16/09/2016 00 |\n",
    "26/09/2016 11 - 27/09/2016 10\n",
    "###### For F_PU10 and F_PU11\n",
    "26/09/2016 11 - 27/09/2016 10\n",
    "###### For L_T1\n",
    "09/10/2016 9 - 11/10/2016 20 |\n",
    "29/10/2016 19 - 02/11/2016 16 |\n",
    "14/12/2016 15 - 19/12/2016 04\n",
    "###### For F_PU1 and F_PU2\n",
    "29/10/2016 19 - 02/11/2016 16 |\n",
    "14/12/2016 15 - 19/12/2016 04\n",
    "###### For L_T4\n",
    "26/11/2016 17 - 29/11/2016 04"
   ]
  },
  {
   "cell_type": "code",
   "execution_count": 153,
   "metadata": {},
   "outputs": [],
   "source": [
    "#L_T7\n",
    "dftrain2_L_T7=dftrain2.loc[:,[' L_T7',' ATT_FLAG']]\n",
    "dftrain2_L_T7.loc[:,' ATT_FLAG']=0\n",
    "dftrain2_L_T7.loc['2016-09-13 23':'2016-09-16 00',' ATT_FLAG']=1\n",
    "dftrain2_L_T7.loc['2016-09-26 11':'2016-09-27 10',' ATT_FLAG']=1\n",
    "#F_PU10 and F_PU11\n",
    "dftrain2_F_PU10=dftrain2.loc[:,[' F_PU10',' ATT_FLAG']]\n",
    "dftrain2_F_PU10.loc[:,' ATT_FLAG']=0\n",
    "dftrain2_F_PU10.loc['2016-09-26 11':'2016-09-27 10',' ATT_FLAG']=1\n",
    "\n",
    "dftrain2_F_PU11=dftrain2.loc[:,[' F_PU11',' ATT_FLAG']]\n",
    "dftrain2_F_PU11.loc[:,' ATT_FLAG']=0\n",
    "dftrain2_F_PU11.loc['2016-09-26 11':'2016-09-27 10',' ATT_FLAG']=1\n",
    "#L_T1\n",
    "dftrain2_L_T1=dftrain2.loc[:,[' L_T1',' ATT_FLAG']]\n",
    "dftrain2_L_T1.loc[:,' ATT_FLAG']=0\n",
    "dftrain2_L_T1.loc['2016-10-09 09':'2016-10-11 20',' ATT_FLAG']=1\n",
    "dftrain2_L_T1.loc['2016-10-29 19':'2016-11-02 16',' ATT_FLAG']=1\n",
    "dftrain2_L_T1.loc['2016-12-14 15':'2016-12-19 04',' ATT_FLAG']=1\n",
    "#F_PU1 and F_PU2\n",
    "dftrain2_F_PU1=dftrain2.loc[:,[' F_PU1',' ATT_FLAG']]\n",
    "dftrain2_F_PU1.loc[:,' ATT_FLAG']=0\n",
    "dftrain2_F_PU1.loc['2016-10-29 19':'2016-11-02 16',' ATT_FLAG']=1\n",
    "dftrain2_F_PU1.loc['2016-12-14 15':'2016-12-19 04',' ATT_FLAG']=1\n",
    "\n",
    "dftrain2_F_PU2=dftrain2.loc[:,[' F_PU2',' ATT_FLAG']]\n",
    "dftrain2_F_PU2.loc[:,' ATT_FLAG']=0\n",
    "dftrain2_F_PU2.loc['2016-10-29 19':'2016-11-02 16',' ATT_FLAG']=1\n",
    "dftrain2_F_PU2.loc['2016-12-14 15':'2016-12-19 04',' ATT_FLAG']=1\n",
    "#L_T4\n",
    "dftrain2_L_T4=dftrain2.loc[:,[' L_T4',' ATT_FLAG']]\n",
    "dftrain2_L_T4.loc[:,' ATT_FLAG']=0\n",
    "dftrain2_L_T4.loc['2016-11-26 17':'2016-11-29 04',' ATT_FLAG']=1\n",
    "\n",
    "#dftrain2[' ATT_FLAG']=dftrain2[' ATT_FLAG'].apply(lambda x: 0 if x==-999 else x)"
   ]
  },
  {
   "cell_type": "markdown",
   "metadata": {},
   "source": [
    "#### Labling the attacks on dftest according to the batadal dataset"
   ]
  },
  {
   "cell_type": "code",
   "execution_count": 175,
   "metadata": {},
   "outputs": [],
   "source": [
    "dftest[\" ATT_FLAG\"]=0\n",
    "dftest.loc['2017-01-16 09':'2017-01-19 06',' ATT_FLAG']=1\n",
    "dftest.loc['2017-01-30 08':'2017-02-02 00',' ATT_FLAG']=1\n",
    "dftest.loc['2017-02-09 03':'2017-02-10 09',' ATT_FLAG']=1\n",
    "dftest.loc['2017-02-12 01':'2017-02-13 07',' ATT_FLAG']=1\n",
    "dftest.loc['2017-02-24 05':'2017-02-28 08',' ATT_FLAG']=1\n",
    "dftest.loc['2017-03-10 14':'2017-03-13 21',' ATT_FLAG']=1\n",
    "dftest.loc['2017-03-25 20':'2017-03-27 01',' ATT_FLAG']=1"
   ]
  },
  {
   "cell_type": "markdown",
   "metadata": {},
   "source": [
    "Scaling the data to normal distribution with mean zero and standard deviation one and plotting one column to validate the execution"
   ]
  },
  {
   "cell_type": "code",
<<<<<<< HEAD
   "execution_count": 5,
=======
   "execution_count": 4,
>>>>>>> 0dde59c6f9670cb89802f8978ccb13833abd2978
   "metadata": {},
   "outputs": [],
   "source": [
    "# Getting one column to test the code\n",
    "dataset=dftrain1['L_T4']"
   ]
  },
  {
   "cell_type": "code",
<<<<<<< HEAD
   "execution_count": 6,
   "metadata": {
    "scrolled": true
   },
=======
   "execution_count": 5,
   "metadata": {},
>>>>>>> 0dde59c6f9670cb89802f8978ccb13833abd2978
   "outputs": [
    {
     "name": "stderr",
     "output_type": "stream",
     "text": [
      "C:\\Users\\pvbia\\Anaconda3\\lib\\site-packages\\pandas\\plotting\\_converter.py:129: FutureWarning: Using an implicitly registered datetime converter for a matplotlib plotting method. The converter was registered by pandas on import. Future versions of pandas will require you to explicitly register matplotlib converters.\n",
      "\n",
      "To register the converters:\n",
      "\t>>> from pandas.plotting import register_matplotlib_converters\n",
      "\t>>> register_matplotlib_converters()\n",
      "  warnings.warn(msg, FutureWarning)\n"
     ]
    },
    {
     "data": {
      "text/plain": [
       "([], <a list of 0 Text xticklabel objects>)"
      ]
     },
<<<<<<< HEAD
     "execution_count": 6,
=======
     "execution_count": 5,
>>>>>>> 0dde59c6f9670cb89802f8978ccb13833abd2978
     "metadata": {},
     "output_type": "execute_result"
    },
    {
     "data": {
      "image/png": "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\n",
      "text/plain": [
       "<Figure size 432x288 with 2 Axes>"
      ]
     },
     "metadata": {
      "needs_background": "light"
     },
     "output_type": "display_data"
    }
   ],
   "source": [
    "## Creating a function that scale and standardize a dataset\n",
    "def scaling(mu,std,dataset):\n",
    "    scaler = TimeSeriesScalerMeanVariance(mu=mu, std=std)\n",
    "    return scaler.fit_transform(dataset)\n",
    "\n",
    "## Running the function\n",
    "dataset_scale=scaling(0,1,dataset)\n",
    "\n",
    "## Plotting the first 100 observations to check if it worked\n",
    "\n",
    "# Plotting the original time series\n",
    "plt.figure()\n",
    "plt.subplot(2, 1, 1)  # First, raw time series\n",
    "plt.plot(dataset[0:100], \"b-\")\n",
    "plt.title(\"Original Time Series\")\n",
    "plt.xticks([])\n",
    "\n",
    "# Plotting the scaled time series\n",
    "plt.subplot(2, 1, 2)  # Second, PAA\n",
    "plt.plot(dataset_scale.ravel()[0:100], \"b-\")\n",
    "plt.title(\"Scaled time series\")\n",
    "plt.xticks([])"
   ]
  },
  {
   "cell_type": "markdown",
   "metadata": {},
   "source": [
    "## 2) Discretization "
   ]
  },
  {
   "cell_type": "markdown",
   "metadata": {},
   "source": [
    "Creating a Piecewise Aggregate Approximation (PAA) representation (not necessary for the sake of the code, we just used it to plot and compare with the SAX representation to validate the transformation)"
   ]
  },
  {
   "cell_type": "code",
<<<<<<< HEAD
   "execution_count": 7,
=======
   "execution_count": 6,
>>>>>>> 0dde59c6f9670cb89802f8978ccb13833abd2978
   "metadata": {
    "scrolled": true
   },
   "outputs": [],
   "source": [
    "### Firstly, creting a function that creates the PPA\n",
    "def ppa(n_paa_segments,dataset_scale):\n",
    "    # Number of PAA segments to compute - one segment for every 4 hours\n",
    "    n_paa_segments=int(round([len(x) for x in dataset_scale][0]/4,0))\n",
    "    # Creating a piecewise aggregation approximation using n_paa_segments\n",
    "    paa = PiecewiseAggregateApproximation(n_segments=n_paa_segments)\n",
    "    # Compute paa time series corresponding (by paa.inverse_trasnform) to the fitted PAA representation (done by fit_transform)\n",
    "    return  paa.inverse_transform(paa.fit_transform(dataset_scale))\n",
    "\n",
    "### Running the function to test it for a given column of the dataset\n",
    "n_paa_segments=int(round(len(dftrain1)/4,0))\n",
    "paa_dataset_inv=ppa(n_paa_segments,dataset_scale)"
   ]
  },
  {
   "cell_type": "markdown",
   "metadata": {},
   "source": [
    "Creating the Symbolic Aggregate Approximation (SAX)"
   ]
  },
  {
   "cell_type": "code",
<<<<<<< HEAD
   "execution_count": 8,
=======
   "execution_count": 7,
>>>>>>> 0dde59c6f9670cb89802f8978ccb13833abd2978
   "metadata": {},
   "outputs": [],
   "source": [
    "### Firstly, creting a function that creates the sax\n",
    "def sax(n_paa_segments,n_sax_symbols,dataset_scale):\n",
    "    #Creating the SAX using 'n_paa_segments' as number of segments and 'n_sax_symbols' as number of symbols\n",
    "    sax = SymbolicAggregateApproximation(n_segments=n_paa_segments, alphabet_size_avg=n_sax_symbols)\n",
    "    # Compute sax time series corresponding (by sax.inverse_transform) to the fitted PAA representation (done by sax.fit_transform)\n",
    "    return sax.inverse_transform(sax.fit_transform(dataset_scale))\n",
    "\n",
    "### Running the function to test it for a given column of the dataset\n",
    "n_sax_symbols = 5\n",
    "sax_dataset_inv=sax(n_paa_segments,n_sax_symbols,dataset_scale)"
   ]
  },
  {
   "cell_type": "markdown",
   "metadata": {},
   "source": [
    "Plotting the scaled time series, PAA and SAX representations for the sake of validation of the code"
   ]
  },
  {
   "cell_type": "code",
<<<<<<< HEAD
   "execution_count": 9,
=======
   "execution_count": 8,
>>>>>>> 0dde59c6f9670cb89802f8978ccb13833abd2978
   "metadata": {
    "scrolled": false
   },
   "outputs": [
    {
     "data": {
<<<<<<< HEAD
      "image/png": "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\n",
=======
      "image/png": "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\n",
>>>>>>> 0dde59c6f9670cb89802f8978ccb13833abd2978
      "text/plain": [
       "<Figure size 432x288 with 3 Axes>"
      ]
     },
     "metadata": {
      "needs_background": "light"
     },
     "output_type": "display_data"
    }
   ],
   "source": [
    "#Plotting - only 100 first values to test the code isworking as expected\n",
    "\n",
    "# Plotting the scaled data set\n",
    "plt.subplot(2, 2, 2)  # First, raw time series\n",
    "plt.plot(dataset_scale.ravel()[300:500], \"b-\")\n",
    "plt.title(\"Original Time Series\")\n",
    "\n",
    "#Plotting the PAA (ONLY FOR COMPARISON PURPOSES)\n",
    "plt.subplot(2, 2, 3)  \n",
    "plt.plot(paa_dataset_inv[0].ravel()[300:500], \"b-\")\n",
    "plt.title(\"PAA\")\n",
    "\n",
    "#Plotting the SAX\n",
    "plt.subplot(2, 2, 1)  # Then SAX\n",
    "plt.plot(sax_dataset_inv[0].ravel()[300:500], \"b-\")\n",
    "plt.title(\"SAX, %d symbols\" % n_sax_symbols)\n",
    "\n",
    "plt.tight_layout()\n",
    "plt.show()"
   ]
  },
  {
   "cell_type": "markdown",
   "metadata": {},
   "source": [
    "## 3) Sliding Window and N-Grams Representations"
   ]
  },
  {
   "cell_type": "markdown",
   "metadata": {},
   "source": [
    "Creating a function that returns its n-gram representation."
   ]
  },
  {
   "cell_type": "code",
<<<<<<< HEAD
   "execution_count": 10,
=======
   "execution_count": 139,
>>>>>>> 0dde59c6f9670cb89802f8978ccb13833abd2978
   "metadata": {},
   "outputs": [],
   "source": [
    "#'a' will be used just to test the functions below.\n",
    "a=sax_dataset_inv[0].ravel()"
   ]
  },
  {
   "cell_type": "markdown",
   "metadata": {},
   "source": [
    "We need function(s) to convert numeric values generated from the sax to a string to perform N-grams as a it was a NLP problem. For this purpose two functions were created: the first just put all the values of a list in a string and the second convert numerical values of the sax to letters"
   ]
  },
  {
   "cell_type": "code",
<<<<<<< HEAD
   "execution_count": 11,
=======
   "execution_count": 140,
>>>>>>> 0dde59c6f9670cb89802f8978ccb13833abd2978
   "metadata": {},
   "outputs": [],
   "source": [
    "# First function convert a list of numeric values to a string\n",
    "def convert(list): \n",
    "    # Converting integer list to string list \n",
    "    s = [str(i) for i in list] \n",
    "    # Join list items using join() \n",
    "    res = (\"\".join(s)) \n",
    "    return(res) "
   ]
  },
  {
   "cell_type": "code",
<<<<<<< HEAD
   "execution_count": 12,
=======
   "execution_count": 141,
>>>>>>> 0dde59c6f9670cb89802f8978ccb13833abd2978
   "metadata": {},
   "outputs": [],
   "source": [
    "# Second function to convert a sax numeric representation into strings\n",
    "def saxtostring(sax):\n",
    "    #Creating a list with all unique elements\n",
    "    setsax=set(sax)\n",
    "    L=[]\n",
    "    for i in setsax:\n",
    "        L.append(i)\n",
    "    L=sorted(L)\n",
    "    #Creating a dictinary with the elements that need to be converted\n",
    "    D={}\n",
    "    for i in range(0,len(L)):\n",
    "        D[L[i]]=string.ascii_lowercase[i]\n",
    "    #Converting the numerical values to strings\n",
    "    output=[]\n",
    "    for i in range(0,len(sax)):\n",
    "        output.append(D[sax[i]])\n",
<<<<<<< HEAD
    "    return output  \n",
    "#To test\n",
    "b=saxtostring(a)"
=======
    "    return output  "
   ]
  },
  {
   "cell_type": "code",
   "execution_count": 146,
   "metadata": {},
   "outputs": [
    {
     "data": {
      "text/plain": [
       "['b', 'b', 'b', 'b', 'd']"
      ]
     },
     "execution_count": 146,
     "metadata": {},
     "output_type": "execute_result"
    }
   ],
   "source": [
    "b=saxtostring(a)\n",
    "b[0:5]"
>>>>>>> 0dde59c6f9670cb89802f8978ccb13833abd2978
   ]
  },
  {
   "cell_type": "markdown",
   "metadata": {},
   "source": [
    "Now to generate Ngrams we need a function that gather from the data the possible grams and their possible next values."
   ]
  },
  {
   "cell_type": "code",
<<<<<<< HEAD
   "execution_count": 23,
=======
   "execution_count": 147,
>>>>>>> 0dde59c6f9670cb89802f8978ccb13833abd2978
   "metadata": {},
   "outputs": [],
   "source": [
    "#Function that creates the Ngrams representation by creating a dictionary that has as keys the representations and as values\n",
    "#the number elements generated after the n-gram\n",
    "def ngrams(tokens,n):\n",
    "    #Creates a dictionary with the Ngrams representation and the next element (that is to be predicted by the ngrams)\n",
    "    D = {}\n",
    "    #Loop needs to go up to len(tokens)-n-1 to not get out of bounds\n",
    "    for i in range(0,len(tokens)-n-1):\n",
    "        #If new key, we add this key to the dictionary\n",
    "        if convert(tokens[i:(i+n)]) not in D.keys():\n",
    "            D[convert(tokens[i:(i+n)])] = [convert(tokens[i+n+1])]\n",
    "        #If existing key, append new value\n",
    "        else:\n",
    "            D[convert(tokens[i:(i+n)])].append(tokens[i+n+1])\n",
<<<<<<< HEAD
    "    return D\n",
    "#To test\n",
    "g=tongrams(b,3)"
=======
    "    return D"
   ]
  },
  {
   "cell_type": "code",
   "execution_count": 148,
   "metadata": {},
   "outputs": [],
   "source": [
    "g=ngrams(b,3)"
>>>>>>> 0dde59c6f9670cb89802f8978ccb13833abd2978
   ]
  },
  {
   "cell_type": "markdown",
   "metadata": {},
   "source": [
    "Now we create a Markov Chain that calculates the prior and the likelihood given the dictionary generated by the previous function."
   ]
  },
  {
   "cell_type": "code",
<<<<<<< HEAD
   "execution_count": 14,
=======
   "execution_count": 185,
>>>>>>> 0dde59c6f9670cb89802f8978ccb13833abd2978
   "metadata": {},
   "outputs": [],
   "source": [
    "#Function that calcualte the likelihood given a ngram\n",
    "def markovchain(ngram):\n",
    "    #Create dictionary to be filled with the probability of conditional events (likelihood)\n",
    "    l_probs=dict()\n",
    "    #Create dictionary to be filled with the counting of the grams\n",
    "    p=dict()\n",
    "    #Loop through keys to calculate the likelihood for each key\n",
    "    for key in ngram.keys():\n",
    "        #Create the variable to be filled with tally of the number of times that a value repeat for each key\n",
    "        counts = dict()\n",
    "        for i in ngram[key]:\n",
    "            counts[i] = counts.get(i, 0) + 1\n",
    "        #Create the dictionary to be filled with the probability of the conditional events (likelihood)\n",
    "        l=dict()\n",
    "        #Calculate the probability by dividing the count to the sum of values\n",
    "        for j in counts.keys():\n",
    "            l[j]=counts[j]/sum(counts.values())\n",
    "        #Assign to each key the dictionary with the probabilities\n",
    "        l_probs[key]=l\n",
    "        #Assign to each key the counting of the number of times that this gram was spotted\n",
    "        p[key]=sum(counts.values())\n",
    "    \n",
<<<<<<< HEAD
    "\n",
    "    # Return the likelihood,the prior and the counting\n",
    "    return [l_probs,c1]\n",
    "\n",
    "#To test\n",
    "m=tomarkovchain(g)"
=======
    "    #Calculating the prior\n",
    "    p_probs=dict()\n",
    "    for j in p.keys():\n",
    "        p_probs[j]=p[j]/sum(p.values())\n",
    "    # Return the likelihood and the prior\n",
    "    return [l_probs,p_probs]"
>>>>>>> 0dde59c6f9670cb89802f8978ccb13833abd2978
   ]
  },
  {
   "cell_type": "code",
<<<<<<< HEAD
   "execution_count": 15,
=======
   "execution_count": 192,
>>>>>>> 0dde59c6f9670cb89802f8978ccb13833abd2978
   "metadata": {},
   "outputs": [
    {
     "data": {
      "text/plain": [
       "0.0625"
      ]
     },
     "execution_count": 15,
     "metadata": {},
     "output_type": "execute_result"
    }
   ],
   "source": [
<<<<<<< HEAD
    "#Smoothing the prior\n",
    "#This function return the smoothed probability\n",
    "def smooth_ngram_prob(markovchain_model,n_sax_symbols,input_gram,output_gram):\n",
    "    \n",
    "    #Calculating denominators\n",
    "    ngrams_number=len(random.choice(list(markovchain_model[0].keys())))\n",
    "    \n",
    "    #Smoothing\n",
    "    if input_gram in markovchain_model[1].keys():\n",
    "        total_values_for_the_key=sum(markovchain_model[1][input_gram].values())\n",
    "        #The Probability is calculated by adding 1 observation for all possible grams (total of n_sax_symbols**ngrams_number )\n",
    "        smoothed=(markovchain_model[1][input_gram].get(output_gram,0)+1)/(total_values_for_the_key+n_sax_symbols)\n",
    "    else:\n",
    "        #There is no observation of this gram\n",
    "        smoothed=0\n",
    "        \n",
    "    return smoothed\n",
    "\n",
    "#To test\n",
    "smooth_ngram_prob(m,5,\"aae\",\"a\")\n"
=======
    "#markovchain(g)[1]"
>>>>>>> 0dde59c6f9670cb89802f8978ccb13833abd2978
   ]
  },
  {
   "cell_type": "markdown",
   "metadata": {},
   "source": [
    "Lastly, we need to smooth the values to avoid \"out of vocabulary\" observations."
   ]
  },
  {
   "cell_type": "code",
<<<<<<< HEAD
   "execution_count": 16,
=======
   "execution_count": 239,
>>>>>>> 0dde59c6f9670cb89802f8978ccb13833abd2978
   "metadata": {},
   "outputs": [],
   "source": [
    "#First we need to know all grams that are possible to be generated - for this we are going to use a package\n",
    "#defining number of grams\n",
    "n=3\n",
    "#Generate 'Sentence' from the sax values (convert to string)\n",
    "setsax=set(saxtostring(a))\n",
    "sentence=[]\n",
    "for i in setsax:\n",
    "    sentence.append(i)\n",
    "l=sentence\n",
    "\n",
    "#Generating the possible grams from a list and N (of n grams)\n",
    "def possible_grams(l,n):\n",
    "     yield from itertools.product(*([l] * n)) \n",
    "#Generating as a list from the function above\n",
    "def possible_grams_list(p_grams,n):\n",
    "    L=[]\n",
    "    for x in possible_grams(p_grams,n):\n",
    "         L.append(''.join(x))\n",
    "    return L"
   ]
  },
  {
   "cell_type": "code",
<<<<<<< HEAD
   "execution_count": 17,
=======
   "execution_count": null,
>>>>>>> 0dde59c6f9670cb89802f8978ccb13833abd2978
   "metadata": {},
   "outputs": [],
   "source": [
    "#Now we can smooth\n"
   ]
  },
  {
   "cell_type": "markdown",
   "metadata": {},
   "source": [
    "## 4) Predictions Using N-grams"
   ]
  },
  {
   "cell_type": "code",
<<<<<<< HEAD
   "execution_count": null,
   "metadata": {},
   "outputs": [],
   "source": [
    "def model_to_predict(trainset,testset,results,n_sax_symbols,n_paa_segments,n_grams,threshold):\n",
    "   \n",
    "    ###Generating the model for the train set###\n",
    "    #Scaling\n",
    "    s_train=scaling(0,1,trainset)\n",
    "    #Sax\n",
    "    sax_train=tosax(n_paa_segments,n_sax_symbols,s_train).ravel()\n",
    "    #Sax to string\n",
    "    sax_string_train=saxtostring(sax_train)\n",
    "    #Ngrams\n",
    "    ngrams=tongrams(sax_string_train,n_grams)\n",
    "    #Markov Chain\n",
    "    m=tomarkovchain(ngrams)\n",
    "    \n",
    "    ###Preparing the test set###\n",
    "    #Scaling\n",
    "    s_test=scaling(0,1,testset)\n",
    "    #Sax\n",
    "    sax_test=tosax(n_paa_segments,n_sax_symbols,s_test).ravel()\n",
    "    #Sax to string\n",
    "    sax_string_test=saxtostring(sax_test)\n",
    "\n",
    "    ###Making predictions\n",
    "    pred=prediction(m,n_sax_symbols,sax_string_test, threshold)[0]\n",
    "    predictions_df=smartmerge(testset,pred)\n",
    "    \n",
    "    ###Calculating the performance\n",
    "    cm=confusion_matrix(list(results), list(predictions_df['predictions']))\n",
    "    if cm.shape==(3,3):\n",
    "        cm=cm[(0,2),1:]\n",
    "    #True positive, false positive, false negative and true positive\n",
    "    tn, fp, fn, tp = cm.ravel()\n",
    "    #Getting the ratios\n",
    "    recall=tp/(tp+fn)\n",
    "    precision=tp/(tp+fp)\n",
    "    accuracy=(tp+tn)/(tp+tn+fn+fp)\n",
    "    f1=f1_score(list(results), list(predictions_df['predictions']),average='micro')\n",
    "    performance={\"recall\":recall,\"precision\":precision,\"Accuracy\":accuracy,\"F1\":f1}\n",
    "    #Probability vector\n",
    "    probab=prediction(m,n_sax_symbols,sax_string_test, threshold)[1]\n",
    "    #area_precision_recall_curve = roc_auc_score(results, probab)\n",
    "    #F1 score\n",
    "   \n",
    "    \n",
    "    return [cm,performance,probab]"
=======
   "execution_count": 122,
   "metadata": {},
   "outputs": [],
   "source": [
    "token=sax_dataset_inv[0].ravel()"
>>>>>>> 0dde59c6f9670cb89802f8978ccb13833abd2978
   ]
  },
  {
   "cell_type": "code",
<<<<<<< HEAD
   "execution_count": 126,
=======
   "execution_count": 117,
>>>>>>> 0dde59c6f9670cb89802f8978ccb13833abd2978
   "metadata": {},
   "outputs": [],
   "source": [
    "grams45=grams45hrs(sax_dataset_inv[0].ravel())"
   ]
  },
  {
   "cell_type": "code",
<<<<<<< HEAD
   "execution_count": 72,
   "metadata": {},
   "outputs": [],
   "source": [
    "def ploting_cm(cm):\n",
    "    \n",
    "    #Plot\n",
    "    ax= plt.subplot()\n",
    "    sns.heatmap(cm, annot=True,fmt='g', ax = ax); #annot=True to annotate cells\n",
    "\n",
    "    # labels, title and ticks\n",
    "    ax.set_xlabel('Predicted labels');ax.set_ylabel('True labels'); \n",
    "    ax.set_title('Confusion Matrix'); \n",
    "    ax.xaxis.set_ticklabels(['normal', 'anomaly']); ax.yaxis.set_ticklabels(['normal', 'anomaly'])"
   ]
  },
  {
   "cell_type": "markdown",
   "metadata": {},
   "source": [
    "Creating a function that loop over the parameters and select based on that the best set of parameters"
   ]
  },
  {
   "cell_type": "code",
   "execution_count": 176,
   "metadata": {},
   "outputs": [],
   "source": [
    "#Using accuracy\n",
    "def parameterselection(trainset,testset,results):\n",
    "    #Creating model with 0 performance\n",
    "    best_MODEL=[0,{\"recall\":0,\"precision\":0,\"Accuracy\":0,\"F1\":0}]\n",
    "    #Iterating\n",
    "    for sax in range(4,11,2):\n",
    "        for paa in range(2,41,4):\n",
    "            for n in range(2,31,4):\n",
    "                for t in [0.005,0.01,0.05]:\n",
    "                   #MODEL=model_to_predict(trainset,testset,results,sax,int(len(dftrain1)/paa),n,t/2000)\n",
    "                    MODEL=model_to_predict(trainset,testset,results,sax,int(len(dftrain1)/paa),n,t)\n",
    "                    # Selection using the F1 index\n",
    "                    if MODEL[1][\"Accuracy\"]>0.7 and MODEL[1][\"recall\"]>best_MODEL[1][\"recall\"] and MODEL[1][\"Accuracy\"]>best_MODEL[1][\"Accuracy\"]:\n",
    "                        best_MODEL=MODEL\n",
    "                       #parameters={\"sax\":sax,\"paa\":int(len(dftrain1)/paa),\"ngram\":n,\"threshold\":t/2000}\n",
    "                        parameters={\"sax\":sax,\"paa\":paa,\"ngram\":n,\"threshold\":t}\n",
    "                        \n",
    "    return [best_MODEL,parameters]"
   ]
  },
  {
   "cell_type": "markdown",
   "metadata": {},
   "source": [
    "### Predicting Attacks for some sensors in the train data set 2"
   ]
  },
  {
   "cell_type": "markdown",
=======
   "execution_count": 121,
   "metadata": {},
   "outputs": [],
   "source": [
    "bigrams = set([(tokens[i],tokens[i+1]) for i in range(0,len(tokens)-1)])"
   ]
  },
  {
   "cell_type": "code",
   "execution_count": 119,
>>>>>>> 0dde59c6f9670cb89802f8978ccb13833abd2978
   "metadata": {},
   "source": [
<<<<<<< HEAD
    "The Loop below will select the best parameters for the model.\n",
    "\n",
    "**It takes time(roughly 4 hours in my computer) to run , please be advised**\n",
    "\n",
    "_The code will just select the best parameters based on the train set 2 - nothing else_"
=======
    "import re\n",
    "from nltk.util import ngrams"
>>>>>>> 0dde59c6f9670cb89802f8978ccb13833abd2978
   ]
  },
  {
   "cell_type": "code",
<<<<<<< HEAD
   "execution_count": 157,
   "metadata": {},
   "outputs": [],
   "source": [
    "#L_T7\n",
    "L_T7=parameterselection(dftrain1[\"L_T7\"],dftrain2_L_T7[\" L_T7\"],dftrain2_L_T7[' ATT_FLAG'])\n",
    "#F_PU10\n",
    "F_PU10=parameterselection(dftrain1[\"F_PU10\"],dftrain2_F_PU10[\" F_PU10\"],dftrain2_F_PU10[' ATT_FLAG'])\n",
    "\n",
    "#F_PU11\n",
    "F_PU11=parameterselection(dftrain1[\"F_PU11\"],dftrain2_F_PU11[\" F_PU11\"],dftrain2_F_PU11[' ATT_FLAG'])\n",
    "\n",
    "#L_T1\n",
    "L_T1=parameterselection(dftrain1[\"L_T1\"],dftrain2_L_T1[\" L_T1\"],dftrain2_L_T1[' ATT_FLAG'])\n",
    "\n",
    "#F_PU1\n",
    "F_PU1=parameterselection(dftrain1[\"F_PU1\"],dftrain2_F_PU1[\" F_PU1\"],dftrain2_F_PU1[' ATT_FLAG'])\n",
    "\n",
    "#F_PU2\n",
    "F_PU2=parameterselection(dftrain1[\"F_PU2\"],dftrain2_F_PU2[\" F_PU2\"],dftrain2_F_PU2[' ATT_FLAG'])\n",
    "\n",
    "#L_T4\n",
    "L_T4=parameterselection(dftrain1[\"L_T4\"],dftrain2_L_T4[\" L_T4\"],dftrain2_L_T4[' ATT_FLAG'])"
   ]
  },
  {
   "cell_type": "markdown",
   "metadata": {},
   "source": [
    "### Predicting Attacks for some sensors in the test data"
   ]
  },
  {
   "cell_type": "markdown",
   "metadata": {},
   "source": [
    "Columns atacked are 'L_T3', 'F_PU4', 'F_PU5', 'L_T2, 'V2', 'P_J14', 'P_J422, 'L_T7', 'F_PU10', 'F_PU11', 'L_T6'.\n",
    "\n",
    "The parameters for prediction will be those optimized by on the traindataset 2. When not available the parameters will be for one close variable"
=======
   "execution_count": 125,
   "metadata": {},
   "outputs": [],
   "source": [
    "n=ngrams(1,token)"
>>>>>>> 0dde59c6f9670cb89802f8978ccb13833abd2978
   ]
  },
  {
   "cell_type": "code",
<<<<<<< HEAD
   "execution_count": null,
   "metadata": {},
   "outputs": [],
   "source": [
    "results=dftest[\" ATT_FLAG\"]\n",
    "#'L_T3'\n",
    "trainset=dftrain1['L_T3']\n",
    "testset=dftest['L_T3']\n",
    "sax=L_T4[1][\"sax\"]\n",
    "paa=L_T4[1][\"paa\"]\n",
    "n=L_T4[1][\"ngram\"]\n",
    "t=L_T4[1][\"threshold\"]\n",
    "MODEL_LT3=model_to_predict(trainset,testset,results,sax,int(len(dftrain1)/paa),n,t)\n",
    "#'F_PU4'\n",
    "trainset=dftrain1['F_PU4']\n",
    "testset=dftest['F_PU4']\n",
    "sax=F_PU2[1][\"sax\"]\n",
    "paa=F_PU2[1][\"paa\"]\n",
    "n=F_PU2[1][\"ngram\"]\n",
    "t=F_PU2[1][\"threshold\"]\n",
    "MODEL_F_PU4=model_to_predict(trainset,testset,results,sax,int(len(dftrain1)/paa),n,t)\n",
    "#'F_PU5'\n",
    "trainset=dftrain1['F_PU5']\n",
    "testset=dftest['F_PU5']\n",
    "sax=F_PU11[1][\"sax\"]\n",
    "paa=F_PU11[1][\"paa\"]\n",
    "n=F_PU11[1][\"ngram\"]\n",
    "t=F_PU11[1][\"threshold\"]\n",
    "MODEL_F_PU5=model_to_predict(trainset,testset,results,sax,int(len(dftrain1)/paa),n,t)\n",
    "#'L_T2\n",
    "trainset=dftrain1['L_T2']\n",
    "testset=dftest['L_T2']\n",
    "sax=L_T1[1][\"sax\"]\n",
    "paa=L_T1[1][\"paa\"]\n",
    "n=L_T1[1][\"ngram\"]\n",
    "t=L_T1[1][\"threshold\"]\n",
    "MODEL_L_T2=model_to_predict(trainset,testset,results,sax,int(len(dftrain1)/paa),n,t)\n",
    "#'P_J14'\n",
    "trainset=dftrain1['P_J14']\n",
    "testset=dftest['P_J14']\n",
    "sax=L_T7[1][\"sax\"]\n",
    "paa=L_T7[1][\"paa\"]\n",
    "n=L_T7[1][\"ngram\"]\n",
    "t=L_T7[1][\"threshold\"]\n",
    "MODEL_P_J14=model_to_predict(trainset,testset,results,sax,int(len(dftrain1)/paa),n,t)\n",
    "#'P_J422\n",
    "trainset=dftrain1['P_J422']\n",
    "testset=dftest['P_J422']\n",
    "sax=L_T7[1][\"sax\"]\n",
    "paa=L_T7[1][\"paa\"]\n",
    "n=L_T7[1][\"ngram\"]\n",
    "t=L_T7[1][\"threshold\"]\n",
    "MODEL_P_J422=model_to_predict(trainset,testset,results,sax,int(len(dftrain1)/paa),n,t)\n",
    "#'L_T7'\n",
    "trainset=dftrain1['L_T7']\n",
    "testset=dftest['L_T7']\n",
    "sax=L_T7[1][\"sax\"]\n",
    "paa=L_T7[1][\"paa\"]\n",
    "n=L_T7[1][\"ngram\"]\n",
    "t=L_T7[1][\"threshold\"]\n",
    "MODEL_L_T7=model_to_predict(trainset,testset,results,sax,int(len(dftrain1)/paa),n,t)\n",
    "#'F_PU10'\n",
    "trainset=dftrain1['F_PU10']\n",
    "testset=dftest['F_PU10']\n",
    "sax=F_PU10[1][\"sax\"]\n",
    "paa=F_PU10[1][\"paa\"]\n",
    "n=F_PU10[1][\"ngram\"]\n",
    "t=F_PU10[1][\"threshold\"]\n",
    "MODEL_F_PU10=model_to_predict(trainset,testset,results,sax,int(len(dftrain1)/paa),n,t)\n",
    "#'F_PU11'\n",
    "trainset=dftrain1['F_PU11']\n",
    "testset=dftest['F_PU11']\n",
    "sax=F_PU11[1][\"sax\"]\n",
    "paa=F_PU11[1][\"paa\"]\n",
    "n=F_PU11[1][\"ngram\"]\n",
    "t=F_PU11[1][\"threshold\"]\n",
    "MODEL_F_PU11=model_to_predict(trainset,testset,results,sax,int(len(dftrain1)/paa),n,t)\n",
    "#'L_T6'\n",
    "trainset=dftrain1['L_T6']\n",
    "testset=dftest['L_T6']\n",
    "sax=L_T4[1][\"sax\"]\n",
    "paa=L_T4[1][\"paa\"]\n",
    "n=L_T4[1][\"ngram\"]\n",
    "t=L_T4[1][\"threshold\"]\n",
    "MODEL_L_T6=model_to_predict(trainset,testset,results,sax,int(len(dftrain1)/paa),n,t)"
   ]
=======
   "execution_count": 127,
   "metadata": {},
   "outputs": [
    {
     "ename": "NameError",
     "evalue": "name 'NgramModel' is not defined",
     "output_type": "error",
     "traceback": [
      "\u001b[1;31m---------------------------------------------------------------------------\u001b[0m",
      "\u001b[1;31mNameError\u001b[0m                                 Traceback (most recent call last)",
      "\u001b[1;32m<ipython-input-127-b71bf1431fdf>\u001b[0m in \u001b[0;36m<module>\u001b[1;34m\u001b[0m\n\u001b[1;32m----> 1\u001b[1;33m \u001b[0mm\u001b[0m \u001b[1;33m=\u001b[0m \u001b[0mNgramModel\u001b[0m\u001b[1;33m(\u001b[0m\u001b[1;36m1\u001b[0m\u001b[1;33m,\u001b[0m \u001b[1;36m0\u001b[0m\u001b[1;33m)\u001b[0m\u001b[1;33m\u001b[0m\u001b[1;33m\u001b[0m\u001b[0m\n\u001b[0m",
      "\u001b[1;31mNameError\u001b[0m: name 'NgramModel' is not defined"
     ]
    }
   ],
   "source": [
    "m = NgramModel(1, 0)"
   ]
  },
  {
   "cell_type": "code",
   "execution_count": null,
   "metadata": {},
   "outputs": [],
   "source": []
>>>>>>> 0dde59c6f9670cb89802f8978ccb13833abd2978
  }
 ],
 "metadata": {
  "kernelspec": {
   "display_name": "Python 3",
   "language": "python",
   "name": "python3"
  },
  "language_info": {
   "codemirror_mode": {
    "name": "ipython",
    "version": 3
   },
   "file_extension": ".py",
   "mimetype": "text/x-python",
   "name": "python",
   "nbconvert_exporter": "python",
   "pygments_lexer": "ipython3",
   "version": "3.7.1"
  }
 },
 "nbformat": 4,
 "nbformat_minor": 2
}
