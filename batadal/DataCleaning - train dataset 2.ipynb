{
 "cells": [
  {
   "cell_type": "code",
   "execution_count": 13,
   "metadata": {},
   "outputs": [],
   "source": [
    "import sys\n",
    "import pandas as pd\n",
    "import numpy as np\n",
    "import time, datetime"
   ]
  },
  {
   "cell_type": "markdown",
   "metadata": {},
   "source": [
    "Reading the data, converting the time to timestamp and indexing the date to use it as a time series"
   ]
  },
  {
   "cell_type": "code",
   "execution_count": 14,
   "metadata": {},
   "outputs": [],
   "source": [
    "#Data Paths\n",
    "DATA_PATH = sys.path[0]+\"\\\\data\\\\\"\n",
    "filename_train2=\"BATADAL_dataset04.csv\"\n",
    "\n",
    "#Reading the data\n",
    "dftrain2  = pd.read_csv(DATA_PATH + filename_train2)\n",
    "\n",
    "# Modify string date to timestamp\n",
    "dftrain2.DATETIME = dftrain2.DATETIME.apply(lambda s: pd.to_datetime(s,format='%d/%m/%y %H'))\n",
    "\n",
    "# Indexing\n",
    "dftrain2=dftrain2.set_index('DATETIME')\n"
   ]
  },
  {
   "cell_type": "markdown",
   "metadata": {},
   "source": [
    "Labling the attacks on dftrain2 according to the information below\n",
    "\n",
    "###### For L_T7\n",
    "13/09/2016 23 - 16/09/2016 00 |\n",
    "26/09/2016 11 - 27/09/2016 10\n",
    "###### For F_PU10 and F_PU11\n",
    "26/09/2016 11 - 27/09/2016 10\n",
    "###### For L_T1\n",
    "09/10/2016 9 - 11/10/2016 20 |\n",
    "29/10/2016 19 - 02/11/2016 16 |\n",
    "14/12/2016 15 - 19/12/2016 04\n",
    "###### For F_PU1 and F_PU2\n",
    "29/10/2016 19 - 02/11/2016 16 |\n",
    "14/12/2016 15 - 19/12/2016 04\n",
    "###### For L_T4\n",
    "26/11/2016 17 - 29/11/2016 04"
   ]
  },
  {
   "cell_type": "code",
   "execution_count": 15,
   "metadata": {},
   "outputs": [],
   "source": [
    "#L_T7\n",
    "dftrain2_L_T7=dftrain2.loc[:,[' L_T7',' ATT_FLAG']]\n",
    "dftrain2_L_T7.loc[:,' ATT_FLAG']=0\n",
    "dftrain2_L_T7.loc['2016-09-13 23':'2016-09-16 00',' ATT_FLAG']=1\n",
    "dftrain2_L_T7.loc['2016-09-26 11':'2016-09-27 10',' ATT_FLAG']=1\n",
    "#F_PU10 and F_PU11\n",
    "dftrain2_F_PU10=dftrain2.loc[:,[' F_PU10',' ATT_FLAG']]\n",
    "dftrain2_F_PU10.loc[:,' ATT_FLAG']=0\n",
    "dftrain2_F_PU10.loc['2016-09-26 11':'2016-09-27 10',' ATT_FLAG']=1\n",
    "\n",
    "dftrain2_F_PU11=dftrain2.loc[:,[' F_PU11',' ATT_FLAG']]\n",
    "dftrain2_F_PU11.loc[:,' ATT_FLAG']=0\n",
    "dftrain2_F_PU11.loc['2016-09-26 11':'2016-09-27 10',' ATT_FLAG']=1\n",
    "#L_T1\n",
    "dftrain2_L_T1=dftrain2.loc[:,[' L_T1',' ATT_FLAG']]\n",
    "dftrain2_L_T1.loc[:,' ATT_FLAG']=0\n",
    "dftrain2_L_T1.loc['2016-10-09 09':'2016-10-11 20',' ATT_FLAG']=1\n",
    "dftrain2_L_T1.loc['2016-10-29 19':'2016-11-02 16',' ATT_FLAG']=1\n",
    "dftrain2_L_T1.loc['2016-12-14 15':'2016-12-19 04',' ATT_FLAG']=1\n",
    "#F_PU1 and F_PU2\n",
    "dftrain2_F_PU1=dftrain2.loc[:,[' F_PU1',' ATT_FLAG']]\n",
    "dftrain2_F_PU1.loc[:,' ATT_FLAG']=0\n",
    "dftrain2_F_PU1.loc['2016-10-29 19':'2016-11-02 16',' ATT_FLAG']=1\n",
    "dftrain2_F_PU1.loc['2016-12-14 15':'2016-12-19 04',' ATT_FLAG']=1\n",
    "\n",
    "dftrain2_F_PU2=dftrain2.loc[:,[' F_PU2',' ATT_FLAG']]\n",
    "dftrain2_F_PU2.loc[:,' ATT_FLAG']=0\n",
    "dftrain2_F_PU2.loc['2016-10-29 19':'2016-11-02 16',' ATT_FLAG']=1\n",
    "dftrain2_F_PU2.loc['2016-12-14 15':'2016-12-19 04',' ATT_FLAG']=1\n",
    "#L_T4\n",
    "dftrain2_L_T4=dftrain2.loc[:,[' L_T4',' ATT_FLAG']]\n",
    "dftrain2_L_T4.loc[:,' ATT_FLAG']=0\n",
    "dftrain2_L_T4.loc['2016-11-26 17':'2016-11-29 04',' ATT_FLAG']=1\n",
    "\n",
    "#dftrain2[' ATT_FLAG']=dftrain2[' ATT_FLAG'].apply(lambda x: 0 if x==-999 else x)\n"
   ]
  },
  {
   "cell_type": "code",
   "execution_count": null,
   "metadata": {},
   "outputs": [],
   "source": []
  }
 ],
 "metadata": {
  "kernelspec": {
   "display_name": "Python 3",
   "language": "python",
   "name": "python3"
  },
  "language_info": {
   "codemirror_mode": {
    "name": "ipython",
    "version": 3
   },
   "file_extension": ".py",
   "mimetype": "text/x-python",
   "name": "python",
   "nbconvert_exporter": "python",
   "pygments_lexer": "ipython3",
   "version": "3.7.1"
  }
 },
 "nbformat": 4,
 "nbformat_minor": 2
}
