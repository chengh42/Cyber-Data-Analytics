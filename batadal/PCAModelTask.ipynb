{
 "cells": [
  {
   "cell_type": "markdown",
   "metadata": {},
   "source": [
    "# PCA Model Task"
   ]
  },
  {
   "cell_type": "markdown",
   "metadata": {},
   "source": [
    "### 1) Data Preparation"
   ]
  },
  {
   "cell_type": "code",
   "execution_count": 5,
   "metadata": {
    "scrolled": true
   },
   "outputs": [],
   "source": [
    "#!pip install tflearn"
   ]
  },
  {
   "cell_type": "markdown",
   "metadata": {},
   "source": [
    "Importing packages"
   ]
  },
  {
   "cell_type": "code",
   "execution_count": 44,
   "metadata": {},
   "outputs": [],
   "source": [
    "import datetime\n",
    "import pandas as pd\n",
    "from pandas import Series\n",
    "from pandas import DataFrame\n",
    "from pandas import concat\n",
    "import numpy as np\n",
    "import time, datetime\n",
    "import matplotlib.pyplot as plt\n",
    "import sys\n",
    "import string\n",
    "from collections import Counter\n",
    "from nltk import ngrams\n",
    "import itertools\n",
    "import random\n",
    "from matplotlib.collections import LineCollection\n",
    "from matplotlib.colors import ListedColormap, BoundaryNorm\n",
    "from sklearn.metrics import confusion_matrix\n",
    "import seaborn as sns\n",
    "from sklearn.datasets import make_classification  \n",
    "from sklearn.decomposition import PCA\n",
    "from sklearn.model_selection import train_test_split  \n",
    "from sklearn.metrics import roc_curve  \n",
    "from sklearn.metrics import roc_auc_score\n",
    "from sklearn import preprocessing"
   ]
  },
  {
   "cell_type": "markdown",
   "metadata": {},
   "source": [
    "##### Reading the data, converting the time to timestamp and indexing the date to use it as a time series"
   ]
  },
  {
   "cell_type": "code",
   "execution_count": 57,
   "metadata": {},
   "outputs": [],
   "source": [
    "#Data Paths\n",
    "DATA_PATH = sys.path[0]+\"\\\\data\\\\\"\n",
    "filename_train1=\"BATADAL_dataset03.csv\"\n",
    "filename_train2=\"BATADAL_dataset04.csv\"\n",
    "filename_test=\"BATADAL_test_dataset.csv\"\n",
    "\n",
    "#Reading the data\n",
    "dftrain1  = pd.read_csv(DATA_PATH + filename_train1)\n",
    "dftrain2  = pd.read_csv(DATA_PATH + filename_train2)\n",
    "dftest  = pd.read_csv(DATA_PATH + filename_test)\n",
    "\n",
    "# Modify string date to timestamp\n",
    "dftrain1.DATETIME = dftrain1.DATETIME.apply(lambda s: pd.to_datetime(s,format='%d/%m/%y %H'))\n",
    "dftrain2.DATETIME = dftrain2.DATETIME.apply(lambda s: pd.to_datetime(s,format='%d/%m/%y %H'))\n",
    "dftest.DATETIME = dftest.DATETIME.apply(lambda s: pd.to_datetime(s,format='%d/%m/%y %H'))\n",
    "\n",
    "# Choosing 0 if not an anomaly and 1 if anomaly\n",
    "dftrain2[' ATT_FLAG']=dftrain2[' ATT_FLAG'].apply(lambda x: 0 if x==-999 else x)\n",
    "\n",
    "# Indexing\n",
    "dftrain1=dftrain1.set_index('DATETIME')\n",
    "dftrain2=dftrain2.set_index('DATETIME')\n",
    "dftest=dftest.set_index('DATETIME')\n",
    "\n",
    "#dftrain1.shift(1)"
   ]
  },
  {
   "cell_type": "markdown",
   "metadata": {},
   "source": [
    "##### Dropping variables that are not meant to be used in for prediction (levers)."
   ]
  },
  {
   "cell_type": "code",
   "execution_count": 70,
   "metadata": {},
   "outputs": [],
   "source": [
    "dftrain1=dftrain1.drop(['S_PU1','S_PU2','S_PU3','S_PU4','S_PU5','S_PU6','S_PU7','S_PU8','S_PU9','S_PU10','S_PU11','S_V2'],axis=1)\n",
    "dftrain2=dftrain2.drop([' S_PU1',' S_PU2',' S_PU3',' S_PU4',' S_PU5',' S_PU6',' S_PU7',' S_PU8', ' S_PU9',' S_PU10',' S_PU11',' S_V2'],axis=1)"
   ]
  },
  {
   "cell_type": "markdown",
   "metadata": {},
   "source": [
    "##### Normalizing the data\n",
    "\n",
    "All columns but the last column with the binary classification of anomaly."
   ]
  },
  {
   "cell_type": "code",
   "execution_count": 72,
   "metadata": {
    "scrolled": true
   },
   "outputs": [],
   "source": [
    "#Obs: some values will be converted to float\n",
    "#Dftrain1\n",
    "dftrain1.iloc[:,range(0,31)]=preprocessing.scale(dftrain1.iloc[:,range(0,31)])\n",
    "#Dftrain2\n",
    "dftrain2.iloc[:,range(0,31)]=preprocessing.scale(dftrain2.iloc[:,range(0,31)])"
   ]
  },
  {
   "cell_type": "markdown",
   "metadata": {},
   "source": [
    "##### Labling the attacks on dftrain2 according to the information below\n",
    "\n",
    "###### For L_T7\n",
    "13/09/2016 23 - 16/09/2016 00 |\n",
    "26/09/2016 11 - 27/09/2016 10\n",
    "###### For F_PU10 and F_PU11\n",
    "26/09/2016 11 - 27/09/2016 10\n",
    "###### For L_T1\n",
    "09/10/2016 9 - 11/10/2016 20 |\n",
    "29/10/2016 19 - 02/11/2016 16 |\n",
    "14/12/2016 15 - 19/12/2016 04\n",
    "###### For F_PU1 and F_PU2\n",
    "29/10/2016 19 - 02/11/2016 16 |\n",
    "14/12/2016 15 - 19/12/2016 04\n",
    "###### For L_T4\n",
    "26/11/2016 17 - 29/11/2016 04"
   ]
  },
  {
   "cell_type": "code",
   "execution_count": 15,
   "metadata": {},
   "outputs": [],
   "source": [
    "#L_T7\n",
    "dftrain2_L_T7=dftrain2.loc[:,[' L_T7',' ATT_FLAG']]\n",
    "dftrain2_L_T7.loc[:,' ATT_FLAG']=0\n",
    "dftrain2_L_T7.loc['2016-09-13 23':'2016-09-16 00',' ATT_FLAG']=1\n",
    "dftrain2_L_T7.loc['2016-09-26 11':'2016-09-27 10',' ATT_FLAG']=1\n",
    "#F_PU10 and F_PU11\n",
    "dftrain2_F_PU10=dftrain2.loc[:,[' F_PU10',' ATT_FLAG']]\n",
    "dftrain2_F_PU10.loc[:,' ATT_FLAG']=0\n",
    "dftrain2_F_PU10.loc['2016-09-26 11':'2016-09-27 10',' ATT_FLAG']=1\n",
    "\n",
    "dftrain2_F_PU11=dftrain2.loc[:,[' F_PU11',' ATT_FLAG']]\n",
    "dftrain2_F_PU11.loc[:,' ATT_FLAG']=0\n",
    "dftrain2_F_PU11.loc['2016-09-26 11':'2016-09-27 10',' ATT_FLAG']=1\n",
    "#L_T1\n",
    "dftrain2_L_T1=dftrain2.loc[:,[' L_T1',' ATT_FLAG']]\n",
    "dftrain2_L_T1.loc[:,' ATT_FLAG']=0\n",
    "dftrain2_L_T1.loc['2016-10-09 09':'2016-10-11 20',' ATT_FLAG']=1\n",
    "dftrain2_L_T1.loc['2016-10-29 19':'2016-11-02 16',' ATT_FLAG']=1\n",
    "dftrain2_L_T1.loc['2016-12-14 15':'2016-12-19 04',' ATT_FLAG']=1\n",
    "#F_PU1 and F_PU2\n",
    "dftrain2_F_PU1=dftrain2.loc[:,[' F_PU1',' ATT_FLAG']]\n",
    "dftrain2_F_PU1.loc[:,' ATT_FLAG']=0\n",
    "dftrain2_F_PU1.loc['2016-10-29 19':'2016-11-02 16',' ATT_FLAG']=1\n",
    "dftrain2_F_PU1.loc['2016-12-14 15':'2016-12-19 04',' ATT_FLAG']=1\n",
    "\n",
    "dftrain2_F_PU2=dftrain2.loc[:,[' F_PU2',' ATT_FLAG']]\n",
    "dftrain2_F_PU2.loc[:,' ATT_FLAG']=0\n",
    "dftrain2_F_PU2.loc['2016-10-29 19':'2016-11-02 16',' ATT_FLAG']=1\n",
    "dftrain2_F_PU2.loc['2016-12-14 15':'2016-12-19 04',' ATT_FLAG']=1\n",
    "#L_T4\n",
    "dftrain2_L_T4=dftrain2.loc[:,[' L_T4',' ATT_FLAG']]\n",
    "dftrain2_L_T4.loc[:,' ATT_FLAG']=0\n",
    "dftrain2_L_T4.loc['2016-11-26 17':'2016-11-29 04',' ATT_FLAG']=1\n",
    "\n",
    "#dftrain2[' ATT_FLAG']=dftrain2[' ATT_FLAG'].apply(lambda x: 0 if x==-999 else x)"
   ]
  },
  {
   "cell_type": "markdown",
   "metadata": {},
   "source": [
    "## 2) Creating Functions to Evaluate Performance"
   ]
  },
  {
   "cell_type": "markdown",
   "metadata": {},
   "source": [
    "_Observation: some of the code used here was derived from the website: This method was derived from: https://www.oreilly.com/library/view/hands-on-unsupervised-learning/9781492035633/ch04.html that performed a similar analisis using PCA_"
   ]
  },
  {
   "cell_type": "markdown",
   "metadata": {},
   "source": [
    "### Reverse Anomaly Scores"
   ]
  },
  {
   "cell_type": "markdown",
   "metadata": {},
   "source": [
    "The transactions that have the largest sum of squared differences will have an error close to zero, while those that have the smallest sum of squared differences will have an error close to one."
   ]
  },
  {
   "cell_type": "code",
   "execution_count": 155,
   "metadata": {},
   "outputs": [],
   "source": [
    "def ReverseAnomalyScore(originalDF, reducedDF):\n",
    "    #Calculating the square loss\n",
    "    loss = np.sum((np.array(originalDF)-np.array(reducedDF))**2, axis=1)\n",
    "    #Changing format\n",
    "    loss = pd.Series(data=loss,index=originalDF.index)\n",
    "    #Scaling between 0 and 1\n",
    "    loss = (loss-np.min(loss))/(np.max(loss)-np.min(loss))\n",
    "    #Revrsing the order\n",
    "    score=1-loss\n",
    "    return score"
   ]
  },
  {
   "cell_type": "markdown",
   "metadata": {},
   "source": [
    "### Performance"
   ]
  },
  {
   "cell_type": "markdown",
   "metadata": {},
   "source": [
    "Plot anomaly scores and performance metrics. Return predictions if the user wants"
   ]
  },
  {
   "cell_type": "code",
   "execution_count": 154,
   "metadata": {},
   "outputs": [],
   "source": [
    "def plotResults(trueLabels, anomalyScores, returnPreds = False):\n",
    "    preds = pd.concat([trueLabels, anomalyScores], axis=1)\n",
    "    preds.columns = ['trueLabel', 'anomalyScore']\n",
    "    precision, recall, thresholds = \\\n",
    "        precision_recall_curve(preds['trueLabel'],preds['anomalyScore'])\n",
    "    average_precision = \\\n",
    "        average_precision_score(preds['trueLabel'],preds['anomalyScore'])\n",
    "\n",
    "    plt.step(recall, precision, color='k', alpha=0.7, where='post')\n",
    "    plt.fill_between(recall, precision, step='post', alpha=0.3, color='k')\n",
    "\n",
    "    plt.xlabel('Recall')\n",
    "    plt.ylabel('Precision')\n",
    "    plt.ylim([0.0, 1.05])\n",
    "    plt.xlim([0.0, 1.0])\n",
    "\n",
    "    plt.title('Precision-Recall curve: Average Precision = \\\n",
    "    {0:0.2f}'.format(average_precision))\n",
    "\n",
    "    fpr, tpr, thresholds = roc_curve(preds['trueLabel'], \\\n",
    "                                     preds['anomalyScore'])\n",
    "    areaUnderROC = auc(fpr, tpr)\n",
    "\n",
    "    plt.figure()\n",
    "    plt.plot(fpr, tpr, color='r', lw=2, label='ROC curve')\n",
    "    plt.plot([0, 1], [0, 1], color='k', lw=2, linestyle='--')\n",
    "    plt.xlim([0.0, 1.0])\n",
    "    plt.ylim([0.0, 1.05])\n",
    "    plt.xlabel('False Positive Rate')\n",
    "    plt.ylabel('True Positive Rate')\n",
    "    plt.title('Receiver operating characteristic: \\\n",
    "    Area under the curve = {0:0.2f}'.format(areaUnderROC))\n",
    "    plt.legend(loc=\"lower right\")\n",
    "    plt.show()\n",
    "\n",
    "    if returnPreds==True:\n",
    "        return preds"
   ]
  },
  {
   "cell_type": "code",
   "execution_count": null,
   "metadata": {},
   "outputs": [],
   "source": [
    "def pca_performance(ReverseAnomalyScoresPCA,trueLabels):"
   ]
  },
  {
   "cell_type": "markdown",
   "metadata": {},
   "source": [
    "# 3) PCA Algorithm"
   ]
  },
  {
   "cell_type": "markdown",
   "metadata": {},
   "source": [
    "#### Running the PCA for the entire train dataset 1\n",
    "Running the PCA, reversing the PCA to rebuild the dataset and storing it in a dataframe"
   ]
  },
  {
   "cell_type": "code",
   "execution_count": 134,
   "metadata": {},
   "outputs": [],
   "source": [
    "#Creating the function\n",
    "def pca_reverse_trasformation(n_components,random_state,df):\n",
    "    #Creating PCA model\n",
    "    pca = PCA(n_components=n_components, whiten=False, random_state=random_state)\n",
    "    #Applyting PCA transformation to dataset\n",
    "    df_PCA = pca.fit_transform(df)\n",
    "    #Saving in a dataframe format\n",
    "    df_PCA = pd.DataFrame(data=df_PCA, index=df.index)\n",
    "    #Reversing the PCA\n",
    "    df_PCA_inverse = pca.inverse_transform(df_PCA)\n",
    "    #Saving in a dataframe format\n",
    "    df_PCA_inverse = pd.DataFrame(data=df_PCA_inverse,index=df.index)\n",
    "    return df_PCA_inverse\n",
    "\n",
    "#Applying the function\n",
    "n_components = 10\n",
    "random_state = 27\n",
    "df=dftrain1\n",
    "dftrain1_PCA_inverse=pca_reverse_trasformation(n_components,random_state,df)"
   ]
  },
  {
   "cell_type": "markdown",
   "metadata": {},
   "source": [
    "#### Calculating the residuals\n"
   ]
  },
  {
   "cell_type": "code",
   "execution_count": 156,
   "metadata": {},
   "outputs": [
    {
     "data": {
      "text/plain": [
       "[<matplotlib.lines.Line2D at 0x241003ebc18>]"
      ]
     },
     "execution_count": 156,
     "metadata": {},
     "output_type": "execute_result"
    },
    {
     "data": {
      "image/png": "[encoded data removed]",
      "text/plain": [
       "<Figure size 432x288 with 1 Axes>"
      ]
     },
     "metadata": {
      "needs_background": "light"
     },
     "output_type": "display_data"
    }
   ],
   "source": [
    "def residuals_pca(original_column,pca_column):\n",
    "    #Creating DF with the selected column from the transformed dataset\n",
    "    PCA_L_T4=pd.DataFrame(data=pca_column,index=pca_column.index)\n",
    "    PCA_L_T4.columns = ['transformed']\n",
    "    PCA_L_T4[\"original\"]=original_column\n",
    "    #Calculating the residuals\n",
    "    PCA_L_T4[\"residuals\"]=PCA_L_T4[\"original\"]-PCA_L_T4['transformed']\n",
    "    return  PCA_L_T4\n",
    "\n",
    "#Testing\n",
    "original_column=dftrain2[\"L_T4\"]\n",
    "pca_column=dftrain1_PCA_inverse[dftrain1.columns.get_loc(\"L_T4\")]\n",
    "PCA_L_T4=residuals_pca(original_column,pca_column)\n",
    "#Plot\n",
    "plt.plot(PCA_L_T4[\"residuals\"])"
   ]
  },
  {
   "cell_type": "markdown",
   "metadata": {},
   "source": [
    "# 4) Predicting Anomalies"
   ]
  },
  {
   "cell_type": "markdown",
   "metadata": {},
   "source": [
    "Calculating anomaly scores for each row"
   ]
  },
  {
   "cell_type": "code",
   "execution_count": 153,
   "metadata": {},
   "outputs": [],
   "source": [
    "ReverseAnomalyScoresPCA = ReverseAnomalyScore(dftrain1, dftrain1_PCA_inverse)\n",
    "##preds = plotResults(y_train, anomalyScoresPCA, True)"
   ]
  },
  {
   "cell_type": "markdown",
   "metadata": {},
   "source": [
    "#### Creating function that iteratively"
   ]
  },
  {
   "cell_type": "code",
   "execution_count": null,
   "metadata": {},
   "outputs": [],
   "source": []
  }
 ],
 "metadata": {
  "kernelspec": {
   "display_name": "Python 3",
   "language": "python",
   "name": "python3"
  },
  "language_info": {
   "codemirror_mode": {
    "name": "ipython",
    "version": 3
   },
   "file_extension": ".py",
   "mimetype": "text/x-python",
   "name": "python",
   "nbconvert_exporter": "python",
   "pygments_lexer": "ipython3",
   "version": "3.7.1"
  }
 },
 "nbformat": 4,
 "nbformat_minor": 2
}
